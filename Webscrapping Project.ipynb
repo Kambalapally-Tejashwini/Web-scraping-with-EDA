{
 "cells": [
  {
   "cell_type": "markdown",
   "id": "7ac88752",
   "metadata": {},
   "source": [
    "# Scrapping Data"
   ]
  },
  {
   "cell_type": "code",
   "execution_count": 1,
   "id": "62b5613e",
   "metadata": {},
   "outputs": [],
   "source": [
    "from bs4 import BeautifulSoup \n",
    "import requests \n",
    "import csv\n",
    "import pandas as pd\n",
    "import numpy as np"
   ]
  },
  {
   "cell_type": "code",
   "execution_count": 3,
   "id": "4dc712db",
   "metadata": {},
   "outputs": [],
   "source": [
    "descriptions = [] \n",
    "processors=[]\n",
    "ram=[]\n",
    "os=[]\n",
    "rom=[]\n",
    "inches=[]\n",
    "warranty=[]\n",
    "prices = []\n",
    "ratings = []"
   ]
  },
  {
   "cell_type": "code",
   "execution_count": 6,
   "id": "ff47e83f",
   "metadata": {},
   "outputs": [],
   "source": [
    "pages = list(range(1,50))\n",
    "for page in pages:\n",
    "    req = requests.get(\"https://www.flipkart.com/search?q=laptops&otracker=search&otracker1=search&marketplace=FLIPKART&as-show=on&as=off&as-pos=1&as-type=HISTORY&as-backfill=on&page={}\".format(page)).text \n",
    "    soup = BeautifulSoup(req,'html.parser')\n",
    "\n",
    "    desc = soup.find_all('div' , class_='_4rR01T')\n",
    "    for i in range(len(desc)):\n",
    "        descriptions.append(desc[i].text)\n",
    "    len(descriptions)\n",
    "\n",
    "    commonclass = soup.find_all('li',class_='rgWa7D')\n",
    "    for i in range(0,len(commonclass)):\n",
    "        p=commonclass[i].text \n",
    "        if(\"Core\" in p): \n",
    "            processors.append(p)\n",
    "        elif(\"RAM\" in p): \n",
    "            ram.append(p)\n",
    "        elif(\"HDD\" in p or \"SSD\" in p):\n",
    "            rom.append(p)\n",
    "        elif(\"Operating\" in p):\n",
    "            os.append(p)\n",
    "        elif(\"inch\" in p):\n",
    "            inches.append(p)\n",
    "        elif(\"Warranty\" in p):\n",
    "            warranty.append(p)\n",
    "     \n",
    "\n",
    "    price = soup.find_all('div',class_='_30jeq3 _1_WHN1') \n",
    "    for i in range(len(price)):\n",
    "        prices.append(price[i].text)\n",
    "        len(prices)\n",
    "            \n",
    "\n",
    "    rating = soup.find_all('div',class_='_3LWZlK') \n",
    "    for i in range(len(rating)):\n",
    "        ratings.append(rating[i].text)\n",
    "        len(ratings)"
   ]
  },
  {
   "cell_type": "code",
   "execution_count": 7,
   "id": "7737e452",
   "metadata": {},
   "outputs": [
    {
     "name": "stdout",
     "output_type": "stream",
     "text": [
      "929\n",
      "904\n",
      "929\n",
      "937\n",
      "914\n",
      "838\n",
      "758\n",
      "905\n",
      "1223\n"
     ]
    }
   ],
   "source": [
    "print(len(descriptions))\n",
    "print(len(processors))\n",
    "print(len(ram))\n",
    "print(len(os))\n",
    "print(len(rom))\n",
    "print(len(warranty))\n",
    "print(len(inches))\n",
    "print(len(prices))\n",
    "print(len(ratings))"
   ]
  },
  {
   "cell_type": "code",
   "execution_count": 8,
   "id": "3cc98e3a",
   "metadata": {},
   "outputs": [],
   "source": [
    "df = {'Description':descriptions[slice(700)],\n",
    "      'Processor':processors[slice(700)],\n",
    "      'RAM':ram[slice(700)],\n",
    "      'Operating System':os[slice(700)],\n",
    "      'ROM':rom[slice(700)],'Display':inches[slice(700)],\n",
    "      'Warranty':warranty[slice(700)],\n",
    "      'Price':prices[slice(700)],\n",
    "      'Rating':ratings[slice(700)]}\n",
    "dataset = pd.DataFrame(data = df)"
   ]
  },
  {
   "cell_type": "code",
   "execution_count": 9,
   "id": "d338106b",
   "metadata": {},
   "outputs": [
    {
     "data": {
      "text/html": [
       "<div>\n",
       "<style scoped>\n",
       "    .dataframe tbody tr th:only-of-type {\n",
       "        vertical-align: middle;\n",
       "    }\n",
       "\n",
       "    .dataframe tbody tr th {\n",
       "        vertical-align: top;\n",
       "    }\n",
       "\n",
       "    .dataframe thead th {\n",
       "        text-align: right;\n",
       "    }\n",
       "</style>\n",
       "<table border=\"1\" class=\"dataframe\">\n",
       "  <thead>\n",
       "    <tr style=\"text-align: right;\">\n",
       "      <th></th>\n",
       "      <th>Description</th>\n",
       "      <th>Processor</th>\n",
       "      <th>RAM</th>\n",
       "      <th>Operating System</th>\n",
       "      <th>ROM</th>\n",
       "      <th>Display</th>\n",
       "      <th>Warranty</th>\n",
       "      <th>Price</th>\n",
       "      <th>Rating</th>\n",
       "    </tr>\n",
       "  </thead>\n",
       "  <tbody>\n",
       "    <tr>\n",
       "      <th>0</th>\n",
       "      <td>HP Pavilion Ryzen 5 Hexa Core 5500U - (8 GB/51...</td>\n",
       "      <td>AMD Ryzen 5 Hexa Core Processor</td>\n",
       "      <td>8 GB DDR4 RAM</td>\n",
       "      <td>64 bit Windows 10 Operating System</td>\n",
       "      <td>512 GB SSD</td>\n",
       "      <td>39.62 cm (15.6 inch) Display</td>\n",
       "      <td>1 Year Onsite Warranty</td>\n",
       "      <td>₹57,949</td>\n",
       "      <td>4.5</td>\n",
       "    </tr>\n",
       "    <tr>\n",
       "      <th>1</th>\n",
       "      <td>HP Core i3 11th Gen - (8 GB/512 GB SSD/Windows...</td>\n",
       "      <td>Intel Core i3 Processor (11th Gen)</td>\n",
       "      <td>8 GB DDR4 RAM</td>\n",
       "      <td>64 bit Windows 11 Operating System</td>\n",
       "      <td>512 GB SSD</td>\n",
       "      <td>39.62 cm (15.6 inch) Display</td>\n",
       "      <td>1 Year Onsite Warranty</td>\n",
       "      <td>₹41,940</td>\n",
       "      <td>4.4</td>\n",
       "    </tr>\n",
       "    <tr>\n",
       "      <th>2</th>\n",
       "      <td>ASUS VivoBook 15 (2021) Core i3 10th Gen - (8 ...</td>\n",
       "      <td>Intel Core i3 Processor (10th Gen)</td>\n",
       "      <td>8 GB DDR4 RAM</td>\n",
       "      <td>64 bit Windows 11 Operating System</td>\n",
       "      <td>512 GB SSD</td>\n",
       "      <td>39.62 cm (15.6 inch) Display</td>\n",
       "      <td>1 Year Onsite Warranty</td>\n",
       "      <td>₹37,940</td>\n",
       "      <td>4.3</td>\n",
       "    </tr>\n",
       "    <tr>\n",
       "      <th>3</th>\n",
       "      <td>Lenovo IdeaPad 3 Core i3 10th Gen - (8 GB/256 ...</td>\n",
       "      <td>Intel Core i3 Processor (10th Gen)</td>\n",
       "      <td>8 GB DDR4 RAM</td>\n",
       "      <td>Windows 10 Operating System</td>\n",
       "      <td>256 GB SSD</td>\n",
       "      <td>39.62 cm (15.6 inch) Display</td>\n",
       "      <td>2 Years Warranty</td>\n",
       "      <td>₹37,940</td>\n",
       "      <td>4.3</td>\n",
       "    </tr>\n",
       "    <tr>\n",
       "      <th>4</th>\n",
       "      <td>acer Aspire 7 Core i5 10th Gen - (8 GB/512 GB ...</td>\n",
       "      <td>Intel Core i5 Processor (10th Gen)</td>\n",
       "      <td>8 GB DDR4 RAM</td>\n",
       "      <td>64 bit Windows 10 Operating System</td>\n",
       "      <td>512 GB SSD</td>\n",
       "      <td>39.62 cm (15.6 inch) Display</td>\n",
       "      <td>1 Year International Travelers Warranty</td>\n",
       "      <td>₹50,940</td>\n",
       "      <td>4.4</td>\n",
       "    </tr>\n",
       "    <tr>\n",
       "      <th>...</th>\n",
       "      <td>...</td>\n",
       "      <td>...</td>\n",
       "      <td>...</td>\n",
       "      <td>...</td>\n",
       "      <td>...</td>\n",
       "      <td>...</td>\n",
       "      <td>...</td>\n",
       "      <td>...</td>\n",
       "      <td>...</td>\n",
       "    </tr>\n",
       "    <tr>\n",
       "      <th>695</th>\n",
       "      <td>Lenovo Core i3 10th Gen - (8 GB/256 GB SSD/Win...</td>\n",
       "      <td>AMD Ryzen 7 Octa Core Processor</td>\n",
       "      <td>8 GB DDR4 RAM</td>\n",
       "      <td>64 bit Windows 11 Operating System</td>\n",
       "      <td>512 GB SSD</td>\n",
       "      <td>35.56 cm (14 inch) Touchscreen Display</td>\n",
       "      <td>1 Year Onsite Warranty</td>\n",
       "      <td>₹44,340</td>\n",
       "      <td>3.8</td>\n",
       "    </tr>\n",
       "    <tr>\n",
       "      <th>696</th>\n",
       "      <td>DELL Core i5 11th Gen - (16 GB/512 GB SSD/Wind...</td>\n",
       "      <td>AMD Ryzen 5 Hexa Core Processor</td>\n",
       "      <td>16 GB DDR4 RAM</td>\n",
       "      <td>64 bit Windows 10 Operating System</td>\n",
       "      <td>1 TB SSD</td>\n",
       "      <td>35.56 cm (14 inch) Touchscreen Display</td>\n",
       "      <td>1 Year Onsite Warranty</td>\n",
       "      <td>₹44,340</td>\n",
       "      <td>4</td>\n",
       "    </tr>\n",
       "    <tr>\n",
       "      <th>697</th>\n",
       "      <td>Lenovo Thinpad E15 G2 Core i5 11th Gen - (8 GB...</td>\n",
       "      <td>Intel Core i3 Processor (11th Gen)</td>\n",
       "      <td>8 GB DDR4 RAM</td>\n",
       "      <td>64 bit Windows 10 Operating System</td>\n",
       "      <td>1 TB HDD</td>\n",
       "      <td>39.62 cm (15.6 inch) Display</td>\n",
       "      <td>1 Year Onsite Warranty</td>\n",
       "      <td>₹2,34,940</td>\n",
       "      <td>4.1</td>\n",
       "    </tr>\n",
       "    <tr>\n",
       "      <th>698</th>\n",
       "      <td>ASUS ROG Zephyrus G15 (2021) Ryzen 9 Octa Core...</td>\n",
       "      <td>Intel Core i3 Processor (11th Gen)</td>\n",
       "      <td>16 GB DDR4 RAM</td>\n",
       "      <td>64 bit Windows 10 Operating System</td>\n",
       "      <td>512 GB SSD</td>\n",
       "      <td>35.56 cm (14 inch) Touchscreen Display</td>\n",
       "      <td>1 Year Onsite Warranty</td>\n",
       "      <td>₹44,326</td>\n",
       "      <td>4.7</td>\n",
       "    </tr>\n",
       "    <tr>\n",
       "      <th>699</th>\n",
       "      <td>HP Pavilion Ryzen 5 Hexa Core 5500U - (8 GB/51...</td>\n",
       "      <td>AMD Ryzen 9 Octa Core Processor</td>\n",
       "      <td>8 GB DDR4 RAM</td>\n",
       "      <td>64 bit Windows 11 Operating System</td>\n",
       "      <td>512 GB HDD|512 GB SSD</td>\n",
       "      <td>35.56 cm (14 inch) Display</td>\n",
       "      <td>1 Year Onsite Warranty</td>\n",
       "      <td>₹59,940</td>\n",
       "      <td>4.5</td>\n",
       "    </tr>\n",
       "  </tbody>\n",
       "</table>\n",
       "<p>700 rows × 9 columns</p>\n",
       "</div>"
      ],
      "text/plain": [
       "                                           Description  \\\n",
       "0    HP Pavilion Ryzen 5 Hexa Core 5500U - (8 GB/51...   \n",
       "1    HP Core i3 11th Gen - (8 GB/512 GB SSD/Windows...   \n",
       "2    ASUS VivoBook 15 (2021) Core i3 10th Gen - (8 ...   \n",
       "3    Lenovo IdeaPad 3 Core i3 10th Gen - (8 GB/256 ...   \n",
       "4    acer Aspire 7 Core i5 10th Gen - (8 GB/512 GB ...   \n",
       "..                                                 ...   \n",
       "695  Lenovo Core i3 10th Gen - (8 GB/256 GB SSD/Win...   \n",
       "696  DELL Core i5 11th Gen - (16 GB/512 GB SSD/Wind...   \n",
       "697  Lenovo Thinpad E15 G2 Core i5 11th Gen - (8 GB...   \n",
       "698  ASUS ROG Zephyrus G15 (2021) Ryzen 9 Octa Core...   \n",
       "699  HP Pavilion Ryzen 5 Hexa Core 5500U - (8 GB/51...   \n",
       "\n",
       "                              Processor             RAM  \\\n",
       "0       AMD Ryzen 5 Hexa Core Processor   8 GB DDR4 RAM   \n",
       "1    Intel Core i3 Processor (11th Gen)   8 GB DDR4 RAM   \n",
       "2    Intel Core i3 Processor (10th Gen)   8 GB DDR4 RAM   \n",
       "3    Intel Core i3 Processor (10th Gen)   8 GB DDR4 RAM   \n",
       "4    Intel Core i5 Processor (10th Gen)   8 GB DDR4 RAM   \n",
       "..                                  ...             ...   \n",
       "695     AMD Ryzen 7 Octa Core Processor   8 GB DDR4 RAM   \n",
       "696     AMD Ryzen 5 Hexa Core Processor  16 GB DDR4 RAM   \n",
       "697  Intel Core i3 Processor (11th Gen)   8 GB DDR4 RAM   \n",
       "698  Intel Core i3 Processor (11th Gen)  16 GB DDR4 RAM   \n",
       "699     AMD Ryzen 9 Octa Core Processor   8 GB DDR4 RAM   \n",
       "\n",
       "                       Operating System                    ROM  \\\n",
       "0    64 bit Windows 10 Operating System             512 GB SSD   \n",
       "1    64 bit Windows 11 Operating System             512 GB SSD   \n",
       "2    64 bit Windows 11 Operating System             512 GB SSD   \n",
       "3           Windows 10 Operating System             256 GB SSD   \n",
       "4    64 bit Windows 10 Operating System             512 GB SSD   \n",
       "..                                  ...                    ...   \n",
       "695  64 bit Windows 11 Operating System             512 GB SSD   \n",
       "696  64 bit Windows 10 Operating System               1 TB SSD   \n",
       "697  64 bit Windows 10 Operating System               1 TB HDD   \n",
       "698  64 bit Windows 10 Operating System             512 GB SSD   \n",
       "699  64 bit Windows 11 Operating System  512 GB HDD|512 GB SSD   \n",
       "\n",
       "                                    Display  \\\n",
       "0              39.62 cm (15.6 inch) Display   \n",
       "1              39.62 cm (15.6 inch) Display   \n",
       "2              39.62 cm (15.6 inch) Display   \n",
       "3              39.62 cm (15.6 inch) Display   \n",
       "4              39.62 cm (15.6 inch) Display   \n",
       "..                                      ...   \n",
       "695  35.56 cm (14 inch) Touchscreen Display   \n",
       "696  35.56 cm (14 inch) Touchscreen Display   \n",
       "697            39.62 cm (15.6 inch) Display   \n",
       "698  35.56 cm (14 inch) Touchscreen Display   \n",
       "699              35.56 cm (14 inch) Display   \n",
       "\n",
       "                                    Warranty      Price Rating  \n",
       "0                     1 Year Onsite Warranty    ₹57,949    4.5  \n",
       "1                     1 Year Onsite Warranty    ₹41,940    4.4  \n",
       "2                     1 Year Onsite Warranty    ₹37,940    4.3  \n",
       "3                           2 Years Warranty    ₹37,940    4.3  \n",
       "4    1 Year International Travelers Warranty    ₹50,940    4.4  \n",
       "..                                       ...        ...    ...  \n",
       "695                   1 Year Onsite Warranty    ₹44,340    3.8  \n",
       "696                   1 Year Onsite Warranty    ₹44,340      4  \n",
       "697                   1 Year Onsite Warranty  ₹2,34,940    4.1  \n",
       "698                   1 Year Onsite Warranty    ₹44,326    4.7  \n",
       "699                   1 Year Onsite Warranty    ₹59,940    4.5  \n",
       "\n",
       "[700 rows x 9 columns]"
      ]
     },
     "execution_count": 9,
     "metadata": {},
     "output_type": "execute_result"
    }
   ],
   "source": [
    "dataset"
   ]
  },
  {
   "cell_type": "code",
   "execution_count": 10,
   "id": "164e6a45",
   "metadata": {},
   "outputs": [],
   "source": [
    "dataset.to_csv('laptops.csv')"
   ]
  },
  {
   "cell_type": "code",
   "execution_count": 11,
   "id": "5667e956",
   "metadata": {},
   "outputs": [],
   "source": [
    "df = pd.read_csv('laptops.csv')"
   ]
  },
  {
   "cell_type": "code",
   "execution_count": 12,
   "id": "6adb4d62",
   "metadata": {},
   "outputs": [
    {
     "data": {
      "text/html": [
       "<div>\n",
       "<style scoped>\n",
       "    .dataframe tbody tr th:only-of-type {\n",
       "        vertical-align: middle;\n",
       "    }\n",
       "\n",
       "    .dataframe tbody tr th {\n",
       "        vertical-align: top;\n",
       "    }\n",
       "\n",
       "    .dataframe thead th {\n",
       "        text-align: right;\n",
       "    }\n",
       "</style>\n",
       "<table border=\"1\" class=\"dataframe\">\n",
       "  <thead>\n",
       "    <tr style=\"text-align: right;\">\n",
       "      <th></th>\n",
       "      <th>Unnamed: 0</th>\n",
       "      <th>Description</th>\n",
       "      <th>Processor</th>\n",
       "      <th>RAM</th>\n",
       "      <th>Operating System</th>\n",
       "      <th>ROM</th>\n",
       "      <th>Display</th>\n",
       "      <th>Warranty</th>\n",
       "      <th>Price</th>\n",
       "      <th>Rating</th>\n",
       "    </tr>\n",
       "  </thead>\n",
       "  <tbody>\n",
       "    <tr>\n",
       "      <th>0</th>\n",
       "      <td>0</td>\n",
       "      <td>HP Pavilion Ryzen 5 Hexa Core 5500U - (8 GB/51...</td>\n",
       "      <td>AMD Ryzen 5 Hexa Core Processor</td>\n",
       "      <td>8 GB DDR4 RAM</td>\n",
       "      <td>64 bit Windows 10 Operating System</td>\n",
       "      <td>512 GB SSD</td>\n",
       "      <td>39.62 cm (15.6 inch) Display</td>\n",
       "      <td>1 Year Onsite Warranty</td>\n",
       "      <td>₹57,949</td>\n",
       "      <td>4.5</td>\n",
       "    </tr>\n",
       "    <tr>\n",
       "      <th>1</th>\n",
       "      <td>1</td>\n",
       "      <td>HP Core i3 11th Gen - (8 GB/512 GB SSD/Windows...</td>\n",
       "      <td>Intel Core i3 Processor (11th Gen)</td>\n",
       "      <td>8 GB DDR4 RAM</td>\n",
       "      <td>64 bit Windows 11 Operating System</td>\n",
       "      <td>512 GB SSD</td>\n",
       "      <td>39.62 cm (15.6 inch) Display</td>\n",
       "      <td>1 Year Onsite Warranty</td>\n",
       "      <td>₹41,940</td>\n",
       "      <td>4.4</td>\n",
       "    </tr>\n",
       "    <tr>\n",
       "      <th>2</th>\n",
       "      <td>2</td>\n",
       "      <td>ASUS VivoBook 15 (2021) Core i3 10th Gen - (8 ...</td>\n",
       "      <td>Intel Core i3 Processor (10th Gen)</td>\n",
       "      <td>8 GB DDR4 RAM</td>\n",
       "      <td>64 bit Windows 11 Operating System</td>\n",
       "      <td>512 GB SSD</td>\n",
       "      <td>39.62 cm (15.6 inch) Display</td>\n",
       "      <td>1 Year Onsite Warranty</td>\n",
       "      <td>₹37,940</td>\n",
       "      <td>4.3</td>\n",
       "    </tr>\n",
       "    <tr>\n",
       "      <th>3</th>\n",
       "      <td>3</td>\n",
       "      <td>Lenovo IdeaPad 3 Core i3 10th Gen - (8 GB/256 ...</td>\n",
       "      <td>Intel Core i3 Processor (10th Gen)</td>\n",
       "      <td>8 GB DDR4 RAM</td>\n",
       "      <td>Windows 10 Operating System</td>\n",
       "      <td>256 GB SSD</td>\n",
       "      <td>39.62 cm (15.6 inch) Display</td>\n",
       "      <td>2 Years Warranty</td>\n",
       "      <td>₹37,940</td>\n",
       "      <td>4.3</td>\n",
       "    </tr>\n",
       "    <tr>\n",
       "      <th>4</th>\n",
       "      <td>4</td>\n",
       "      <td>acer Aspire 7 Core i5 10th Gen - (8 GB/512 GB ...</td>\n",
       "      <td>Intel Core i5 Processor (10th Gen)</td>\n",
       "      <td>8 GB DDR4 RAM</td>\n",
       "      <td>64 bit Windows 10 Operating System</td>\n",
       "      <td>512 GB SSD</td>\n",
       "      <td>39.62 cm (15.6 inch) Display</td>\n",
       "      <td>1 Year International Travelers Warranty</td>\n",
       "      <td>₹50,940</td>\n",
       "      <td>4.4</td>\n",
       "    </tr>\n",
       "  </tbody>\n",
       "</table>\n",
       "</div>"
      ],
      "text/plain": [
       "   Unnamed: 0                                        Description  \\\n",
       "0           0  HP Pavilion Ryzen 5 Hexa Core 5500U - (8 GB/51...   \n",
       "1           1  HP Core i3 11th Gen - (8 GB/512 GB SSD/Windows...   \n",
       "2           2  ASUS VivoBook 15 (2021) Core i3 10th Gen - (8 ...   \n",
       "3           3  Lenovo IdeaPad 3 Core i3 10th Gen - (8 GB/256 ...   \n",
       "4           4  acer Aspire 7 Core i5 10th Gen - (8 GB/512 GB ...   \n",
       "\n",
       "                            Processor            RAM  \\\n",
       "0     AMD Ryzen 5 Hexa Core Processor  8 GB DDR4 RAM   \n",
       "1  Intel Core i3 Processor (11th Gen)  8 GB DDR4 RAM   \n",
       "2  Intel Core i3 Processor (10th Gen)  8 GB DDR4 RAM   \n",
       "3  Intel Core i3 Processor (10th Gen)  8 GB DDR4 RAM   \n",
       "4  Intel Core i5 Processor (10th Gen)  8 GB DDR4 RAM   \n",
       "\n",
       "                     Operating System         ROM  \\\n",
       "0  64 bit Windows 10 Operating System  512 GB SSD   \n",
       "1  64 bit Windows 11 Operating System  512 GB SSD   \n",
       "2  64 bit Windows 11 Operating System  512 GB SSD   \n",
       "3         Windows 10 Operating System  256 GB SSD   \n",
       "4  64 bit Windows 10 Operating System  512 GB SSD   \n",
       "\n",
       "                        Display                                 Warranty  \\\n",
       "0  39.62 cm (15.6 inch) Display                   1 Year Onsite Warranty   \n",
       "1  39.62 cm (15.6 inch) Display                   1 Year Onsite Warranty   \n",
       "2  39.62 cm (15.6 inch) Display                   1 Year Onsite Warranty   \n",
       "3  39.62 cm (15.6 inch) Display                         2 Years Warranty   \n",
       "4  39.62 cm (15.6 inch) Display  1 Year International Travelers Warranty   \n",
       "\n",
       "     Price  Rating  \n",
       "0  ₹57,949     4.5  \n",
       "1  ₹41,940     4.4  \n",
       "2  ₹37,940     4.3  \n",
       "3  ₹37,940     4.3  \n",
       "4  ₹50,940     4.4  "
      ]
     },
     "execution_count": 12,
     "metadata": {},
     "output_type": "execute_result"
    }
   ],
   "source": [
    "df.head()"
   ]
  },
  {
   "cell_type": "code",
   "execution_count": 13,
   "id": "cd28ea0d",
   "metadata": {},
   "outputs": [
    {
     "data": {
      "text/plain": [
       "(700, 10)"
      ]
     },
     "execution_count": 13,
     "metadata": {},
     "output_type": "execute_result"
    }
   ],
   "source": [
    "df.shape"
   ]
  },
  {
   "cell_type": "markdown",
   "id": "b9756649",
   "metadata": {},
   "source": [
    "# Data Cleaning"
   ]
  },
  {
   "cell_type": "code",
   "execution_count": 2,
   "id": "d5ddcd81",
   "metadata": {},
   "outputs": [],
   "source": [
    "import pandas as pd\n",
    "import numpy as np"
   ]
  },
  {
   "cell_type": "code",
   "execution_count": 3,
   "id": "133a354a",
   "metadata": {},
   "outputs": [],
   "source": [
    "df = pd.read_csv('laptops.csv')"
   ]
  },
  {
   "cell_type": "code",
   "execution_count": 4,
   "id": "3f8b9f3c",
   "metadata": {},
   "outputs": [
    {
     "data": {
      "text/html": [
       "<div>\n",
       "<style scoped>\n",
       "    .dataframe tbody tr th:only-of-type {\n",
       "        vertical-align: middle;\n",
       "    }\n",
       "\n",
       "    .dataframe tbody tr th {\n",
       "        vertical-align: top;\n",
       "    }\n",
       "\n",
       "    .dataframe thead th {\n",
       "        text-align: right;\n",
       "    }\n",
       "</style>\n",
       "<table border=\"1\" class=\"dataframe\">\n",
       "  <thead>\n",
       "    <tr style=\"text-align: right;\">\n",
       "      <th></th>\n",
       "      <th>Unnamed: 0</th>\n",
       "      <th>Description</th>\n",
       "      <th>Processor</th>\n",
       "      <th>RAM</th>\n",
       "      <th>Operating System</th>\n",
       "      <th>ROM</th>\n",
       "      <th>Display</th>\n",
       "      <th>Warranty</th>\n",
       "      <th>Price</th>\n",
       "      <th>Rating</th>\n",
       "    </tr>\n",
       "  </thead>\n",
       "  <tbody>\n",
       "    <tr>\n",
       "      <th>0</th>\n",
       "      <td>0</td>\n",
       "      <td>HP Pavilion Ryzen 5 Hexa Core 5500U - (8 GB/51...</td>\n",
       "      <td>AMD Ryzen 5 Hexa Core Processor</td>\n",
       "      <td>8 GB DDR4 RAM</td>\n",
       "      <td>64 bit Windows 10 Operating System</td>\n",
       "      <td>512 GB SSD</td>\n",
       "      <td>39.62 cm (15.6 inch) Display</td>\n",
       "      <td>1 Year Onsite Warranty</td>\n",
       "      <td>₹57,949</td>\n",
       "      <td>4.5</td>\n",
       "    </tr>\n",
       "    <tr>\n",
       "      <th>1</th>\n",
       "      <td>1</td>\n",
       "      <td>HP Core i3 11th Gen - (8 GB/512 GB SSD/Windows...</td>\n",
       "      <td>Intel Core i3 Processor (11th Gen)</td>\n",
       "      <td>8 GB DDR4 RAM</td>\n",
       "      <td>64 bit Windows 11 Operating System</td>\n",
       "      <td>512 GB SSD</td>\n",
       "      <td>39.62 cm (15.6 inch) Display</td>\n",
       "      <td>1 Year Onsite Warranty</td>\n",
       "      <td>₹41,940</td>\n",
       "      <td>4.4</td>\n",
       "    </tr>\n",
       "    <tr>\n",
       "      <th>2</th>\n",
       "      <td>2</td>\n",
       "      <td>ASUS VivoBook 15 (2021) Core i3 10th Gen - (8 ...</td>\n",
       "      <td>Intel Core i3 Processor (10th Gen)</td>\n",
       "      <td>8 GB DDR4 RAM</td>\n",
       "      <td>64 bit Windows 11 Operating System</td>\n",
       "      <td>512 GB SSD</td>\n",
       "      <td>39.62 cm (15.6 inch) Display</td>\n",
       "      <td>1 Year Onsite Warranty</td>\n",
       "      <td>₹37,940</td>\n",
       "      <td>4.3</td>\n",
       "    </tr>\n",
       "    <tr>\n",
       "      <th>3</th>\n",
       "      <td>3</td>\n",
       "      <td>Lenovo IdeaPad 3 Core i3 10th Gen - (8 GB/256 ...</td>\n",
       "      <td>Intel Core i3 Processor (10th Gen)</td>\n",
       "      <td>8 GB DDR4 RAM</td>\n",
       "      <td>Windows 10 Operating System</td>\n",
       "      <td>256 GB SSD</td>\n",
       "      <td>39.62 cm (15.6 inch) Display</td>\n",
       "      <td>2 Years Warranty</td>\n",
       "      <td>₹37,940</td>\n",
       "      <td>4.3</td>\n",
       "    </tr>\n",
       "    <tr>\n",
       "      <th>4</th>\n",
       "      <td>4</td>\n",
       "      <td>acer Aspire 7 Core i5 10th Gen - (8 GB/512 GB ...</td>\n",
       "      <td>Intel Core i5 Processor (10th Gen)</td>\n",
       "      <td>8 GB DDR4 RAM</td>\n",
       "      <td>64 bit Windows 10 Operating System</td>\n",
       "      <td>512 GB SSD</td>\n",
       "      <td>39.62 cm (15.6 inch) Display</td>\n",
       "      <td>1 Year International Travelers Warranty</td>\n",
       "      <td>₹50,940</td>\n",
       "      <td>4.4</td>\n",
       "    </tr>\n",
       "  </tbody>\n",
       "</table>\n",
       "</div>"
      ],
      "text/plain": [
       "   Unnamed: 0                                        Description  \\\n",
       "0           0  HP Pavilion Ryzen 5 Hexa Core 5500U - (8 GB/51...   \n",
       "1           1  HP Core i3 11th Gen - (8 GB/512 GB SSD/Windows...   \n",
       "2           2  ASUS VivoBook 15 (2021) Core i3 10th Gen - (8 ...   \n",
       "3           3  Lenovo IdeaPad 3 Core i3 10th Gen - (8 GB/256 ...   \n",
       "4           4  acer Aspire 7 Core i5 10th Gen - (8 GB/512 GB ...   \n",
       "\n",
       "                            Processor            RAM  \\\n",
       "0     AMD Ryzen 5 Hexa Core Processor  8 GB DDR4 RAM   \n",
       "1  Intel Core i3 Processor (11th Gen)  8 GB DDR4 RAM   \n",
       "2  Intel Core i3 Processor (10th Gen)  8 GB DDR4 RAM   \n",
       "3  Intel Core i3 Processor (10th Gen)  8 GB DDR4 RAM   \n",
       "4  Intel Core i5 Processor (10th Gen)  8 GB DDR4 RAM   \n",
       "\n",
       "                     Operating System         ROM  \\\n",
       "0  64 bit Windows 10 Operating System  512 GB SSD   \n",
       "1  64 bit Windows 11 Operating System  512 GB SSD   \n",
       "2  64 bit Windows 11 Operating System  512 GB SSD   \n",
       "3         Windows 10 Operating System  256 GB SSD   \n",
       "4  64 bit Windows 10 Operating System  512 GB SSD   \n",
       "\n",
       "                        Display                                 Warranty  \\\n",
       "0  39.62 cm (15.6 inch) Display                   1 Year Onsite Warranty   \n",
       "1  39.62 cm (15.6 inch) Display                   1 Year Onsite Warranty   \n",
       "2  39.62 cm (15.6 inch) Display                   1 Year Onsite Warranty   \n",
       "3  39.62 cm (15.6 inch) Display                         2 Years Warranty   \n",
       "4  39.62 cm (15.6 inch) Display  1 Year International Travelers Warranty   \n",
       "\n",
       "     Price  Rating  \n",
       "0  ₹57,949     4.5  \n",
       "1  ₹41,940     4.4  \n",
       "2  ₹37,940     4.3  \n",
       "3  ₹37,940     4.3  \n",
       "4  ₹50,940     4.4  "
      ]
     },
     "execution_count": 4,
     "metadata": {},
     "output_type": "execute_result"
    }
   ],
   "source": [
    "df.head()"
   ]
  },
  {
   "cell_type": "code",
   "execution_count": 5,
   "id": "d64681ec",
   "metadata": {},
   "outputs": [
    {
     "data": {
      "text/plain": [
       "(700, 10)"
      ]
     },
     "execution_count": 5,
     "metadata": {},
     "output_type": "execute_result"
    }
   ],
   "source": [
    "df.shape"
   ]
  },
  {
   "cell_type": "code",
   "execution_count": 6,
   "id": "21240a84",
   "metadata": {},
   "outputs": [
    {
     "data": {
      "text/plain": [
       "Unnamed: 0          0\n",
       "Description         0\n",
       "Processor           0\n",
       "RAM                 0\n",
       "Operating System    0\n",
       "ROM                 0\n",
       "Display             0\n",
       "Warranty            0\n",
       "Price               0\n",
       "Rating              0\n",
       "dtype: int64"
      ]
     },
     "execution_count": 6,
     "metadata": {},
     "output_type": "execute_result"
    }
   ],
   "source": [
    "df.isnull().sum()"
   ]
  },
  {
   "cell_type": "code",
   "execution_count": 7,
   "id": "d0225cf0",
   "metadata": {},
   "outputs": [
    {
     "data": {
      "text/plain": [
       "Index(['Unnamed: 0', 'Description', 'Processor', 'RAM', 'Operating System',\n",
       "       'ROM', 'Display', 'Warranty', 'Price', 'Rating'],\n",
       "      dtype='object')"
      ]
     },
     "execution_count": 7,
     "metadata": {},
     "output_type": "execute_result"
    }
   ],
   "source": [
    "df.columns"
   ]
  },
  {
   "cell_type": "code",
   "execution_count": 8,
   "id": "9c3ba1b3",
   "metadata": {},
   "outputs": [],
   "source": [
    "df.drop('Unnamed: 0', axis = 1, inplace = True)"
   ]
  },
  {
   "cell_type": "code",
   "execution_count": 9,
   "id": "6378e81d",
   "metadata": {},
   "outputs": [
    {
     "data": {
      "text/html": [
       "<div>\n",
       "<style scoped>\n",
       "    .dataframe tbody tr th:only-of-type {\n",
       "        vertical-align: middle;\n",
       "    }\n",
       "\n",
       "    .dataframe tbody tr th {\n",
       "        vertical-align: top;\n",
       "    }\n",
       "\n",
       "    .dataframe thead th {\n",
       "        text-align: right;\n",
       "    }\n",
       "</style>\n",
       "<table border=\"1\" class=\"dataframe\">\n",
       "  <thead>\n",
       "    <tr style=\"text-align: right;\">\n",
       "      <th></th>\n",
       "      <th>Description</th>\n",
       "      <th>Processor</th>\n",
       "      <th>RAM</th>\n",
       "      <th>Operating System</th>\n",
       "      <th>ROM</th>\n",
       "      <th>Display</th>\n",
       "      <th>Warranty</th>\n",
       "      <th>Price</th>\n",
       "      <th>Rating</th>\n",
       "    </tr>\n",
       "  </thead>\n",
       "  <tbody>\n",
       "    <tr>\n",
       "      <th>0</th>\n",
       "      <td>HP Pavilion Ryzen 5 Hexa Core 5500U - (8 GB/51...</td>\n",
       "      <td>AMD Ryzen 5 Hexa Core Processor</td>\n",
       "      <td>8 GB DDR4 RAM</td>\n",
       "      <td>64 bit Windows 10 Operating System</td>\n",
       "      <td>512 GB SSD</td>\n",
       "      <td>39.62 cm (15.6 inch) Display</td>\n",
       "      <td>1 Year Onsite Warranty</td>\n",
       "      <td>₹57,949</td>\n",
       "      <td>4.5</td>\n",
       "    </tr>\n",
       "    <tr>\n",
       "      <th>1</th>\n",
       "      <td>HP Core i3 11th Gen - (8 GB/512 GB SSD/Windows...</td>\n",
       "      <td>Intel Core i3 Processor (11th Gen)</td>\n",
       "      <td>8 GB DDR4 RAM</td>\n",
       "      <td>64 bit Windows 11 Operating System</td>\n",
       "      <td>512 GB SSD</td>\n",
       "      <td>39.62 cm (15.6 inch) Display</td>\n",
       "      <td>1 Year Onsite Warranty</td>\n",
       "      <td>₹41,940</td>\n",
       "      <td>4.4</td>\n",
       "    </tr>\n",
       "    <tr>\n",
       "      <th>2</th>\n",
       "      <td>ASUS VivoBook 15 (2021) Core i3 10th Gen - (8 ...</td>\n",
       "      <td>Intel Core i3 Processor (10th Gen)</td>\n",
       "      <td>8 GB DDR4 RAM</td>\n",
       "      <td>64 bit Windows 11 Operating System</td>\n",
       "      <td>512 GB SSD</td>\n",
       "      <td>39.62 cm (15.6 inch) Display</td>\n",
       "      <td>1 Year Onsite Warranty</td>\n",
       "      <td>₹37,940</td>\n",
       "      <td>4.3</td>\n",
       "    </tr>\n",
       "    <tr>\n",
       "      <th>3</th>\n",
       "      <td>Lenovo IdeaPad 3 Core i3 10th Gen - (8 GB/256 ...</td>\n",
       "      <td>Intel Core i3 Processor (10th Gen)</td>\n",
       "      <td>8 GB DDR4 RAM</td>\n",
       "      <td>Windows 10 Operating System</td>\n",
       "      <td>256 GB SSD</td>\n",
       "      <td>39.62 cm (15.6 inch) Display</td>\n",
       "      <td>2 Years Warranty</td>\n",
       "      <td>₹37,940</td>\n",
       "      <td>4.3</td>\n",
       "    </tr>\n",
       "    <tr>\n",
       "      <th>4</th>\n",
       "      <td>acer Aspire 7 Core i5 10th Gen - (8 GB/512 GB ...</td>\n",
       "      <td>Intel Core i5 Processor (10th Gen)</td>\n",
       "      <td>8 GB DDR4 RAM</td>\n",
       "      <td>64 bit Windows 10 Operating System</td>\n",
       "      <td>512 GB SSD</td>\n",
       "      <td>39.62 cm (15.6 inch) Display</td>\n",
       "      <td>1 Year International Travelers Warranty</td>\n",
       "      <td>₹50,940</td>\n",
       "      <td>4.4</td>\n",
       "    </tr>\n",
       "  </tbody>\n",
       "</table>\n",
       "</div>"
      ],
      "text/plain": [
       "                                         Description  \\\n",
       "0  HP Pavilion Ryzen 5 Hexa Core 5500U - (8 GB/51...   \n",
       "1  HP Core i3 11th Gen - (8 GB/512 GB SSD/Windows...   \n",
       "2  ASUS VivoBook 15 (2021) Core i3 10th Gen - (8 ...   \n",
       "3  Lenovo IdeaPad 3 Core i3 10th Gen - (8 GB/256 ...   \n",
       "4  acer Aspire 7 Core i5 10th Gen - (8 GB/512 GB ...   \n",
       "\n",
       "                            Processor            RAM  \\\n",
       "0     AMD Ryzen 5 Hexa Core Processor  8 GB DDR4 RAM   \n",
       "1  Intel Core i3 Processor (11th Gen)  8 GB DDR4 RAM   \n",
       "2  Intel Core i3 Processor (10th Gen)  8 GB DDR4 RAM   \n",
       "3  Intel Core i3 Processor (10th Gen)  8 GB DDR4 RAM   \n",
       "4  Intel Core i5 Processor (10th Gen)  8 GB DDR4 RAM   \n",
       "\n",
       "                     Operating System         ROM  \\\n",
       "0  64 bit Windows 10 Operating System  512 GB SSD   \n",
       "1  64 bit Windows 11 Operating System  512 GB SSD   \n",
       "2  64 bit Windows 11 Operating System  512 GB SSD   \n",
       "3         Windows 10 Operating System  256 GB SSD   \n",
       "4  64 bit Windows 10 Operating System  512 GB SSD   \n",
       "\n",
       "                        Display                                 Warranty  \\\n",
       "0  39.62 cm (15.6 inch) Display                   1 Year Onsite Warranty   \n",
       "1  39.62 cm (15.6 inch) Display                   1 Year Onsite Warranty   \n",
       "2  39.62 cm (15.6 inch) Display                   1 Year Onsite Warranty   \n",
       "3  39.62 cm (15.6 inch) Display                         2 Years Warranty   \n",
       "4  39.62 cm (15.6 inch) Display  1 Year International Travelers Warranty   \n",
       "\n",
       "     Price  Rating  \n",
       "0  ₹57,949     4.5  \n",
       "1  ₹41,940     4.4  \n",
       "2  ₹37,940     4.3  \n",
       "3  ₹37,940     4.3  \n",
       "4  ₹50,940     4.4  "
      ]
     },
     "execution_count": 9,
     "metadata": {},
     "output_type": "execute_result"
    }
   ],
   "source": [
    "df.head()"
   ]
  },
  {
   "cell_type": "code",
   "execution_count": 10,
   "id": "82370d5a",
   "metadata": {},
   "outputs": [
    {
     "name": "stdout",
     "output_type": "stream",
     "text": [
      "<class 'pandas.core.frame.DataFrame'>\n",
      "RangeIndex: 700 entries, 0 to 699\n",
      "Data columns (total 9 columns):\n",
      " #   Column            Non-Null Count  Dtype  \n",
      "---  ------            --------------  -----  \n",
      " 0   Description       700 non-null    object \n",
      " 1   Processor         700 non-null    object \n",
      " 2   RAM               700 non-null    object \n",
      " 3   Operating System  700 non-null    object \n",
      " 4   ROM               700 non-null    object \n",
      " 5   Display           700 non-null    object \n",
      " 6   Warranty          700 non-null    object \n",
      " 7   Price             700 non-null    object \n",
      " 8   Rating            700 non-null    float64\n",
      "dtypes: float64(1), object(8)\n",
      "memory usage: 49.3+ KB\n"
     ]
    }
   ],
   "source": [
    "df.info()"
   ]
  },
  {
   "cell_type": "code",
   "execution_count": 11,
   "id": "6610c99c",
   "metadata": {},
   "outputs": [
    {
     "data": {
      "text/plain": [
       "Description          object\n",
       "Processor            object\n",
       "RAM                  object\n",
       "Operating System     object\n",
       "ROM                  object\n",
       "Display              object\n",
       "Warranty             object\n",
       "Price                object\n",
       "Rating              float64\n",
       "dtype: object"
      ]
     },
     "execution_count": 11,
     "metadata": {},
     "output_type": "execute_result"
    }
   ],
   "source": [
    "df.dtypes"
   ]
  },
  {
   "cell_type": "code",
   "execution_count": 12,
   "id": "b6845a98",
   "metadata": {},
   "outputs": [],
   "source": [
    "df1 = df.copy()"
   ]
  },
  {
   "cell_type": "code",
   "execution_count": 13,
   "id": "9eb251eb",
   "metadata": {},
   "outputs": [
    {
     "data": {
      "text/html": [
       "<div>\n",
       "<style scoped>\n",
       "    .dataframe tbody tr th:only-of-type {\n",
       "        vertical-align: middle;\n",
       "    }\n",
       "\n",
       "    .dataframe tbody tr th {\n",
       "        vertical-align: top;\n",
       "    }\n",
       "\n",
       "    .dataframe thead th {\n",
       "        text-align: right;\n",
       "    }\n",
       "</style>\n",
       "<table border=\"1\" class=\"dataframe\">\n",
       "  <thead>\n",
       "    <tr style=\"text-align: right;\">\n",
       "      <th></th>\n",
       "      <th>Description</th>\n",
       "      <th>Processor</th>\n",
       "      <th>RAM</th>\n",
       "      <th>Operating System</th>\n",
       "      <th>ROM</th>\n",
       "      <th>Display</th>\n",
       "      <th>Warranty</th>\n",
       "      <th>Price</th>\n",
       "      <th>Rating</th>\n",
       "    </tr>\n",
       "  </thead>\n",
       "  <tbody>\n",
       "    <tr>\n",
       "      <th>0</th>\n",
       "      <td>HP Pavilion Ryzen 5 Hexa Core 5500U - (8 GB/51...</td>\n",
       "      <td>AMD Ryzen 5 Hexa Core Processor</td>\n",
       "      <td>8 GB DDR4 RAM</td>\n",
       "      <td>64 bit Windows 10 Operating System</td>\n",
       "      <td>512 GB SSD</td>\n",
       "      <td>39.62 cm (15.6 inch) Display</td>\n",
       "      <td>1 Year Onsite Warranty</td>\n",
       "      <td>₹57,949</td>\n",
       "      <td>4.5</td>\n",
       "    </tr>\n",
       "    <tr>\n",
       "      <th>1</th>\n",
       "      <td>HP Core i3 11th Gen - (8 GB/512 GB SSD/Windows...</td>\n",
       "      <td>Intel Core i3 Processor (11th Gen)</td>\n",
       "      <td>8 GB DDR4 RAM</td>\n",
       "      <td>64 bit Windows 11 Operating System</td>\n",
       "      <td>512 GB SSD</td>\n",
       "      <td>39.62 cm (15.6 inch) Display</td>\n",
       "      <td>1 Year Onsite Warranty</td>\n",
       "      <td>₹41,940</td>\n",
       "      <td>4.4</td>\n",
       "    </tr>\n",
       "    <tr>\n",
       "      <th>2</th>\n",
       "      <td>ASUS VivoBook 15 (2021) Core i3 10th Gen - (8 ...</td>\n",
       "      <td>Intel Core i3 Processor (10th Gen)</td>\n",
       "      <td>8 GB DDR4 RAM</td>\n",
       "      <td>64 bit Windows 11 Operating System</td>\n",
       "      <td>512 GB SSD</td>\n",
       "      <td>39.62 cm (15.6 inch) Display</td>\n",
       "      <td>1 Year Onsite Warranty</td>\n",
       "      <td>₹37,940</td>\n",
       "      <td>4.3</td>\n",
       "    </tr>\n",
       "    <tr>\n",
       "      <th>3</th>\n",
       "      <td>Lenovo IdeaPad 3 Core i3 10th Gen - (8 GB/256 ...</td>\n",
       "      <td>Intel Core i3 Processor (10th Gen)</td>\n",
       "      <td>8 GB DDR4 RAM</td>\n",
       "      <td>Windows 10 Operating System</td>\n",
       "      <td>256 GB SSD</td>\n",
       "      <td>39.62 cm (15.6 inch) Display</td>\n",
       "      <td>2 Years Warranty</td>\n",
       "      <td>₹37,940</td>\n",
       "      <td>4.3</td>\n",
       "    </tr>\n",
       "    <tr>\n",
       "      <th>4</th>\n",
       "      <td>acer Aspire 7 Core i5 10th Gen - (8 GB/512 GB ...</td>\n",
       "      <td>Intel Core i5 Processor (10th Gen)</td>\n",
       "      <td>8 GB DDR4 RAM</td>\n",
       "      <td>64 bit Windows 10 Operating System</td>\n",
       "      <td>512 GB SSD</td>\n",
       "      <td>39.62 cm (15.6 inch) Display</td>\n",
       "      <td>1 Year International Travelers Warranty</td>\n",
       "      <td>₹50,940</td>\n",
       "      <td>4.4</td>\n",
       "    </tr>\n",
       "  </tbody>\n",
       "</table>\n",
       "</div>"
      ],
      "text/plain": [
       "                                         Description  \\\n",
       "0  HP Pavilion Ryzen 5 Hexa Core 5500U - (8 GB/51...   \n",
       "1  HP Core i3 11th Gen - (8 GB/512 GB SSD/Windows...   \n",
       "2  ASUS VivoBook 15 (2021) Core i3 10th Gen - (8 ...   \n",
       "3  Lenovo IdeaPad 3 Core i3 10th Gen - (8 GB/256 ...   \n",
       "4  acer Aspire 7 Core i5 10th Gen - (8 GB/512 GB ...   \n",
       "\n",
       "                            Processor            RAM  \\\n",
       "0     AMD Ryzen 5 Hexa Core Processor  8 GB DDR4 RAM   \n",
       "1  Intel Core i3 Processor (11th Gen)  8 GB DDR4 RAM   \n",
       "2  Intel Core i3 Processor (10th Gen)  8 GB DDR4 RAM   \n",
       "3  Intel Core i3 Processor (10th Gen)  8 GB DDR4 RAM   \n",
       "4  Intel Core i5 Processor (10th Gen)  8 GB DDR4 RAM   \n",
       "\n",
       "                     Operating System         ROM  \\\n",
       "0  64 bit Windows 10 Operating System  512 GB SSD   \n",
       "1  64 bit Windows 11 Operating System  512 GB SSD   \n",
       "2  64 bit Windows 11 Operating System  512 GB SSD   \n",
       "3         Windows 10 Operating System  256 GB SSD   \n",
       "4  64 bit Windows 10 Operating System  512 GB SSD   \n",
       "\n",
       "                        Display                                 Warranty  \\\n",
       "0  39.62 cm (15.6 inch) Display                   1 Year Onsite Warranty   \n",
       "1  39.62 cm (15.6 inch) Display                   1 Year Onsite Warranty   \n",
       "2  39.62 cm (15.6 inch) Display                   1 Year Onsite Warranty   \n",
       "3  39.62 cm (15.6 inch) Display                         2 Years Warranty   \n",
       "4  39.62 cm (15.6 inch) Display  1 Year International Travelers Warranty   \n",
       "\n",
       "     Price  Rating  \n",
       "0  ₹57,949     4.5  \n",
       "1  ₹41,940     4.4  \n",
       "2  ₹37,940     4.3  \n",
       "3  ₹37,940     4.3  \n",
       "4  ₹50,940     4.4  "
      ]
     },
     "execution_count": 13,
     "metadata": {},
     "output_type": "execute_result"
    }
   ],
   "source": [
    "df1.head()"
   ]
  },
  {
   "cell_type": "markdown",
   "id": "bccdd4ed",
   "metadata": {},
   "source": [
    "### Brand and Name"
   ]
  },
  {
   "cell_type": "code",
   "execution_count": 14,
   "id": "3313426e",
   "metadata": {},
   "outputs": [
    {
     "data": {
      "text/plain": [
       "0      HP Pavilion Ryzen 5 Hexa Core 5500U - (8 GB/51...\n",
       "1      HP Core i3 11th Gen - (8 GB/512 GB SSD/Windows...\n",
       "2      ASUS VivoBook 15 (2021) Core i3 10th Gen - (8 ...\n",
       "3      Lenovo IdeaPad 3 Core i3 10th Gen - (8 GB/256 ...\n",
       "4      acer Aspire 7 Core i5 10th Gen - (8 GB/512 GB ...\n",
       "                             ...                        \n",
       "695    Lenovo Core i3 10th Gen - (8 GB/256 GB SSD/Win...\n",
       "696    DELL Core i5 11th Gen - (16 GB/512 GB SSD/Wind...\n",
       "697    Lenovo Thinpad E15 G2 Core i5 11th Gen - (8 GB...\n",
       "698    ASUS ROG Zephyrus G15 (2021) Ryzen 9 Octa Core...\n",
       "699    HP Pavilion Ryzen 5 Hexa Core 5500U - (8 GB/51...\n",
       "Name: Description, Length: 700, dtype: object"
      ]
     },
     "execution_count": 14,
     "metadata": {},
     "output_type": "execute_result"
    }
   ],
   "source": [
    "df1.Description"
   ]
  },
  {
   "cell_type": "code",
   "execution_count": 15,
   "id": "45b2bfe1",
   "metadata": {},
   "outputs": [],
   "source": [
    "df1['Brand'] = df1['Description'].apply(lambda x:x.split(' ')[0])"
   ]
  },
  {
   "cell_type": "code",
   "execution_count": 16,
   "id": "05f837a3",
   "metadata": {},
   "outputs": [],
   "source": [
    "df1['Name'] = df1['Description'].apply(lambda x:x.split('-')[0])"
   ]
  },
  {
   "cell_type": "code",
   "execution_count": 17,
   "id": "b34f64ae",
   "metadata": {},
   "outputs": [
    {
     "data": {
      "text/plain": [
       "Brand\n",
       "ASUS         181\n",
       "HP           158\n",
       "DELL         112\n",
       "Lenovo       112\n",
       "acer          39\n",
       "MSI           32\n",
       "APPLE         26\n",
       "Infinix        7\n",
       "lenovo         4\n",
       "ALIENWARE      4\n",
       "LG             4\n",
       "Avita          4\n",
       "Nokia          3\n",
       "RedmiBook      3\n",
       "realme         3\n",
       "MICROSOFT      2\n",
       "Mi             2\n",
       "Vaio           2\n",
       "SAMSUNG        1\n",
       "Smartron       1\n",
       "Name: Brand, dtype: int64"
      ]
     },
     "execution_count": 17,
     "metadata": {},
     "output_type": "execute_result"
    }
   ],
   "source": [
    "df1['Brand'].groupby(df1['Brand']).count().sort_values(ascending=False)"
   ]
  },
  {
   "cell_type": "code",
   "execution_count": 18,
   "id": "8c1a9cc6",
   "metadata": {},
   "outputs": [
    {
     "data": {
      "text/plain": [
       "array(['HP', 'ASUS', 'Lenovo', 'acer', 'DELL', 'APPLE', 'MSI',\n",
       "       'RedmiBook', 'realme', 'Infinix', 'lenovo', 'Nokia', 'Mi',\n",
       "       'SAMSUNG', 'Avita', 'ALIENWARE', 'MICROSOFT', 'Vaio', 'LG',\n",
       "       'Smartron'], dtype=object)"
      ]
     },
     "execution_count": 18,
     "metadata": {},
     "output_type": "execute_result"
    }
   ],
   "source": [
    "df1['Brand'].unique()"
   ]
  },
  {
   "cell_type": "code",
   "execution_count": 19,
   "id": "f0401fb0",
   "metadata": {},
   "outputs": [],
   "source": [
    "df1['Brand'].replace('lenovo','Lenovo', inplace = True)"
   ]
  },
  {
   "cell_type": "code",
   "execution_count": 20,
   "id": "856d6802",
   "metadata": {},
   "outputs": [
    {
     "data": {
      "text/plain": [
       "array(['HP', 'ASUS', 'Lenovo', 'acer', 'DELL', 'APPLE', 'MSI',\n",
       "       'RedmiBook', 'realme', 'Infinix', 'Nokia', 'Mi', 'SAMSUNG',\n",
       "       'Avita', 'ALIENWARE', 'MICROSOFT', 'Vaio', 'LG', 'Smartron'],\n",
       "      dtype=object)"
      ]
     },
     "execution_count": 20,
     "metadata": {},
     "output_type": "execute_result"
    }
   ],
   "source": [
    "df1['Brand'].unique()"
   ]
  },
  {
   "cell_type": "code",
   "execution_count": 21,
   "id": "1a060d53",
   "metadata": {},
   "outputs": [],
   "source": [
    "df1.drop('Description', axis = 1, inplace = True)"
   ]
  },
  {
   "cell_type": "code",
   "execution_count": 22,
   "id": "8c5197dc",
   "metadata": {},
   "outputs": [
    {
     "data": {
      "text/html": [
       "<div>\n",
       "<style scoped>\n",
       "    .dataframe tbody tr th:only-of-type {\n",
       "        vertical-align: middle;\n",
       "    }\n",
       "\n",
       "    .dataframe tbody tr th {\n",
       "        vertical-align: top;\n",
       "    }\n",
       "\n",
       "    .dataframe thead th {\n",
       "        text-align: right;\n",
       "    }\n",
       "</style>\n",
       "<table border=\"1\" class=\"dataframe\">\n",
       "  <thead>\n",
       "    <tr style=\"text-align: right;\">\n",
       "      <th></th>\n",
       "      <th>Processor</th>\n",
       "      <th>RAM</th>\n",
       "      <th>Operating System</th>\n",
       "      <th>ROM</th>\n",
       "      <th>Display</th>\n",
       "      <th>Warranty</th>\n",
       "      <th>Price</th>\n",
       "      <th>Rating</th>\n",
       "      <th>Brand</th>\n",
       "      <th>Name</th>\n",
       "    </tr>\n",
       "  </thead>\n",
       "  <tbody>\n",
       "    <tr>\n",
       "      <th>0</th>\n",
       "      <td>AMD Ryzen 5 Hexa Core Processor</td>\n",
       "      <td>8 GB DDR4 RAM</td>\n",
       "      <td>64 bit Windows 10 Operating System</td>\n",
       "      <td>512 GB SSD</td>\n",
       "      <td>39.62 cm (15.6 inch) Display</td>\n",
       "      <td>1 Year Onsite Warranty</td>\n",
       "      <td>₹57,949</td>\n",
       "      <td>4.5</td>\n",
       "      <td>HP</td>\n",
       "      <td>HP Pavilion Ryzen 5 Hexa Core 5500U</td>\n",
       "    </tr>\n",
       "    <tr>\n",
       "      <th>1</th>\n",
       "      <td>Intel Core i3 Processor (11th Gen)</td>\n",
       "      <td>8 GB DDR4 RAM</td>\n",
       "      <td>64 bit Windows 11 Operating System</td>\n",
       "      <td>512 GB SSD</td>\n",
       "      <td>39.62 cm (15.6 inch) Display</td>\n",
       "      <td>1 Year Onsite Warranty</td>\n",
       "      <td>₹41,940</td>\n",
       "      <td>4.4</td>\n",
       "      <td>HP</td>\n",
       "      <td>HP Core i3 11th Gen</td>\n",
       "    </tr>\n",
       "    <tr>\n",
       "      <th>2</th>\n",
       "      <td>Intel Core i3 Processor (10th Gen)</td>\n",
       "      <td>8 GB DDR4 RAM</td>\n",
       "      <td>64 bit Windows 11 Operating System</td>\n",
       "      <td>512 GB SSD</td>\n",
       "      <td>39.62 cm (15.6 inch) Display</td>\n",
       "      <td>1 Year Onsite Warranty</td>\n",
       "      <td>₹37,940</td>\n",
       "      <td>4.3</td>\n",
       "      <td>ASUS</td>\n",
       "      <td>ASUS VivoBook 15 (2021) Core i3 10th Gen</td>\n",
       "    </tr>\n",
       "    <tr>\n",
       "      <th>3</th>\n",
       "      <td>Intel Core i3 Processor (10th Gen)</td>\n",
       "      <td>8 GB DDR4 RAM</td>\n",
       "      <td>Windows 10 Operating System</td>\n",
       "      <td>256 GB SSD</td>\n",
       "      <td>39.62 cm (15.6 inch) Display</td>\n",
       "      <td>2 Years Warranty</td>\n",
       "      <td>₹37,940</td>\n",
       "      <td>4.3</td>\n",
       "      <td>Lenovo</td>\n",
       "      <td>Lenovo IdeaPad 3 Core i3 10th Gen</td>\n",
       "    </tr>\n",
       "    <tr>\n",
       "      <th>4</th>\n",
       "      <td>Intel Core i5 Processor (10th Gen)</td>\n",
       "      <td>8 GB DDR4 RAM</td>\n",
       "      <td>64 bit Windows 10 Operating System</td>\n",
       "      <td>512 GB SSD</td>\n",
       "      <td>39.62 cm (15.6 inch) Display</td>\n",
       "      <td>1 Year International Travelers Warranty</td>\n",
       "      <td>₹50,940</td>\n",
       "      <td>4.4</td>\n",
       "      <td>acer</td>\n",
       "      <td>acer Aspire 7 Core i5 10th Gen</td>\n",
       "    </tr>\n",
       "  </tbody>\n",
       "</table>\n",
       "</div>"
      ],
      "text/plain": [
       "                            Processor            RAM  \\\n",
       "0     AMD Ryzen 5 Hexa Core Processor  8 GB DDR4 RAM   \n",
       "1  Intel Core i3 Processor (11th Gen)  8 GB DDR4 RAM   \n",
       "2  Intel Core i3 Processor (10th Gen)  8 GB DDR4 RAM   \n",
       "3  Intel Core i3 Processor (10th Gen)  8 GB DDR4 RAM   \n",
       "4  Intel Core i5 Processor (10th Gen)  8 GB DDR4 RAM   \n",
       "\n",
       "                     Operating System         ROM  \\\n",
       "0  64 bit Windows 10 Operating System  512 GB SSD   \n",
       "1  64 bit Windows 11 Operating System  512 GB SSD   \n",
       "2  64 bit Windows 11 Operating System  512 GB SSD   \n",
       "3         Windows 10 Operating System  256 GB SSD   \n",
       "4  64 bit Windows 10 Operating System  512 GB SSD   \n",
       "\n",
       "                        Display                                 Warranty  \\\n",
       "0  39.62 cm (15.6 inch) Display                   1 Year Onsite Warranty   \n",
       "1  39.62 cm (15.6 inch) Display                   1 Year Onsite Warranty   \n",
       "2  39.62 cm (15.6 inch) Display                   1 Year Onsite Warranty   \n",
       "3  39.62 cm (15.6 inch) Display                         2 Years Warranty   \n",
       "4  39.62 cm (15.6 inch) Display  1 Year International Travelers Warranty   \n",
       "\n",
       "     Price  Rating   Brand                                       Name  \n",
       "0  ₹57,949     4.5      HP       HP Pavilion Ryzen 5 Hexa Core 5500U   \n",
       "1  ₹41,940     4.4      HP                       HP Core i3 11th Gen   \n",
       "2  ₹37,940     4.3    ASUS  ASUS VivoBook 15 (2021) Core i3 10th Gen   \n",
       "3  ₹37,940     4.3  Lenovo         Lenovo IdeaPad 3 Core i3 10th Gen   \n",
       "4  ₹50,940     4.4    acer            acer Aspire 7 Core i5 10th Gen   "
      ]
     },
     "execution_count": 22,
     "metadata": {},
     "output_type": "execute_result"
    }
   ],
   "source": [
    "df1.head()"
   ]
  },
  {
   "cell_type": "markdown",
   "id": "e2292273",
   "metadata": {},
   "source": [
    "### Processor"
   ]
  },
  {
   "cell_type": "code",
   "execution_count": 23,
   "id": "30494ebb",
   "metadata": {},
   "outputs": [
    {
     "data": {
      "text/plain": [
       "array(['AMD Ryzen 5 Hexa Core Processor',\n",
       "       'Intel Core i3 Processor (11th Gen)',\n",
       "       'Intel Core i3 Processor (10th Gen)',\n",
       "       'Intel Core i5 Processor (10th Gen)',\n",
       "       'Intel Core i5 Processor (11th Gen)',\n",
       "       'AMD Ryzen 3 Dual Core Processor (3rd Gen)',\n",
       "       'AMD Ryzen 3 Dual Core Processor',\n",
       "       'Intel Celeron Dual Core Processor',\n",
       "       'Intel Core i7 Processor (10th Gen)',\n",
       "       'Intel Hexa Core i5 Processor (10th Gen)',\n",
       "       'Intel Pentium Quad Core Processor',\n",
       "       'AMD Ryzen 7 Octa Core Processor',\n",
       "       'Intel Core i5 Processor (9th Gen)',\n",
       "       'AMD Ryzen 3 Quad Core Processor',\n",
       "       'Intel Core i7 Processor (11th Gen)',\n",
       "       'AMD Ryzen 5 Quad Core Processor',\n",
       "       'Intel Evo platform feat 11th Gen Intel Core i5 processor',\n",
       "       'AMD Ryzen 9 Octa Core Processor',\n",
       "       'Intel Core i9 Processor (11th Gen)',\n",
       "       'Intel Evo platform feat 11th Gen Intel Core i7 processor',\n",
       "       'Intel Core i9 Processor (12th Gen)',\n",
       "       'Intel Ryzen 7 Hexa Core Processor',\n",
       "       'AMD APU Dual Core A6 Processor',\n",
       "       'AMD Ryzen 5 Hexa Core Processor (5th Gen)',\n",
       "       'AMD Ryzen 7 Octa Core Processor (4th Gen)',\n",
       "       'AMD Ryzen 7 Octa Core Processor (5th Gen)',\n",
       "       'Intel Core i5 Processor (8th Gen)',\n",
       "       'AMD Ryzen 9 Octa Core Processor (5th Gen)',\n",
       "       'Intel Core i7 Processor (8th Gen)',\n",
       "       'Intel Core i9 Processor (10th Gen)', 'AMD Dual Core Processor',\n",
       "       'Intel Core i7 Processor (9th Gen)',\n",
       "       'Intel Core i5 Processor (7th Gen)',\n",
       "       'Intel Core i5 Processor (5th Gen)',\n",
       "       'Intel Core i7 Processor (7th Gen)',\n",
       "       'Intel Core i9 Processor (8th Gen)',\n",
       "       'AMD Ryzen 7 Quad Core Processor',\n",
       "       'AMD APU Dual Core A9 Processor',\n",
       "       'AMD Ryzen 5 Octa Core Processor (11th Gen)',\n",
       "       'Intel Core i7 Processor (6th Gen)',\n",
       "       'AMD Ryzen 9 Octa Core Processor (9th Gen)',\n",
       "       'AMD Ryzen 7 Dual Core Processor'], dtype=object)"
      ]
     },
     "execution_count": 23,
     "metadata": {},
     "output_type": "execute_result"
    }
   ],
   "source": [
    "df1.Processor.unique()"
   ]
  },
  {
   "cell_type": "code",
   "execution_count": 24,
   "id": "da0b3da7",
   "metadata": {},
   "outputs": [],
   "source": [
    "df1['Processor_brand'] = df1['Processor'].apply(lambda x : x.split(' ')[0])"
   ]
  },
  {
   "cell_type": "code",
   "execution_count": 25,
   "id": "d6651b8c",
   "metadata": {},
   "outputs": [
    {
     "data": {
      "text/html": [
       "<div>\n",
       "<style scoped>\n",
       "    .dataframe tbody tr th:only-of-type {\n",
       "        vertical-align: middle;\n",
       "    }\n",
       "\n",
       "    .dataframe tbody tr th {\n",
       "        vertical-align: top;\n",
       "    }\n",
       "\n",
       "    .dataframe thead th {\n",
       "        text-align: right;\n",
       "    }\n",
       "</style>\n",
       "<table border=\"1\" class=\"dataframe\">\n",
       "  <thead>\n",
       "    <tr style=\"text-align: right;\">\n",
       "      <th></th>\n",
       "      <th>Processor</th>\n",
       "      <th>RAM</th>\n",
       "      <th>Operating System</th>\n",
       "      <th>ROM</th>\n",
       "      <th>Display</th>\n",
       "      <th>Warranty</th>\n",
       "      <th>Price</th>\n",
       "      <th>Rating</th>\n",
       "      <th>Brand</th>\n",
       "      <th>Name</th>\n",
       "      <th>Processor_brand</th>\n",
       "    </tr>\n",
       "  </thead>\n",
       "  <tbody>\n",
       "    <tr>\n",
       "      <th>0</th>\n",
       "      <td>AMD Ryzen 5 Hexa Core Processor</td>\n",
       "      <td>8 GB DDR4 RAM</td>\n",
       "      <td>64 bit Windows 10 Operating System</td>\n",
       "      <td>512 GB SSD</td>\n",
       "      <td>39.62 cm (15.6 inch) Display</td>\n",
       "      <td>1 Year Onsite Warranty</td>\n",
       "      <td>₹57,949</td>\n",
       "      <td>4.5</td>\n",
       "      <td>HP</td>\n",
       "      <td>HP Pavilion Ryzen 5 Hexa Core 5500U</td>\n",
       "      <td>AMD</td>\n",
       "    </tr>\n",
       "    <tr>\n",
       "      <th>1</th>\n",
       "      <td>Intel Core i3 Processor (11th Gen)</td>\n",
       "      <td>8 GB DDR4 RAM</td>\n",
       "      <td>64 bit Windows 11 Operating System</td>\n",
       "      <td>512 GB SSD</td>\n",
       "      <td>39.62 cm (15.6 inch) Display</td>\n",
       "      <td>1 Year Onsite Warranty</td>\n",
       "      <td>₹41,940</td>\n",
       "      <td>4.4</td>\n",
       "      <td>HP</td>\n",
       "      <td>HP Core i3 11th Gen</td>\n",
       "      <td>Intel</td>\n",
       "    </tr>\n",
       "    <tr>\n",
       "      <th>2</th>\n",
       "      <td>Intel Core i3 Processor (10th Gen)</td>\n",
       "      <td>8 GB DDR4 RAM</td>\n",
       "      <td>64 bit Windows 11 Operating System</td>\n",
       "      <td>512 GB SSD</td>\n",
       "      <td>39.62 cm (15.6 inch) Display</td>\n",
       "      <td>1 Year Onsite Warranty</td>\n",
       "      <td>₹37,940</td>\n",
       "      <td>4.3</td>\n",
       "      <td>ASUS</td>\n",
       "      <td>ASUS VivoBook 15 (2021) Core i3 10th Gen</td>\n",
       "      <td>Intel</td>\n",
       "    </tr>\n",
       "    <tr>\n",
       "      <th>3</th>\n",
       "      <td>Intel Core i3 Processor (10th Gen)</td>\n",
       "      <td>8 GB DDR4 RAM</td>\n",
       "      <td>Windows 10 Operating System</td>\n",
       "      <td>256 GB SSD</td>\n",
       "      <td>39.62 cm (15.6 inch) Display</td>\n",
       "      <td>2 Years Warranty</td>\n",
       "      <td>₹37,940</td>\n",
       "      <td>4.3</td>\n",
       "      <td>Lenovo</td>\n",
       "      <td>Lenovo IdeaPad 3 Core i3 10th Gen</td>\n",
       "      <td>Intel</td>\n",
       "    </tr>\n",
       "    <tr>\n",
       "      <th>4</th>\n",
       "      <td>Intel Core i5 Processor (10th Gen)</td>\n",
       "      <td>8 GB DDR4 RAM</td>\n",
       "      <td>64 bit Windows 10 Operating System</td>\n",
       "      <td>512 GB SSD</td>\n",
       "      <td>39.62 cm (15.6 inch) Display</td>\n",
       "      <td>1 Year International Travelers Warranty</td>\n",
       "      <td>₹50,940</td>\n",
       "      <td>4.4</td>\n",
       "      <td>acer</td>\n",
       "      <td>acer Aspire 7 Core i5 10th Gen</td>\n",
       "      <td>Intel</td>\n",
       "    </tr>\n",
       "  </tbody>\n",
       "</table>\n",
       "</div>"
      ],
      "text/plain": [
       "                            Processor            RAM  \\\n",
       "0     AMD Ryzen 5 Hexa Core Processor  8 GB DDR4 RAM   \n",
       "1  Intel Core i3 Processor (11th Gen)  8 GB DDR4 RAM   \n",
       "2  Intel Core i3 Processor (10th Gen)  8 GB DDR4 RAM   \n",
       "3  Intel Core i3 Processor (10th Gen)  8 GB DDR4 RAM   \n",
       "4  Intel Core i5 Processor (10th Gen)  8 GB DDR4 RAM   \n",
       "\n",
       "                     Operating System         ROM  \\\n",
       "0  64 bit Windows 10 Operating System  512 GB SSD   \n",
       "1  64 bit Windows 11 Operating System  512 GB SSD   \n",
       "2  64 bit Windows 11 Operating System  512 GB SSD   \n",
       "3         Windows 10 Operating System  256 GB SSD   \n",
       "4  64 bit Windows 10 Operating System  512 GB SSD   \n",
       "\n",
       "                        Display                                 Warranty  \\\n",
       "0  39.62 cm (15.6 inch) Display                   1 Year Onsite Warranty   \n",
       "1  39.62 cm (15.6 inch) Display                   1 Year Onsite Warranty   \n",
       "2  39.62 cm (15.6 inch) Display                   1 Year Onsite Warranty   \n",
       "3  39.62 cm (15.6 inch) Display                         2 Years Warranty   \n",
       "4  39.62 cm (15.6 inch) Display  1 Year International Travelers Warranty   \n",
       "\n",
       "     Price  Rating   Brand                                       Name  \\\n",
       "0  ₹57,949     4.5      HP       HP Pavilion Ryzen 5 Hexa Core 5500U    \n",
       "1  ₹41,940     4.4      HP                       HP Core i3 11th Gen    \n",
       "2  ₹37,940     4.3    ASUS  ASUS VivoBook 15 (2021) Core i3 10th Gen    \n",
       "3  ₹37,940     4.3  Lenovo         Lenovo IdeaPad 3 Core i3 10th Gen    \n",
       "4  ₹50,940     4.4    acer            acer Aspire 7 Core i5 10th Gen    \n",
       "\n",
       "  Processor_brand  \n",
       "0             AMD  \n",
       "1           Intel  \n",
       "2           Intel  \n",
       "3           Intel  \n",
       "4           Intel  "
      ]
     },
     "execution_count": 25,
     "metadata": {},
     "output_type": "execute_result"
    }
   ],
   "source": [
    "df1.head()"
   ]
  },
  {
   "cell_type": "code",
   "execution_count": 26,
   "id": "298be1f6",
   "metadata": {},
   "outputs": [],
   "source": [
    "df1['Processor_type'] = df1['Processor'].apply(lambda x : x.split(' ')[1:-1])"
   ]
  },
  {
   "cell_type": "code",
   "execution_count": 27,
   "id": "39789390",
   "metadata": {},
   "outputs": [],
   "source": [
    "df1.Processor_type = df1.Processor_type.apply(lambda x : ' '.join(x))"
   ]
  },
  {
   "cell_type": "code",
   "execution_count": 28,
   "id": "c666d816",
   "metadata": {},
   "outputs": [
    {
     "data": {
      "text/html": [
       "<div>\n",
       "<style scoped>\n",
       "    .dataframe tbody tr th:only-of-type {\n",
       "        vertical-align: middle;\n",
       "    }\n",
       "\n",
       "    .dataframe tbody tr th {\n",
       "        vertical-align: top;\n",
       "    }\n",
       "\n",
       "    .dataframe thead th {\n",
       "        text-align: right;\n",
       "    }\n",
       "</style>\n",
       "<table border=\"1\" class=\"dataframe\">\n",
       "  <thead>\n",
       "    <tr style=\"text-align: right;\">\n",
       "      <th></th>\n",
       "      <th>Processor</th>\n",
       "      <th>RAM</th>\n",
       "      <th>Operating System</th>\n",
       "      <th>ROM</th>\n",
       "      <th>Display</th>\n",
       "      <th>Warranty</th>\n",
       "      <th>Price</th>\n",
       "      <th>Rating</th>\n",
       "      <th>Brand</th>\n",
       "      <th>Name</th>\n",
       "      <th>Processor_brand</th>\n",
       "      <th>Processor_type</th>\n",
       "    </tr>\n",
       "  </thead>\n",
       "  <tbody>\n",
       "    <tr>\n",
       "      <th>0</th>\n",
       "      <td>AMD Ryzen 5 Hexa Core Processor</td>\n",
       "      <td>8 GB DDR4 RAM</td>\n",
       "      <td>64 bit Windows 10 Operating System</td>\n",
       "      <td>512 GB SSD</td>\n",
       "      <td>39.62 cm (15.6 inch) Display</td>\n",
       "      <td>1 Year Onsite Warranty</td>\n",
       "      <td>₹57,949</td>\n",
       "      <td>4.5</td>\n",
       "      <td>HP</td>\n",
       "      <td>HP Pavilion Ryzen 5 Hexa Core 5500U</td>\n",
       "      <td>AMD</td>\n",
       "      <td>Ryzen 5 Hexa Core</td>\n",
       "    </tr>\n",
       "    <tr>\n",
       "      <th>1</th>\n",
       "      <td>Intel Core i3 Processor (11th Gen)</td>\n",
       "      <td>8 GB DDR4 RAM</td>\n",
       "      <td>64 bit Windows 11 Operating System</td>\n",
       "      <td>512 GB SSD</td>\n",
       "      <td>39.62 cm (15.6 inch) Display</td>\n",
       "      <td>1 Year Onsite Warranty</td>\n",
       "      <td>₹41,940</td>\n",
       "      <td>4.4</td>\n",
       "      <td>HP</td>\n",
       "      <td>HP Core i3 11th Gen</td>\n",
       "      <td>Intel</td>\n",
       "      <td>Core i3 Processor (11th</td>\n",
       "    </tr>\n",
       "    <tr>\n",
       "      <th>2</th>\n",
       "      <td>Intel Core i3 Processor (10th Gen)</td>\n",
       "      <td>8 GB DDR4 RAM</td>\n",
       "      <td>64 bit Windows 11 Operating System</td>\n",
       "      <td>512 GB SSD</td>\n",
       "      <td>39.62 cm (15.6 inch) Display</td>\n",
       "      <td>1 Year Onsite Warranty</td>\n",
       "      <td>₹37,940</td>\n",
       "      <td>4.3</td>\n",
       "      <td>ASUS</td>\n",
       "      <td>ASUS VivoBook 15 (2021) Core i3 10th Gen</td>\n",
       "      <td>Intel</td>\n",
       "      <td>Core i3 Processor (10th</td>\n",
       "    </tr>\n",
       "    <tr>\n",
       "      <th>3</th>\n",
       "      <td>Intel Core i3 Processor (10th Gen)</td>\n",
       "      <td>8 GB DDR4 RAM</td>\n",
       "      <td>Windows 10 Operating System</td>\n",
       "      <td>256 GB SSD</td>\n",
       "      <td>39.62 cm (15.6 inch) Display</td>\n",
       "      <td>2 Years Warranty</td>\n",
       "      <td>₹37,940</td>\n",
       "      <td>4.3</td>\n",
       "      <td>Lenovo</td>\n",
       "      <td>Lenovo IdeaPad 3 Core i3 10th Gen</td>\n",
       "      <td>Intel</td>\n",
       "      <td>Core i3 Processor (10th</td>\n",
       "    </tr>\n",
       "    <tr>\n",
       "      <th>4</th>\n",
       "      <td>Intel Core i5 Processor (10th Gen)</td>\n",
       "      <td>8 GB DDR4 RAM</td>\n",
       "      <td>64 bit Windows 10 Operating System</td>\n",
       "      <td>512 GB SSD</td>\n",
       "      <td>39.62 cm (15.6 inch) Display</td>\n",
       "      <td>1 Year International Travelers Warranty</td>\n",
       "      <td>₹50,940</td>\n",
       "      <td>4.4</td>\n",
       "      <td>acer</td>\n",
       "      <td>acer Aspire 7 Core i5 10th Gen</td>\n",
       "      <td>Intel</td>\n",
       "      <td>Core i5 Processor (10th</td>\n",
       "    </tr>\n",
       "  </tbody>\n",
       "</table>\n",
       "</div>"
      ],
      "text/plain": [
       "                            Processor            RAM  \\\n",
       "0     AMD Ryzen 5 Hexa Core Processor  8 GB DDR4 RAM   \n",
       "1  Intel Core i3 Processor (11th Gen)  8 GB DDR4 RAM   \n",
       "2  Intel Core i3 Processor (10th Gen)  8 GB DDR4 RAM   \n",
       "3  Intel Core i3 Processor (10th Gen)  8 GB DDR4 RAM   \n",
       "4  Intel Core i5 Processor (10th Gen)  8 GB DDR4 RAM   \n",
       "\n",
       "                     Operating System         ROM  \\\n",
       "0  64 bit Windows 10 Operating System  512 GB SSD   \n",
       "1  64 bit Windows 11 Operating System  512 GB SSD   \n",
       "2  64 bit Windows 11 Operating System  512 GB SSD   \n",
       "3         Windows 10 Operating System  256 GB SSD   \n",
       "4  64 bit Windows 10 Operating System  512 GB SSD   \n",
       "\n",
       "                        Display                                 Warranty  \\\n",
       "0  39.62 cm (15.6 inch) Display                   1 Year Onsite Warranty   \n",
       "1  39.62 cm (15.6 inch) Display                   1 Year Onsite Warranty   \n",
       "2  39.62 cm (15.6 inch) Display                   1 Year Onsite Warranty   \n",
       "3  39.62 cm (15.6 inch) Display                         2 Years Warranty   \n",
       "4  39.62 cm (15.6 inch) Display  1 Year International Travelers Warranty   \n",
       "\n",
       "     Price  Rating   Brand                                       Name  \\\n",
       "0  ₹57,949     4.5      HP       HP Pavilion Ryzen 5 Hexa Core 5500U    \n",
       "1  ₹41,940     4.4      HP                       HP Core i3 11th Gen    \n",
       "2  ₹37,940     4.3    ASUS  ASUS VivoBook 15 (2021) Core i3 10th Gen    \n",
       "3  ₹37,940     4.3  Lenovo         Lenovo IdeaPad 3 Core i3 10th Gen    \n",
       "4  ₹50,940     4.4    acer            acer Aspire 7 Core i5 10th Gen    \n",
       "\n",
       "  Processor_brand           Processor_type  \n",
       "0             AMD        Ryzen 5 Hexa Core  \n",
       "1           Intel  Core i3 Processor (11th  \n",
       "2           Intel  Core i3 Processor (10th  \n",
       "3           Intel  Core i3 Processor (10th  \n",
       "4           Intel  Core i5 Processor (10th  "
      ]
     },
     "execution_count": 28,
     "metadata": {},
     "output_type": "execute_result"
    }
   ],
   "source": [
    "df1.head()"
   ]
  },
  {
   "cell_type": "code",
   "execution_count": 29,
   "id": "9da311ca",
   "metadata": {},
   "outputs": [
    {
     "data": {
      "text/plain": [
       "array(['Ryzen 5 Hexa Core', 'Core i3 Processor (11th',\n",
       "       'Core i3 Processor (10th', 'Core i5 Processor (10th',\n",
       "       'Core i5 Processor (11th', 'Ryzen 3 Dual Core Processor (3rd',\n",
       "       'Ryzen 3 Dual Core', 'Celeron Dual Core',\n",
       "       'Core i7 Processor (10th', 'Hexa Core i5 Processor (10th',\n",
       "       'Pentium Quad Core', 'Ryzen 7 Octa Core', 'Core i5 Processor (9th',\n",
       "       'Ryzen 3 Quad Core', 'Core i7 Processor (11th',\n",
       "       'Ryzen 5 Quad Core', 'Evo platform feat 11th Gen Intel Core i5',\n",
       "       'Ryzen 9 Octa Core', 'Core i9 Processor (11th',\n",
       "       'Evo platform feat 11th Gen Intel Core i7',\n",
       "       'Core i9 Processor (12th', 'Ryzen 7 Hexa Core', 'APU Dual Core A6',\n",
       "       'Ryzen 5 Hexa Core Processor (5th',\n",
       "       'Ryzen 7 Octa Core Processor (4th',\n",
       "       'Ryzen 7 Octa Core Processor (5th', 'Core i5 Processor (8th',\n",
       "       'Ryzen 9 Octa Core Processor (5th', 'Core i7 Processor (8th',\n",
       "       'Core i9 Processor (10th', 'Dual Core', 'Core i7 Processor (9th',\n",
       "       'Core i5 Processor (7th', 'Core i5 Processor (5th',\n",
       "       'Core i7 Processor (7th', 'Core i9 Processor (8th',\n",
       "       'Ryzen 7 Quad Core', 'APU Dual Core A9',\n",
       "       'Ryzen 5 Octa Core Processor (11th', 'Core i7 Processor (6th',\n",
       "       'Ryzen 9 Octa Core Processor (9th', 'Ryzen 7 Dual Core'],\n",
       "      dtype=object)"
      ]
     },
     "execution_count": 29,
     "metadata": {},
     "output_type": "execute_result"
    }
   ],
   "source": [
    "df1.Processor_type.unique()"
   ]
  },
  {
   "cell_type": "code",
   "execution_count": 30,
   "id": "68df91ba",
   "metadata": {},
   "outputs": [],
   "source": [
    "df1.Processor_type =df1.Processor_type.apply(lambda x: x.split('Processor')[0]    if ('Processor' in x) else x)"
   ]
  },
  {
   "cell_type": "code",
   "execution_count": 31,
   "id": "e251effc",
   "metadata": {},
   "outputs": [
    {
     "data": {
      "text/html": [
       "<div>\n",
       "<style scoped>\n",
       "    .dataframe tbody tr th:only-of-type {\n",
       "        vertical-align: middle;\n",
       "    }\n",
       "\n",
       "    .dataframe tbody tr th {\n",
       "        vertical-align: top;\n",
       "    }\n",
       "\n",
       "    .dataframe thead th {\n",
       "        text-align: right;\n",
       "    }\n",
       "</style>\n",
       "<table border=\"1\" class=\"dataframe\">\n",
       "  <thead>\n",
       "    <tr style=\"text-align: right;\">\n",
       "      <th></th>\n",
       "      <th>Processor</th>\n",
       "      <th>RAM</th>\n",
       "      <th>Operating System</th>\n",
       "      <th>ROM</th>\n",
       "      <th>Display</th>\n",
       "      <th>Warranty</th>\n",
       "      <th>Price</th>\n",
       "      <th>Rating</th>\n",
       "      <th>Brand</th>\n",
       "      <th>Name</th>\n",
       "      <th>Processor_brand</th>\n",
       "      <th>Processor_type</th>\n",
       "    </tr>\n",
       "  </thead>\n",
       "  <tbody>\n",
       "    <tr>\n",
       "      <th>0</th>\n",
       "      <td>AMD Ryzen 5 Hexa Core Processor</td>\n",
       "      <td>8 GB DDR4 RAM</td>\n",
       "      <td>64 bit Windows 10 Operating System</td>\n",
       "      <td>512 GB SSD</td>\n",
       "      <td>39.62 cm (15.6 inch) Display</td>\n",
       "      <td>1 Year Onsite Warranty</td>\n",
       "      <td>₹57,949</td>\n",
       "      <td>4.5</td>\n",
       "      <td>HP</td>\n",
       "      <td>HP Pavilion Ryzen 5 Hexa Core 5500U</td>\n",
       "      <td>AMD</td>\n",
       "      <td>Ryzen 5 Hexa Core</td>\n",
       "    </tr>\n",
       "    <tr>\n",
       "      <th>1</th>\n",
       "      <td>Intel Core i3 Processor (11th Gen)</td>\n",
       "      <td>8 GB DDR4 RAM</td>\n",
       "      <td>64 bit Windows 11 Operating System</td>\n",
       "      <td>512 GB SSD</td>\n",
       "      <td>39.62 cm (15.6 inch) Display</td>\n",
       "      <td>1 Year Onsite Warranty</td>\n",
       "      <td>₹41,940</td>\n",
       "      <td>4.4</td>\n",
       "      <td>HP</td>\n",
       "      <td>HP Core i3 11th Gen</td>\n",
       "      <td>Intel</td>\n",
       "      <td>Core i3</td>\n",
       "    </tr>\n",
       "    <tr>\n",
       "      <th>2</th>\n",
       "      <td>Intel Core i3 Processor (10th Gen)</td>\n",
       "      <td>8 GB DDR4 RAM</td>\n",
       "      <td>64 bit Windows 11 Operating System</td>\n",
       "      <td>512 GB SSD</td>\n",
       "      <td>39.62 cm (15.6 inch) Display</td>\n",
       "      <td>1 Year Onsite Warranty</td>\n",
       "      <td>₹37,940</td>\n",
       "      <td>4.3</td>\n",
       "      <td>ASUS</td>\n",
       "      <td>ASUS VivoBook 15 (2021) Core i3 10th Gen</td>\n",
       "      <td>Intel</td>\n",
       "      <td>Core i3</td>\n",
       "    </tr>\n",
       "    <tr>\n",
       "      <th>3</th>\n",
       "      <td>Intel Core i3 Processor (10th Gen)</td>\n",
       "      <td>8 GB DDR4 RAM</td>\n",
       "      <td>Windows 10 Operating System</td>\n",
       "      <td>256 GB SSD</td>\n",
       "      <td>39.62 cm (15.6 inch) Display</td>\n",
       "      <td>2 Years Warranty</td>\n",
       "      <td>₹37,940</td>\n",
       "      <td>4.3</td>\n",
       "      <td>Lenovo</td>\n",
       "      <td>Lenovo IdeaPad 3 Core i3 10th Gen</td>\n",
       "      <td>Intel</td>\n",
       "      <td>Core i3</td>\n",
       "    </tr>\n",
       "    <tr>\n",
       "      <th>4</th>\n",
       "      <td>Intel Core i5 Processor (10th Gen)</td>\n",
       "      <td>8 GB DDR4 RAM</td>\n",
       "      <td>64 bit Windows 10 Operating System</td>\n",
       "      <td>512 GB SSD</td>\n",
       "      <td>39.62 cm (15.6 inch) Display</td>\n",
       "      <td>1 Year International Travelers Warranty</td>\n",
       "      <td>₹50,940</td>\n",
       "      <td>4.4</td>\n",
       "      <td>acer</td>\n",
       "      <td>acer Aspire 7 Core i5 10th Gen</td>\n",
       "      <td>Intel</td>\n",
       "      <td>Core i5</td>\n",
       "    </tr>\n",
       "  </tbody>\n",
       "</table>\n",
       "</div>"
      ],
      "text/plain": [
       "                            Processor            RAM  \\\n",
       "0     AMD Ryzen 5 Hexa Core Processor  8 GB DDR4 RAM   \n",
       "1  Intel Core i3 Processor (11th Gen)  8 GB DDR4 RAM   \n",
       "2  Intel Core i3 Processor (10th Gen)  8 GB DDR4 RAM   \n",
       "3  Intel Core i3 Processor (10th Gen)  8 GB DDR4 RAM   \n",
       "4  Intel Core i5 Processor (10th Gen)  8 GB DDR4 RAM   \n",
       "\n",
       "                     Operating System         ROM  \\\n",
       "0  64 bit Windows 10 Operating System  512 GB SSD   \n",
       "1  64 bit Windows 11 Operating System  512 GB SSD   \n",
       "2  64 bit Windows 11 Operating System  512 GB SSD   \n",
       "3         Windows 10 Operating System  256 GB SSD   \n",
       "4  64 bit Windows 10 Operating System  512 GB SSD   \n",
       "\n",
       "                        Display                                 Warranty  \\\n",
       "0  39.62 cm (15.6 inch) Display                   1 Year Onsite Warranty   \n",
       "1  39.62 cm (15.6 inch) Display                   1 Year Onsite Warranty   \n",
       "2  39.62 cm (15.6 inch) Display                   1 Year Onsite Warranty   \n",
       "3  39.62 cm (15.6 inch) Display                         2 Years Warranty   \n",
       "4  39.62 cm (15.6 inch) Display  1 Year International Travelers Warranty   \n",
       "\n",
       "     Price  Rating   Brand                                       Name  \\\n",
       "0  ₹57,949     4.5      HP       HP Pavilion Ryzen 5 Hexa Core 5500U    \n",
       "1  ₹41,940     4.4      HP                       HP Core i3 11th Gen    \n",
       "2  ₹37,940     4.3    ASUS  ASUS VivoBook 15 (2021) Core i3 10th Gen    \n",
       "3  ₹37,940     4.3  Lenovo         Lenovo IdeaPad 3 Core i3 10th Gen    \n",
       "4  ₹50,940     4.4    acer            acer Aspire 7 Core i5 10th Gen    \n",
       "\n",
       "  Processor_brand     Processor_type  \n",
       "0             AMD  Ryzen 5 Hexa Core  \n",
       "1           Intel           Core i3   \n",
       "2           Intel           Core i3   \n",
       "3           Intel           Core i3   \n",
       "4           Intel           Core i5   "
      ]
     },
     "execution_count": 31,
     "metadata": {},
     "output_type": "execute_result"
    }
   ],
   "source": [
    "df1.head()"
   ]
  },
  {
   "cell_type": "markdown",
   "id": "603cdb34",
   "metadata": {},
   "source": [
    "### Display"
   ]
  },
  {
   "cell_type": "code",
   "execution_count": 32,
   "id": "388ac2ce",
   "metadata": {},
   "outputs": [
    {
     "data": {
      "text/plain": [
       "array(['39.62 cm (15.6 inch) Display', '35.56 cm (14 inch) Display',\n",
       "       '33.78 cm (13.3 inch) Display', '35.81 cm (14.1 inch) Display',\n",
       "       '36.07 cm (14.2 inch) Display', '43.94 cm (17.3 inch) Display',\n",
       "       '35.56 cm (14 inch) Touchscreen Display',\n",
       "       '39.62 cm (15.6 inches) Display', '38.1 cm (15 inch) Display',\n",
       "       '41.15 cm (16.2 inch) Display', '35.56 cm (14 inches) Display',\n",
       "       '39.62 cm (15.6 inch) Touchscreen Display',\n",
       "       '33.78 cm (13.3 inch) Touchscreen Display',\n",
       "       '33.02 cm (13 inch) Display',\n",
       "       '29.46 cm (11.6 inch) Touchscreen Display',\n",
       "       '15.6 inch Full HD LED Backlit Anti-glare IPS Display, 300 Hz, 300 Nits',\n",
       "       '43.94 cm (17.3 inch) Touchscreen Display',\n",
       "       '34.04 cm (13.4 inch) Touchscreen Display',\n",
       "       '38.1 cm (15 inch) Touchscreen Display',\n",
       "       '40.89 cm (16.1 inch) Display', '40.64 cm (16 inch) Display',\n",
       "       '33.78 cm (13.3 inches) Display',\n",
       "       '34.29 cm (13.5 inch) Touchscreen Display',\n",
       "       '29.46 cm (11.6 inch) Display',\n",
       "       '15.6 inches Full HD IPS Thin Bezel Display (144Hz, 45% NTSC Color Gamut)',\n",
       "       '35.56 cm (14 inches) Touchscreen Display',\n",
       "       '43.94 cm (17.3 inches) Display', '38.0 cm (14.96 inch) Display',\n",
       "       '30.99 cm (12.2 inch) Touchscreen Display',\n",
       "       '30.48 cm (12 inch) Display',\n",
       "       '15.6 inches Full HD, 2-sided narrow bezel, 120Hz, 250 Nits'],\n",
       "      dtype=object)"
      ]
     },
     "execution_count": 32,
     "metadata": {},
     "output_type": "execute_result"
    }
   ],
   "source": [
    " df1['Display'].unique()"
   ]
  },
  {
   "cell_type": "code",
   "execution_count": 33,
   "id": "c5317cc0",
   "metadata": {},
   "outputs": [],
   "source": [
    "df1['Display_cm'] = df1['Display'].apply(lambda x:x.split(' ')[0])"
   ]
  },
  {
   "cell_type": "code",
   "execution_count": 34,
   "id": "333aa985",
   "metadata": {},
   "outputs": [
    {
     "data": {
      "text/plain": [
       "array(['39.62', '35.56', '33.78', '35.81', '36.07', '43.94', '38.1',\n",
       "       '41.15', '33.02', '29.46', '15.6', '34.04', '40.89', '40.64',\n",
       "       '34.29', '38.0', '30.99', '30.48'], dtype=object)"
      ]
     },
     "execution_count": 34,
     "metadata": {},
     "output_type": "execute_result"
    }
   ],
   "source": [
    "df1.Display_cm.unique()"
   ]
  },
  {
   "cell_type": "code",
   "execution_count": 35,
   "id": "bb903267",
   "metadata": {},
   "outputs": [],
   "source": [
    "df1['Display_cm'] = df1['Display_cm'].astype(np.float64)"
   ]
  },
  {
   "cell_type": "code",
   "execution_count": 36,
   "id": "82ddd98c",
   "metadata": {},
   "outputs": [
    {
     "data": {
      "text/plain": [
       "array([39.62, 35.56, 33.78, 35.81, 36.07, 43.94, 38.1 , 41.15, 33.02,\n",
       "       29.46, 15.6 , 34.04, 40.89, 40.64, 34.29, 38.  , 30.99, 30.48])"
      ]
     },
     "execution_count": 36,
     "metadata": {},
     "output_type": "execute_result"
    }
   ],
   "source": [
    "df1.Display_cm.unique()"
   ]
  },
  {
   "cell_type": "code",
   "execution_count": 37,
   "id": "7f388150",
   "metadata": {},
   "outputs": [],
   "source": [
    "df1.drop('Display', axis = 1, inplace = True)"
   ]
  },
  {
   "cell_type": "code",
   "execution_count": 38,
   "id": "7cafff67",
   "metadata": {},
   "outputs": [
    {
     "data": {
      "text/html": [
       "<div>\n",
       "<style scoped>\n",
       "    .dataframe tbody tr th:only-of-type {\n",
       "        vertical-align: middle;\n",
       "    }\n",
       "\n",
       "    .dataframe tbody tr th {\n",
       "        vertical-align: top;\n",
       "    }\n",
       "\n",
       "    .dataframe thead th {\n",
       "        text-align: right;\n",
       "    }\n",
       "</style>\n",
       "<table border=\"1\" class=\"dataframe\">\n",
       "  <thead>\n",
       "    <tr style=\"text-align: right;\">\n",
       "      <th></th>\n",
       "      <th>Processor</th>\n",
       "      <th>RAM</th>\n",
       "      <th>Operating System</th>\n",
       "      <th>ROM</th>\n",
       "      <th>Warranty</th>\n",
       "      <th>Price</th>\n",
       "      <th>Rating</th>\n",
       "      <th>Brand</th>\n",
       "      <th>Name</th>\n",
       "      <th>Processor_brand</th>\n",
       "      <th>Processor_type</th>\n",
       "      <th>Display_cm</th>\n",
       "    </tr>\n",
       "  </thead>\n",
       "  <tbody>\n",
       "    <tr>\n",
       "      <th>0</th>\n",
       "      <td>AMD Ryzen 5 Hexa Core Processor</td>\n",
       "      <td>8 GB DDR4 RAM</td>\n",
       "      <td>64 bit Windows 10 Operating System</td>\n",
       "      <td>512 GB SSD</td>\n",
       "      <td>1 Year Onsite Warranty</td>\n",
       "      <td>₹57,949</td>\n",
       "      <td>4.5</td>\n",
       "      <td>HP</td>\n",
       "      <td>HP Pavilion Ryzen 5 Hexa Core 5500U</td>\n",
       "      <td>AMD</td>\n",
       "      <td>Ryzen 5 Hexa Core</td>\n",
       "      <td>39.62</td>\n",
       "    </tr>\n",
       "    <tr>\n",
       "      <th>1</th>\n",
       "      <td>Intel Core i3 Processor (11th Gen)</td>\n",
       "      <td>8 GB DDR4 RAM</td>\n",
       "      <td>64 bit Windows 11 Operating System</td>\n",
       "      <td>512 GB SSD</td>\n",
       "      <td>1 Year Onsite Warranty</td>\n",
       "      <td>₹41,940</td>\n",
       "      <td>4.4</td>\n",
       "      <td>HP</td>\n",
       "      <td>HP Core i3 11th Gen</td>\n",
       "      <td>Intel</td>\n",
       "      <td>Core i3</td>\n",
       "      <td>39.62</td>\n",
       "    </tr>\n",
       "    <tr>\n",
       "      <th>2</th>\n",
       "      <td>Intel Core i3 Processor (10th Gen)</td>\n",
       "      <td>8 GB DDR4 RAM</td>\n",
       "      <td>64 bit Windows 11 Operating System</td>\n",
       "      <td>512 GB SSD</td>\n",
       "      <td>1 Year Onsite Warranty</td>\n",
       "      <td>₹37,940</td>\n",
       "      <td>4.3</td>\n",
       "      <td>ASUS</td>\n",
       "      <td>ASUS VivoBook 15 (2021) Core i3 10th Gen</td>\n",
       "      <td>Intel</td>\n",
       "      <td>Core i3</td>\n",
       "      <td>39.62</td>\n",
       "    </tr>\n",
       "    <tr>\n",
       "      <th>3</th>\n",
       "      <td>Intel Core i3 Processor (10th Gen)</td>\n",
       "      <td>8 GB DDR4 RAM</td>\n",
       "      <td>Windows 10 Operating System</td>\n",
       "      <td>256 GB SSD</td>\n",
       "      <td>2 Years Warranty</td>\n",
       "      <td>₹37,940</td>\n",
       "      <td>4.3</td>\n",
       "      <td>Lenovo</td>\n",
       "      <td>Lenovo IdeaPad 3 Core i3 10th Gen</td>\n",
       "      <td>Intel</td>\n",
       "      <td>Core i3</td>\n",
       "      <td>39.62</td>\n",
       "    </tr>\n",
       "    <tr>\n",
       "      <th>4</th>\n",
       "      <td>Intel Core i5 Processor (10th Gen)</td>\n",
       "      <td>8 GB DDR4 RAM</td>\n",
       "      <td>64 bit Windows 10 Operating System</td>\n",
       "      <td>512 GB SSD</td>\n",
       "      <td>1 Year International Travelers Warranty</td>\n",
       "      <td>₹50,940</td>\n",
       "      <td>4.4</td>\n",
       "      <td>acer</td>\n",
       "      <td>acer Aspire 7 Core i5 10th Gen</td>\n",
       "      <td>Intel</td>\n",
       "      <td>Core i5</td>\n",
       "      <td>39.62</td>\n",
       "    </tr>\n",
       "  </tbody>\n",
       "</table>\n",
       "</div>"
      ],
      "text/plain": [
       "                            Processor            RAM  \\\n",
       "0     AMD Ryzen 5 Hexa Core Processor  8 GB DDR4 RAM   \n",
       "1  Intel Core i3 Processor (11th Gen)  8 GB DDR4 RAM   \n",
       "2  Intel Core i3 Processor (10th Gen)  8 GB DDR4 RAM   \n",
       "3  Intel Core i3 Processor (10th Gen)  8 GB DDR4 RAM   \n",
       "4  Intel Core i5 Processor (10th Gen)  8 GB DDR4 RAM   \n",
       "\n",
       "                     Operating System         ROM  \\\n",
       "0  64 bit Windows 10 Operating System  512 GB SSD   \n",
       "1  64 bit Windows 11 Operating System  512 GB SSD   \n",
       "2  64 bit Windows 11 Operating System  512 GB SSD   \n",
       "3         Windows 10 Operating System  256 GB SSD   \n",
       "4  64 bit Windows 10 Operating System  512 GB SSD   \n",
       "\n",
       "                                  Warranty    Price  Rating   Brand  \\\n",
       "0                   1 Year Onsite Warranty  ₹57,949     4.5      HP   \n",
       "1                   1 Year Onsite Warranty  ₹41,940     4.4      HP   \n",
       "2                   1 Year Onsite Warranty  ₹37,940     4.3    ASUS   \n",
       "3                         2 Years Warranty  ₹37,940     4.3  Lenovo   \n",
       "4  1 Year International Travelers Warranty  ₹50,940     4.4    acer   \n",
       "\n",
       "                                        Name Processor_brand  \\\n",
       "0       HP Pavilion Ryzen 5 Hexa Core 5500U              AMD   \n",
       "1                       HP Core i3 11th Gen            Intel   \n",
       "2  ASUS VivoBook 15 (2021) Core i3 10th Gen            Intel   \n",
       "3         Lenovo IdeaPad 3 Core i3 10th Gen            Intel   \n",
       "4            acer Aspire 7 Core i5 10th Gen            Intel   \n",
       "\n",
       "      Processor_type  Display_cm  \n",
       "0  Ryzen 5 Hexa Core       39.62  \n",
       "1           Core i3        39.62  \n",
       "2           Core i3        39.62  \n",
       "3           Core i3        39.62  \n",
       "4           Core i5        39.62  "
      ]
     },
     "execution_count": 38,
     "metadata": {},
     "output_type": "execute_result"
    }
   ],
   "source": [
    "df1.head()"
   ]
  },
  {
   "cell_type": "markdown",
   "id": "f4d72d73",
   "metadata": {},
   "source": [
    "### RAM"
   ]
  },
  {
   "cell_type": "code",
   "execution_count": 39,
   "id": "0252a39e",
   "metadata": {},
   "outputs": [
    {
     "data": {
      "text/plain": [
       "array(['8 GB DDR4 RAM', '4 GB DDR4 RAM', '16 GB DDR4 RAM',\n",
       "       '4 GB LPDDR4 RAM', '16 GB Unified Memory RAM', '16 GB LPDDR4X RAM',\n",
       "       '8 GB LPDDR4X RAM', '32 GB DDR4 RAM', '16 GB DDR5 RAM',\n",
       "       '32 GB Unified Memory RAM', '32 GB DDR5 RAM', '4 GB LPDDR4X RAM',\n",
       "       '8 GB DDR3 RAM', '16 GB DDR3 RAM', '8 GB LPDDR3 RAM',\n",
       "       '16 GB LPDDR3 RAM', '32 GB LPDDR4X RAM', '4 GB DDR3 RAM',\n",
       "       '16 GB LPDDR4 RAM'], dtype=object)"
      ]
     },
     "execution_count": 39,
     "metadata": {},
     "output_type": "execute_result"
    }
   ],
   "source": [
    "df1['RAM'].unique()"
   ]
  },
  {
   "cell_type": "code",
   "execution_count": 40,
   "id": "c66af925",
   "metadata": {},
   "outputs": [],
   "source": [
    "df1['RAM_GB'] = df1['RAM'].apply(lambda x:x.split(' ')[0])"
   ]
  },
  {
   "cell_type": "code",
   "execution_count": 41,
   "id": "dba2983a",
   "metadata": {},
   "outputs": [
    {
     "data": {
      "text/plain": [
       "array(['8', '4', '16', '32'], dtype=object)"
      ]
     },
     "execution_count": 41,
     "metadata": {},
     "output_type": "execute_result"
    }
   ],
   "source": [
    "df1['RAM_GB'].unique()"
   ]
  },
  {
   "cell_type": "code",
   "execution_count": 42,
   "id": "74aa0834",
   "metadata": {},
   "outputs": [],
   "source": [
    "df1['RAM_GB'].replace('Upgradable',0, inplace = True)"
   ]
  },
  {
   "cell_type": "code",
   "execution_count": 43,
   "id": "46199fab",
   "metadata": {},
   "outputs": [
    {
     "data": {
      "text/plain": [
       "array(['8', '4', '16', '32'], dtype=object)"
      ]
     },
     "execution_count": 43,
     "metadata": {},
     "output_type": "execute_result"
    }
   ],
   "source": [
    "df1['RAM_GB'].unique()"
   ]
  },
  {
   "cell_type": "code",
   "execution_count": 44,
   "id": "cf051444",
   "metadata": {},
   "outputs": [],
   "source": [
    "df1['RAM_GB'] = df1['RAM_GB'].astype(np.int64)"
   ]
  },
  {
   "cell_type": "code",
   "execution_count": 45,
   "id": "db0988da",
   "metadata": {},
   "outputs": [],
   "source": [
    "df1['RAM_type'] = df1['RAM'].apply(lambda x:x.split(' ')[2])"
   ]
  },
  {
   "cell_type": "code",
   "execution_count": 46,
   "id": "bd9d9648",
   "metadata": {},
   "outputs": [
    {
     "data": {
      "text/plain": [
       "array(['DDR4', 'LPDDR4', 'Unified', 'LPDDR4X', 'DDR5', 'DDR3', 'LPDDR3'],\n",
       "      dtype=object)"
      ]
     },
     "execution_count": 46,
     "metadata": {},
     "output_type": "execute_result"
    }
   ],
   "source": [
    "df1['RAM_type'].unique()"
   ]
  },
  {
   "cell_type": "code",
   "execution_count": 47,
   "id": "338dbc66",
   "metadata": {},
   "outputs": [
    {
     "data": {
      "text/plain": [
       "0    DDR4\n",
       "dtype: object"
      ]
     },
     "execution_count": 47,
     "metadata": {},
     "output_type": "execute_result"
    }
   ],
   "source": [
    "df1.RAM_type.mode()"
   ]
  },
  {
   "cell_type": "code",
   "execution_count": 48,
   "id": "c13ffd43",
   "metadata": {},
   "outputs": [],
   "source": [
    "df1.RAM_type = df1.RAM_type.replace('Unified','DDR4')"
   ]
  },
  {
   "cell_type": "code",
   "execution_count": 49,
   "id": "dbf9c307",
   "metadata": {},
   "outputs": [],
   "source": [
    "df1.drop('RAM', axis = 1, inplace = True)"
   ]
  },
  {
   "cell_type": "code",
   "execution_count": 50,
   "id": "3563dc2d",
   "metadata": {},
   "outputs": [
    {
     "data": {
      "text/html": [
       "<div>\n",
       "<style scoped>\n",
       "    .dataframe tbody tr th:only-of-type {\n",
       "        vertical-align: middle;\n",
       "    }\n",
       "\n",
       "    .dataframe tbody tr th {\n",
       "        vertical-align: top;\n",
       "    }\n",
       "\n",
       "    .dataframe thead th {\n",
       "        text-align: right;\n",
       "    }\n",
       "</style>\n",
       "<table border=\"1\" class=\"dataframe\">\n",
       "  <thead>\n",
       "    <tr style=\"text-align: right;\">\n",
       "      <th></th>\n",
       "      <th>Processor</th>\n",
       "      <th>Operating System</th>\n",
       "      <th>ROM</th>\n",
       "      <th>Warranty</th>\n",
       "      <th>Price</th>\n",
       "      <th>Rating</th>\n",
       "      <th>Brand</th>\n",
       "      <th>Name</th>\n",
       "      <th>Processor_brand</th>\n",
       "      <th>Processor_type</th>\n",
       "      <th>Display_cm</th>\n",
       "      <th>RAM_GB</th>\n",
       "      <th>RAM_type</th>\n",
       "    </tr>\n",
       "  </thead>\n",
       "  <tbody>\n",
       "    <tr>\n",
       "      <th>0</th>\n",
       "      <td>AMD Ryzen 5 Hexa Core Processor</td>\n",
       "      <td>64 bit Windows 10 Operating System</td>\n",
       "      <td>512 GB SSD</td>\n",
       "      <td>1 Year Onsite Warranty</td>\n",
       "      <td>₹57,949</td>\n",
       "      <td>4.5</td>\n",
       "      <td>HP</td>\n",
       "      <td>HP Pavilion Ryzen 5 Hexa Core 5500U</td>\n",
       "      <td>AMD</td>\n",
       "      <td>Ryzen 5 Hexa Core</td>\n",
       "      <td>39.62</td>\n",
       "      <td>8</td>\n",
       "      <td>DDR4</td>\n",
       "    </tr>\n",
       "    <tr>\n",
       "      <th>1</th>\n",
       "      <td>Intel Core i3 Processor (11th Gen)</td>\n",
       "      <td>64 bit Windows 11 Operating System</td>\n",
       "      <td>512 GB SSD</td>\n",
       "      <td>1 Year Onsite Warranty</td>\n",
       "      <td>₹41,940</td>\n",
       "      <td>4.4</td>\n",
       "      <td>HP</td>\n",
       "      <td>HP Core i3 11th Gen</td>\n",
       "      <td>Intel</td>\n",
       "      <td>Core i3</td>\n",
       "      <td>39.62</td>\n",
       "      <td>8</td>\n",
       "      <td>DDR4</td>\n",
       "    </tr>\n",
       "    <tr>\n",
       "      <th>2</th>\n",
       "      <td>Intel Core i3 Processor (10th Gen)</td>\n",
       "      <td>64 bit Windows 11 Operating System</td>\n",
       "      <td>512 GB SSD</td>\n",
       "      <td>1 Year Onsite Warranty</td>\n",
       "      <td>₹37,940</td>\n",
       "      <td>4.3</td>\n",
       "      <td>ASUS</td>\n",
       "      <td>ASUS VivoBook 15 (2021) Core i3 10th Gen</td>\n",
       "      <td>Intel</td>\n",
       "      <td>Core i3</td>\n",
       "      <td>39.62</td>\n",
       "      <td>8</td>\n",
       "      <td>DDR4</td>\n",
       "    </tr>\n",
       "    <tr>\n",
       "      <th>3</th>\n",
       "      <td>Intel Core i3 Processor (10th Gen)</td>\n",
       "      <td>Windows 10 Operating System</td>\n",
       "      <td>256 GB SSD</td>\n",
       "      <td>2 Years Warranty</td>\n",
       "      <td>₹37,940</td>\n",
       "      <td>4.3</td>\n",
       "      <td>Lenovo</td>\n",
       "      <td>Lenovo IdeaPad 3 Core i3 10th Gen</td>\n",
       "      <td>Intel</td>\n",
       "      <td>Core i3</td>\n",
       "      <td>39.62</td>\n",
       "      <td>8</td>\n",
       "      <td>DDR4</td>\n",
       "    </tr>\n",
       "    <tr>\n",
       "      <th>4</th>\n",
       "      <td>Intel Core i5 Processor (10th Gen)</td>\n",
       "      <td>64 bit Windows 10 Operating System</td>\n",
       "      <td>512 GB SSD</td>\n",
       "      <td>1 Year International Travelers Warranty</td>\n",
       "      <td>₹50,940</td>\n",
       "      <td>4.4</td>\n",
       "      <td>acer</td>\n",
       "      <td>acer Aspire 7 Core i5 10th Gen</td>\n",
       "      <td>Intel</td>\n",
       "      <td>Core i5</td>\n",
       "      <td>39.62</td>\n",
       "      <td>8</td>\n",
       "      <td>DDR4</td>\n",
       "    </tr>\n",
       "  </tbody>\n",
       "</table>\n",
       "</div>"
      ],
      "text/plain": [
       "                            Processor                    Operating System  \\\n",
       "0     AMD Ryzen 5 Hexa Core Processor  64 bit Windows 10 Operating System   \n",
       "1  Intel Core i3 Processor (11th Gen)  64 bit Windows 11 Operating System   \n",
       "2  Intel Core i3 Processor (10th Gen)  64 bit Windows 11 Operating System   \n",
       "3  Intel Core i3 Processor (10th Gen)         Windows 10 Operating System   \n",
       "4  Intel Core i5 Processor (10th Gen)  64 bit Windows 10 Operating System   \n",
       "\n",
       "          ROM                                 Warranty    Price  Rating  \\\n",
       "0  512 GB SSD                   1 Year Onsite Warranty  ₹57,949     4.5   \n",
       "1  512 GB SSD                   1 Year Onsite Warranty  ₹41,940     4.4   \n",
       "2  512 GB SSD                   1 Year Onsite Warranty  ₹37,940     4.3   \n",
       "3  256 GB SSD                         2 Years Warranty  ₹37,940     4.3   \n",
       "4  512 GB SSD  1 Year International Travelers Warranty  ₹50,940     4.4   \n",
       "\n",
       "    Brand                                       Name Processor_brand  \\\n",
       "0      HP       HP Pavilion Ryzen 5 Hexa Core 5500U              AMD   \n",
       "1      HP                       HP Core i3 11th Gen            Intel   \n",
       "2    ASUS  ASUS VivoBook 15 (2021) Core i3 10th Gen            Intel   \n",
       "3  Lenovo         Lenovo IdeaPad 3 Core i3 10th Gen            Intel   \n",
       "4    acer            acer Aspire 7 Core i5 10th Gen            Intel   \n",
       "\n",
       "      Processor_type  Display_cm  RAM_GB RAM_type  \n",
       "0  Ryzen 5 Hexa Core       39.62       8     DDR4  \n",
       "1           Core i3        39.62       8     DDR4  \n",
       "2           Core i3        39.62       8     DDR4  \n",
       "3           Core i3        39.62       8     DDR4  \n",
       "4           Core i5        39.62       8     DDR4  "
      ]
     },
     "execution_count": 50,
     "metadata": {},
     "output_type": "execute_result"
    }
   ],
   "source": [
    "df1.head()"
   ]
  },
  {
   "cell_type": "markdown",
   "id": "818c436f",
   "metadata": {},
   "source": [
    "### ROM"
   ]
  },
  {
   "cell_type": "code",
   "execution_count": 51,
   "id": "dddec8eb",
   "metadata": {},
   "outputs": [
    {
     "data": {
      "text/plain": [
       "array(['512 GB SSD', '256 GB SSD', '1 TB HDD|256 GB SSD', '1 TB HDD',\n",
       "       'PCI-e SSD (NVMe) ready,Cooler Boost,Matrix Display (Extend),Hi-Res Audio,Nahimic 3,144Hz Panel,Thin Bezel',\n",
       "       '1 TB SSD',\n",
       "       'PCI-e SSD (NVMe) ready,SHIFT,Silver-Lining Print,Cooler Boost 5,Audio Boost,Dragon Center,Nahimic 3,Narrow Bezel, 144Hz Panel',\n",
       "       '1 TB HDD|512 GB SSD',\n",
       "       'PCI-e SSD (NVMe) ready,Silver-Lining Print Keyboard,Matrix Display (Extend),Cooler Boost 5,Hi-Res Audio,Nahimic 3,144Hz Panel,Thin Bezel,RGB Gaming Keyboard,Speaker Tuning Engine,MSI Center',\n",
       "       '128 GB SSD', '2 TB SSD',\n",
       "       'PCI-e Gen4 SSD?SHIFT?Matrix Display (Extend)?Cooler Boost 3?Thunderbolt 4?Finger Print Security?True Color 2.0?Hi-Res Audio?Nahimic 3? 4-Sided Thin bezel, MSI Cente, Silky Smooth Touchpad, Military-Grade Durability',\n",
       "       'PCI-e SSD (NVMe) ready,Cooler Boost,Hi-Res Audio,Nahimic 3,Thin Bezel,Military-Grade Durability',\n",
       "       '512 GB HDD|512 GB SSD', '1 TB HDD|128 GB SSD', '3 TB SSD',\n",
       "       '128 GB SSD for Reduced Boot Up Time and In Game Loading'],\n",
       "      dtype=object)"
      ]
     },
     "execution_count": 51,
     "metadata": {},
     "output_type": "execute_result"
    }
   ],
   "source": [
    "df1.ROM.unique()"
   ]
  },
  {
   "cell_type": "code",
   "execution_count": 52,
   "id": "3954774e",
   "metadata": {},
   "outputs": [],
   "source": [
    "df1.ROM = df1.ROM.apply(lambda x : 'NaN' if ('PCI' in x) else x)"
   ]
  },
  {
   "cell_type": "code",
   "execution_count": 53,
   "id": "dda9e895",
   "metadata": {},
   "outputs": [],
   "source": [
    "df1.ROM = df1.ROM.replace('M.2 Slot for SSD Upgrade','NaN')"
   ]
  },
  {
   "cell_type": "code",
   "execution_count": 54,
   "id": "dd638d7f",
   "metadata": {},
   "outputs": [
    {
     "data": {
      "text/plain": [
       "array(['512 GB SSD', '256 GB SSD', '1 TB HDD|256 GB SSD', '1 TB HDD',\n",
       "       'NaN', '1 TB SSD', '1 TB HDD|512 GB SSD', '128 GB SSD', '2 TB SSD',\n",
       "       '512 GB HDD|512 GB SSD', '1 TB HDD|128 GB SSD', '3 TB SSD',\n",
       "       '128 GB SSD for Reduced Boot Up Time and In Game Loading'],\n",
       "      dtype=object)"
      ]
     },
     "execution_count": 54,
     "metadata": {},
     "output_type": "execute_result"
    }
   ],
   "source": [
    "df1.ROM.unique()"
   ]
  },
  {
   "cell_type": "code",
   "execution_count": 55,
   "id": "352b7f52",
   "metadata": {},
   "outputs": [],
   "source": [
    "df1['ROM_type'] = df1['ROM'].apply(lambda x : 'both'  if ('|' in x) else x)"
   ]
  },
  {
   "cell_type": "code",
   "execution_count": 56,
   "id": "d6721cdd",
   "metadata": {},
   "outputs": [],
   "source": [
    "df1['ROM_type'] = df1.ROM_type.apply(lambda x: 'HDD' if ('HDD' in x) else x )"
   ]
  },
  {
   "cell_type": "code",
   "execution_count": 57,
   "id": "b3f15685",
   "metadata": {},
   "outputs": [],
   "source": [
    "df1['ROM_type'] = df1.ROM_type.apply(lambda x: 'SSD' if ('SSD' in x) else x )"
   ]
  },
  {
   "cell_type": "code",
   "execution_count": 58,
   "id": "e749a5dc",
   "metadata": {},
   "outputs": [
    {
     "data": {
      "text/html": [
       "<div>\n",
       "<style scoped>\n",
       "    .dataframe tbody tr th:only-of-type {\n",
       "        vertical-align: middle;\n",
       "    }\n",
       "\n",
       "    .dataframe tbody tr th {\n",
       "        vertical-align: top;\n",
       "    }\n",
       "\n",
       "    .dataframe thead th {\n",
       "        text-align: right;\n",
       "    }\n",
       "</style>\n",
       "<table border=\"1\" class=\"dataframe\">\n",
       "  <thead>\n",
       "    <tr style=\"text-align: right;\">\n",
       "      <th></th>\n",
       "      <th>Processor</th>\n",
       "      <th>Operating System</th>\n",
       "      <th>ROM</th>\n",
       "      <th>Warranty</th>\n",
       "      <th>Price</th>\n",
       "      <th>Rating</th>\n",
       "      <th>Brand</th>\n",
       "      <th>Name</th>\n",
       "      <th>Processor_brand</th>\n",
       "      <th>Processor_type</th>\n",
       "      <th>Display_cm</th>\n",
       "      <th>RAM_GB</th>\n",
       "      <th>RAM_type</th>\n",
       "      <th>ROM_type</th>\n",
       "    </tr>\n",
       "  </thead>\n",
       "  <tbody>\n",
       "    <tr>\n",
       "      <th>0</th>\n",
       "      <td>AMD Ryzen 5 Hexa Core Processor</td>\n",
       "      <td>64 bit Windows 10 Operating System</td>\n",
       "      <td>512 GB SSD</td>\n",
       "      <td>1 Year Onsite Warranty</td>\n",
       "      <td>₹57,949</td>\n",
       "      <td>4.5</td>\n",
       "      <td>HP</td>\n",
       "      <td>HP Pavilion Ryzen 5 Hexa Core 5500U</td>\n",
       "      <td>AMD</td>\n",
       "      <td>Ryzen 5 Hexa Core</td>\n",
       "      <td>39.62</td>\n",
       "      <td>8</td>\n",
       "      <td>DDR4</td>\n",
       "      <td>SSD</td>\n",
       "    </tr>\n",
       "    <tr>\n",
       "      <th>1</th>\n",
       "      <td>Intel Core i3 Processor (11th Gen)</td>\n",
       "      <td>64 bit Windows 11 Operating System</td>\n",
       "      <td>512 GB SSD</td>\n",
       "      <td>1 Year Onsite Warranty</td>\n",
       "      <td>₹41,940</td>\n",
       "      <td>4.4</td>\n",
       "      <td>HP</td>\n",
       "      <td>HP Core i3 11th Gen</td>\n",
       "      <td>Intel</td>\n",
       "      <td>Core i3</td>\n",
       "      <td>39.62</td>\n",
       "      <td>8</td>\n",
       "      <td>DDR4</td>\n",
       "      <td>SSD</td>\n",
       "    </tr>\n",
       "    <tr>\n",
       "      <th>2</th>\n",
       "      <td>Intel Core i3 Processor (10th Gen)</td>\n",
       "      <td>64 bit Windows 11 Operating System</td>\n",
       "      <td>512 GB SSD</td>\n",
       "      <td>1 Year Onsite Warranty</td>\n",
       "      <td>₹37,940</td>\n",
       "      <td>4.3</td>\n",
       "      <td>ASUS</td>\n",
       "      <td>ASUS VivoBook 15 (2021) Core i3 10th Gen</td>\n",
       "      <td>Intel</td>\n",
       "      <td>Core i3</td>\n",
       "      <td>39.62</td>\n",
       "      <td>8</td>\n",
       "      <td>DDR4</td>\n",
       "      <td>SSD</td>\n",
       "    </tr>\n",
       "    <tr>\n",
       "      <th>3</th>\n",
       "      <td>Intel Core i3 Processor (10th Gen)</td>\n",
       "      <td>Windows 10 Operating System</td>\n",
       "      <td>256 GB SSD</td>\n",
       "      <td>2 Years Warranty</td>\n",
       "      <td>₹37,940</td>\n",
       "      <td>4.3</td>\n",
       "      <td>Lenovo</td>\n",
       "      <td>Lenovo IdeaPad 3 Core i3 10th Gen</td>\n",
       "      <td>Intel</td>\n",
       "      <td>Core i3</td>\n",
       "      <td>39.62</td>\n",
       "      <td>8</td>\n",
       "      <td>DDR4</td>\n",
       "      <td>SSD</td>\n",
       "    </tr>\n",
       "    <tr>\n",
       "      <th>4</th>\n",
       "      <td>Intel Core i5 Processor (10th Gen)</td>\n",
       "      <td>64 bit Windows 10 Operating System</td>\n",
       "      <td>512 GB SSD</td>\n",
       "      <td>1 Year International Travelers Warranty</td>\n",
       "      <td>₹50,940</td>\n",
       "      <td>4.4</td>\n",
       "      <td>acer</td>\n",
       "      <td>acer Aspire 7 Core i5 10th Gen</td>\n",
       "      <td>Intel</td>\n",
       "      <td>Core i5</td>\n",
       "      <td>39.62</td>\n",
       "      <td>8</td>\n",
       "      <td>DDR4</td>\n",
       "      <td>SSD</td>\n",
       "    </tr>\n",
       "  </tbody>\n",
       "</table>\n",
       "</div>"
      ],
      "text/plain": [
       "                            Processor                    Operating System  \\\n",
       "0     AMD Ryzen 5 Hexa Core Processor  64 bit Windows 10 Operating System   \n",
       "1  Intel Core i3 Processor (11th Gen)  64 bit Windows 11 Operating System   \n",
       "2  Intel Core i3 Processor (10th Gen)  64 bit Windows 11 Operating System   \n",
       "3  Intel Core i3 Processor (10th Gen)         Windows 10 Operating System   \n",
       "4  Intel Core i5 Processor (10th Gen)  64 bit Windows 10 Operating System   \n",
       "\n",
       "          ROM                                 Warranty    Price  Rating  \\\n",
       "0  512 GB SSD                   1 Year Onsite Warranty  ₹57,949     4.5   \n",
       "1  512 GB SSD                   1 Year Onsite Warranty  ₹41,940     4.4   \n",
       "2  512 GB SSD                   1 Year Onsite Warranty  ₹37,940     4.3   \n",
       "3  256 GB SSD                         2 Years Warranty  ₹37,940     4.3   \n",
       "4  512 GB SSD  1 Year International Travelers Warranty  ₹50,940     4.4   \n",
       "\n",
       "    Brand                                       Name Processor_brand  \\\n",
       "0      HP       HP Pavilion Ryzen 5 Hexa Core 5500U              AMD   \n",
       "1      HP                       HP Core i3 11th Gen            Intel   \n",
       "2    ASUS  ASUS VivoBook 15 (2021) Core i3 10th Gen            Intel   \n",
       "3  Lenovo         Lenovo IdeaPad 3 Core i3 10th Gen            Intel   \n",
       "4    acer            acer Aspire 7 Core i5 10th Gen            Intel   \n",
       "\n",
       "      Processor_type  Display_cm  RAM_GB RAM_type ROM_type  \n",
       "0  Ryzen 5 Hexa Core       39.62       8     DDR4      SSD  \n",
       "1           Core i3        39.62       8     DDR4      SSD  \n",
       "2           Core i3        39.62       8     DDR4      SSD  \n",
       "3           Core i3        39.62       8     DDR4      SSD  \n",
       "4           Core i5        39.62       8     DDR4      SSD  "
      ]
     },
     "execution_count": 58,
     "metadata": {},
     "output_type": "execute_result"
    }
   ],
   "source": [
    "df1.head()"
   ]
  },
  {
   "cell_type": "code",
   "execution_count": 59,
   "id": "8b43a9d3",
   "metadata": {},
   "outputs": [
    {
     "data": {
      "text/plain": [
       "array(['SSD', 'both', 'HDD', 'NaN'], dtype=object)"
      ]
     },
     "execution_count": 59,
     "metadata": {},
     "output_type": "execute_result"
    }
   ],
   "source": [
    "df1.ROM_type.unique()"
   ]
  },
  {
   "cell_type": "code",
   "execution_count": 60,
   "id": "4e479fe6",
   "metadata": {},
   "outputs": [
    {
     "data": {
      "text/plain": [
       "array(['512 GB SSD', '256 GB SSD', '1 TB HDD|256 GB SSD', '1 TB HDD',\n",
       "       'NaN', '1 TB SSD', '1 TB HDD|512 GB SSD', '128 GB SSD', '2 TB SSD',\n",
       "       '512 GB HDD|512 GB SSD', '1 TB HDD|128 GB SSD', '3 TB SSD',\n",
       "       '128 GB SSD for Reduced Boot Up Time and In Game Loading'],\n",
       "      dtype=object)"
      ]
     },
     "execution_count": 60,
     "metadata": {},
     "output_type": "execute_result"
    }
   ],
   "source": [
    "df1.ROM.unique()"
   ]
  },
  {
   "cell_type": "code",
   "execution_count": 61,
   "id": "ac8b198c",
   "metadata": {},
   "outputs": [],
   "source": [
    "df1.ROM = df1.ROM.apply(lambda x : x.replace('SSD for Reduced Boot Up Time and in Game Loading','')    if ('SSD for Reduced Boot Up Time and in Game Loading' in x) else x)"
   ]
  },
  {
   "cell_type": "code",
   "execution_count": 62,
   "id": "15416f34",
   "metadata": {},
   "outputs": [
    {
     "data": {
      "text/plain": [
       "array(['512 GB SSD', '256 GB SSD', '1 TB HDD|256 GB SSD', '1 TB HDD',\n",
       "       'NaN', '1 TB SSD', '1 TB HDD|512 GB SSD', '128 GB SSD', '2 TB SSD',\n",
       "       '512 GB HDD|512 GB SSD', '1 TB HDD|128 GB SSD', '3 TB SSD',\n",
       "       '128 GB SSD for Reduced Boot Up Time and In Game Loading'],\n",
       "      dtype=object)"
      ]
     },
     "execution_count": 62,
     "metadata": {},
     "output_type": "execute_result"
    }
   ],
   "source": [
    "df1.ROM.unique()"
   ]
  },
  {
   "cell_type": "code",
   "execution_count": 63,
   "id": "bc302c2f",
   "metadata": {},
   "outputs": [],
   "source": [
    "df1.ROM = df1.ROM.apply(lambda x : x.replace('SSD for Reduced Boot Up Time and In Game Loading','')    if ('SSD for Reduced Boot Up Time and In Game Loading' in x) else x)"
   ]
  },
  {
   "cell_type": "code",
   "execution_count": 64,
   "id": "71d2cb9e",
   "metadata": {},
   "outputs": [
    {
     "data": {
      "text/plain": [
       "array(['512 GB SSD', '256 GB SSD', '1 TB HDD|256 GB SSD', '1 TB HDD',\n",
       "       'NaN', '1 TB SSD', '1 TB HDD|512 GB SSD', '128 GB SSD', '2 TB SSD',\n",
       "       '512 GB HDD|512 GB SSD', '1 TB HDD|128 GB SSD', '3 TB SSD',\n",
       "       '128 GB '], dtype=object)"
      ]
     },
     "execution_count": 64,
     "metadata": {},
     "output_type": "execute_result"
    }
   ],
   "source": [
    "df1.ROM.unique()"
   ]
  },
  {
   "cell_type": "code",
   "execution_count": 65,
   "id": "e0d21c1b",
   "metadata": {},
   "outputs": [],
   "source": [
    "df1.ROM = df1.ROM.apply(lambda x : x.strip(' '))"
   ]
  },
  {
   "cell_type": "code",
   "execution_count": 66,
   "id": "ba7afe46",
   "metadata": {},
   "outputs": [
    {
     "data": {
      "text/plain": [
       "array(['512 GB SSD', '256 GB SSD', '1 TB HDD|256 GB SSD', '1 TB HDD',\n",
       "       'NaN', '1 TB SSD', '1 TB HDD|512 GB SSD', '128 GB SSD', '2 TB SSD',\n",
       "       '512 GB HDD|512 GB SSD', '1 TB HDD|128 GB SSD', '3 TB SSD',\n",
       "       '128 GB'], dtype=object)"
      ]
     },
     "execution_count": 66,
     "metadata": {},
     "output_type": "execute_result"
    }
   ],
   "source": [
    "df1.ROM.unique()"
   ]
  },
  {
   "cell_type": "code",
   "execution_count": 67,
   "id": "a2edc3eb",
   "metadata": {},
   "outputs": [
    {
     "data": {
      "text/plain": [
       "0    512 GB SSD\n",
       "dtype: object"
      ]
     },
     "execution_count": 67,
     "metadata": {},
     "output_type": "execute_result"
    }
   ],
   "source": [
    "df1.ROM.mode()"
   ]
  },
  {
   "cell_type": "code",
   "execution_count": 68,
   "id": "3620ed72",
   "metadata": {},
   "outputs": [],
   "source": [
    "df1['ROM'] = df1['ROM'].replace('NaN','512 GB SSD')"
   ]
  },
  {
   "cell_type": "code",
   "execution_count": 69,
   "id": "e2f4ea9e",
   "metadata": {},
   "outputs": [
    {
     "data": {
      "text/plain": [
       "array(['512 GB SSD', '256 GB SSD', '1 TB HDD|256 GB SSD', '1 TB HDD',\n",
       "       '1 TB SSD', '1 TB HDD|512 GB SSD', '128 GB SSD', '2 TB SSD',\n",
       "       '512 GB HDD|512 GB SSD', '1 TB HDD|128 GB SSD', '3 TB SSD',\n",
       "       '128 GB'], dtype=object)"
      ]
     },
     "execution_count": 69,
     "metadata": {},
     "output_type": "execute_result"
    }
   ],
   "source": [
    "df1.ROM.unique()"
   ]
  },
  {
   "cell_type": "markdown",
   "id": "9a88d826",
   "metadata": {},
   "source": [
    "### Price"
   ]
  },
  {
   "cell_type": "code",
   "execution_count": 70,
   "id": "ecbd680e",
   "metadata": {},
   "outputs": [
    {
     "data": {
      "text/plain": [
       "0        ₹57,949\n",
       "1        ₹41,940\n",
       "2        ₹37,940\n",
       "3        ₹37,940\n",
       "4        ₹50,940\n",
       "         ...    \n",
       "695      ₹44,340\n",
       "696      ₹44,340\n",
       "697    ₹2,34,940\n",
       "698      ₹44,326\n",
       "699      ₹59,940\n",
       "Name: Price, Length: 700, dtype: object"
      ]
     },
     "execution_count": 70,
     "metadata": {},
     "output_type": "execute_result"
    }
   ],
   "source": [
    "df1['Price']"
   ]
  },
  {
   "cell_type": "code",
   "execution_count": 71,
   "id": "b256bb20",
   "metadata": {},
   "outputs": [],
   "source": [
    "df1['Price'] = df1['Price'].apply(lambda x:x[1:])"
   ]
  },
  {
   "cell_type": "code",
   "execution_count": 72,
   "id": "22cd5603",
   "metadata": {},
   "outputs": [],
   "source": [
    "df1['Price'] = df1['Price'].str.replace(',','')"
   ]
  },
  {
   "cell_type": "code",
   "execution_count": 73,
   "id": "b0e7a4af",
   "metadata": {},
   "outputs": [
    {
     "data": {
      "text/plain": [
       "0       57949\n",
       "1       41940\n",
       "2       37940\n",
       "3       37940\n",
       "4       50940\n",
       "        ...  \n",
       "695     44340\n",
       "696     44340\n",
       "697    234940\n",
       "698     44326\n",
       "699     59940\n",
       "Name: Price, Length: 700, dtype: object"
      ]
     },
     "execution_count": 73,
     "metadata": {},
     "output_type": "execute_result"
    }
   ],
   "source": [
    "df1['Price']"
   ]
  },
  {
   "cell_type": "code",
   "execution_count": 74,
   "id": "18b1787f",
   "metadata": {},
   "outputs": [],
   "source": [
    "df1['Price'] = df1['Price'].astype(np.int64)"
   ]
  },
  {
   "cell_type": "code",
   "execution_count": 75,
   "id": "84df216f",
   "metadata": {},
   "outputs": [
    {
     "data": {
      "text/html": [
       "<div>\n",
       "<style scoped>\n",
       "    .dataframe tbody tr th:only-of-type {\n",
       "        vertical-align: middle;\n",
       "    }\n",
       "\n",
       "    .dataframe tbody tr th {\n",
       "        vertical-align: top;\n",
       "    }\n",
       "\n",
       "    .dataframe thead th {\n",
       "        text-align: right;\n",
       "    }\n",
       "</style>\n",
       "<table border=\"1\" class=\"dataframe\">\n",
       "  <thead>\n",
       "    <tr style=\"text-align: right;\">\n",
       "      <th></th>\n",
       "      <th>Processor</th>\n",
       "      <th>Operating System</th>\n",
       "      <th>ROM</th>\n",
       "      <th>Warranty</th>\n",
       "      <th>Price</th>\n",
       "      <th>Rating</th>\n",
       "      <th>Brand</th>\n",
       "      <th>Name</th>\n",
       "      <th>Processor_brand</th>\n",
       "      <th>Processor_type</th>\n",
       "      <th>Display_cm</th>\n",
       "      <th>RAM_GB</th>\n",
       "      <th>RAM_type</th>\n",
       "      <th>ROM_type</th>\n",
       "    </tr>\n",
       "  </thead>\n",
       "  <tbody>\n",
       "    <tr>\n",
       "      <th>0</th>\n",
       "      <td>AMD Ryzen 5 Hexa Core Processor</td>\n",
       "      <td>64 bit Windows 10 Operating System</td>\n",
       "      <td>512 GB SSD</td>\n",
       "      <td>1 Year Onsite Warranty</td>\n",
       "      <td>57949</td>\n",
       "      <td>4.5</td>\n",
       "      <td>HP</td>\n",
       "      <td>HP Pavilion Ryzen 5 Hexa Core 5500U</td>\n",
       "      <td>AMD</td>\n",
       "      <td>Ryzen 5 Hexa Core</td>\n",
       "      <td>39.62</td>\n",
       "      <td>8</td>\n",
       "      <td>DDR4</td>\n",
       "      <td>SSD</td>\n",
       "    </tr>\n",
       "    <tr>\n",
       "      <th>1</th>\n",
       "      <td>Intel Core i3 Processor (11th Gen)</td>\n",
       "      <td>64 bit Windows 11 Operating System</td>\n",
       "      <td>512 GB SSD</td>\n",
       "      <td>1 Year Onsite Warranty</td>\n",
       "      <td>41940</td>\n",
       "      <td>4.4</td>\n",
       "      <td>HP</td>\n",
       "      <td>HP Core i3 11th Gen</td>\n",
       "      <td>Intel</td>\n",
       "      <td>Core i3</td>\n",
       "      <td>39.62</td>\n",
       "      <td>8</td>\n",
       "      <td>DDR4</td>\n",
       "      <td>SSD</td>\n",
       "    </tr>\n",
       "    <tr>\n",
       "      <th>2</th>\n",
       "      <td>Intel Core i3 Processor (10th Gen)</td>\n",
       "      <td>64 bit Windows 11 Operating System</td>\n",
       "      <td>512 GB SSD</td>\n",
       "      <td>1 Year Onsite Warranty</td>\n",
       "      <td>37940</td>\n",
       "      <td>4.3</td>\n",
       "      <td>ASUS</td>\n",
       "      <td>ASUS VivoBook 15 (2021) Core i3 10th Gen</td>\n",
       "      <td>Intel</td>\n",
       "      <td>Core i3</td>\n",
       "      <td>39.62</td>\n",
       "      <td>8</td>\n",
       "      <td>DDR4</td>\n",
       "      <td>SSD</td>\n",
       "    </tr>\n",
       "    <tr>\n",
       "      <th>3</th>\n",
       "      <td>Intel Core i3 Processor (10th Gen)</td>\n",
       "      <td>Windows 10 Operating System</td>\n",
       "      <td>256 GB SSD</td>\n",
       "      <td>2 Years Warranty</td>\n",
       "      <td>37940</td>\n",
       "      <td>4.3</td>\n",
       "      <td>Lenovo</td>\n",
       "      <td>Lenovo IdeaPad 3 Core i3 10th Gen</td>\n",
       "      <td>Intel</td>\n",
       "      <td>Core i3</td>\n",
       "      <td>39.62</td>\n",
       "      <td>8</td>\n",
       "      <td>DDR4</td>\n",
       "      <td>SSD</td>\n",
       "    </tr>\n",
       "    <tr>\n",
       "      <th>4</th>\n",
       "      <td>Intel Core i5 Processor (10th Gen)</td>\n",
       "      <td>64 bit Windows 10 Operating System</td>\n",
       "      <td>512 GB SSD</td>\n",
       "      <td>1 Year International Travelers Warranty</td>\n",
       "      <td>50940</td>\n",
       "      <td>4.4</td>\n",
       "      <td>acer</td>\n",
       "      <td>acer Aspire 7 Core i5 10th Gen</td>\n",
       "      <td>Intel</td>\n",
       "      <td>Core i5</td>\n",
       "      <td>39.62</td>\n",
       "      <td>8</td>\n",
       "      <td>DDR4</td>\n",
       "      <td>SSD</td>\n",
       "    </tr>\n",
       "  </tbody>\n",
       "</table>\n",
       "</div>"
      ],
      "text/plain": [
       "                            Processor                    Operating System  \\\n",
       "0     AMD Ryzen 5 Hexa Core Processor  64 bit Windows 10 Operating System   \n",
       "1  Intel Core i3 Processor (11th Gen)  64 bit Windows 11 Operating System   \n",
       "2  Intel Core i3 Processor (10th Gen)  64 bit Windows 11 Operating System   \n",
       "3  Intel Core i3 Processor (10th Gen)         Windows 10 Operating System   \n",
       "4  Intel Core i5 Processor (10th Gen)  64 bit Windows 10 Operating System   \n",
       "\n",
       "          ROM                                 Warranty  Price  Rating   Brand  \\\n",
       "0  512 GB SSD                   1 Year Onsite Warranty  57949     4.5      HP   \n",
       "1  512 GB SSD                   1 Year Onsite Warranty  41940     4.4      HP   \n",
       "2  512 GB SSD                   1 Year Onsite Warranty  37940     4.3    ASUS   \n",
       "3  256 GB SSD                         2 Years Warranty  37940     4.3  Lenovo   \n",
       "4  512 GB SSD  1 Year International Travelers Warranty  50940     4.4    acer   \n",
       "\n",
       "                                        Name Processor_brand  \\\n",
       "0       HP Pavilion Ryzen 5 Hexa Core 5500U              AMD   \n",
       "1                       HP Core i3 11th Gen            Intel   \n",
       "2  ASUS VivoBook 15 (2021) Core i3 10th Gen            Intel   \n",
       "3         Lenovo IdeaPad 3 Core i3 10th Gen            Intel   \n",
       "4            acer Aspire 7 Core i5 10th Gen            Intel   \n",
       "\n",
       "      Processor_type  Display_cm  RAM_GB RAM_type ROM_type  \n",
       "0  Ryzen 5 Hexa Core       39.62       8     DDR4      SSD  \n",
       "1           Core i3        39.62       8     DDR4      SSD  \n",
       "2           Core i3        39.62       8     DDR4      SSD  \n",
       "3           Core i3        39.62       8     DDR4      SSD  \n",
       "4           Core i5        39.62       8     DDR4      SSD  "
      ]
     },
     "execution_count": 75,
     "metadata": {},
     "output_type": "execute_result"
    }
   ],
   "source": [
    "df1.head()"
   ]
  },
  {
   "cell_type": "markdown",
   "id": "db7a4252",
   "metadata": {},
   "source": [
    "### Data Types"
   ]
  },
  {
   "cell_type": "code",
   "execution_count": 76,
   "id": "7ec2e087",
   "metadata": {},
   "outputs": [
    {
     "data": {
      "text/plain": [
       "Processor            object\n",
       "Operating System     object\n",
       "ROM                  object\n",
       "Warranty             object\n",
       "Price                 int64\n",
       "Rating              float64\n",
       "Brand                object\n",
       "Name                 object\n",
       "Processor_brand      object\n",
       "Processor_type       object\n",
       "Display_cm          float64\n",
       "RAM_GB                int64\n",
       "RAM_type             object\n",
       "ROM_type             object\n",
       "dtype: object"
      ]
     },
     "execution_count": 76,
     "metadata": {},
     "output_type": "execute_result"
    }
   ],
   "source": [
    "df1.dtypes"
   ]
  },
  {
   "cell_type": "markdown",
   "id": "6782bd7d",
   "metadata": {},
   "source": [
    "### Reindexing Columns"
   ]
  },
  {
   "cell_type": "code",
   "execution_count": 77,
   "id": "0725fb09",
   "metadata": {},
   "outputs": [],
   "source": [
    "new_cols = ['Brand', 'Name', 'Operating System', 'Processor', 'Processor_brand','Processor_type', 'Warranty', 'RAM_GB', 'RAM_type', 'ROM', 'ROM_type', 'Display_cm', 'Price', 'Rating']"
   ]
  },
  {
   "cell_type": "code",
   "execution_count": 78,
   "id": "a66cd6c5",
   "metadata": {},
   "outputs": [],
   "source": [
    "df1 = df1[new_cols]"
   ]
  },
  {
   "cell_type": "code",
   "execution_count": 79,
   "id": "f8679542",
   "metadata": {},
   "outputs": [
    {
     "data": {
      "text/html": [
       "<div>\n",
       "<style scoped>\n",
       "    .dataframe tbody tr th:only-of-type {\n",
       "        vertical-align: middle;\n",
       "    }\n",
       "\n",
       "    .dataframe tbody tr th {\n",
       "        vertical-align: top;\n",
       "    }\n",
       "\n",
       "    .dataframe thead th {\n",
       "        text-align: right;\n",
       "    }\n",
       "</style>\n",
       "<table border=\"1\" class=\"dataframe\">\n",
       "  <thead>\n",
       "    <tr style=\"text-align: right;\">\n",
       "      <th></th>\n",
       "      <th>Brand</th>\n",
       "      <th>Name</th>\n",
       "      <th>Operating System</th>\n",
       "      <th>Processor</th>\n",
       "      <th>Processor_brand</th>\n",
       "      <th>Processor_type</th>\n",
       "      <th>Warranty</th>\n",
       "      <th>RAM_GB</th>\n",
       "      <th>RAM_type</th>\n",
       "      <th>ROM</th>\n",
       "      <th>ROM_type</th>\n",
       "      <th>Display_cm</th>\n",
       "      <th>Price</th>\n",
       "      <th>Rating</th>\n",
       "    </tr>\n",
       "  </thead>\n",
       "  <tbody>\n",
       "    <tr>\n",
       "      <th>0</th>\n",
       "      <td>HP</td>\n",
       "      <td>HP Pavilion Ryzen 5 Hexa Core 5500U</td>\n",
       "      <td>64 bit Windows 10 Operating System</td>\n",
       "      <td>AMD Ryzen 5 Hexa Core Processor</td>\n",
       "      <td>AMD</td>\n",
       "      <td>Ryzen 5 Hexa Core</td>\n",
       "      <td>1 Year Onsite Warranty</td>\n",
       "      <td>8</td>\n",
       "      <td>DDR4</td>\n",
       "      <td>512 GB SSD</td>\n",
       "      <td>SSD</td>\n",
       "      <td>39.62</td>\n",
       "      <td>57949</td>\n",
       "      <td>4.5</td>\n",
       "    </tr>\n",
       "    <tr>\n",
       "      <th>1</th>\n",
       "      <td>HP</td>\n",
       "      <td>HP Core i3 11th Gen</td>\n",
       "      <td>64 bit Windows 11 Operating System</td>\n",
       "      <td>Intel Core i3 Processor (11th Gen)</td>\n",
       "      <td>Intel</td>\n",
       "      <td>Core i3</td>\n",
       "      <td>1 Year Onsite Warranty</td>\n",
       "      <td>8</td>\n",
       "      <td>DDR4</td>\n",
       "      <td>512 GB SSD</td>\n",
       "      <td>SSD</td>\n",
       "      <td>39.62</td>\n",
       "      <td>41940</td>\n",
       "      <td>4.4</td>\n",
       "    </tr>\n",
       "    <tr>\n",
       "      <th>2</th>\n",
       "      <td>ASUS</td>\n",
       "      <td>ASUS VivoBook 15 (2021) Core i3 10th Gen</td>\n",
       "      <td>64 bit Windows 11 Operating System</td>\n",
       "      <td>Intel Core i3 Processor (10th Gen)</td>\n",
       "      <td>Intel</td>\n",
       "      <td>Core i3</td>\n",
       "      <td>1 Year Onsite Warranty</td>\n",
       "      <td>8</td>\n",
       "      <td>DDR4</td>\n",
       "      <td>512 GB SSD</td>\n",
       "      <td>SSD</td>\n",
       "      <td>39.62</td>\n",
       "      <td>37940</td>\n",
       "      <td>4.3</td>\n",
       "    </tr>\n",
       "    <tr>\n",
       "      <th>3</th>\n",
       "      <td>Lenovo</td>\n",
       "      <td>Lenovo IdeaPad 3 Core i3 10th Gen</td>\n",
       "      <td>Windows 10 Operating System</td>\n",
       "      <td>Intel Core i3 Processor (10th Gen)</td>\n",
       "      <td>Intel</td>\n",
       "      <td>Core i3</td>\n",
       "      <td>2 Years Warranty</td>\n",
       "      <td>8</td>\n",
       "      <td>DDR4</td>\n",
       "      <td>256 GB SSD</td>\n",
       "      <td>SSD</td>\n",
       "      <td>39.62</td>\n",
       "      <td>37940</td>\n",
       "      <td>4.3</td>\n",
       "    </tr>\n",
       "    <tr>\n",
       "      <th>4</th>\n",
       "      <td>acer</td>\n",
       "      <td>acer Aspire 7 Core i5 10th Gen</td>\n",
       "      <td>64 bit Windows 10 Operating System</td>\n",
       "      <td>Intel Core i5 Processor (10th Gen)</td>\n",
       "      <td>Intel</td>\n",
       "      <td>Core i5</td>\n",
       "      <td>1 Year International Travelers Warranty</td>\n",
       "      <td>8</td>\n",
       "      <td>DDR4</td>\n",
       "      <td>512 GB SSD</td>\n",
       "      <td>SSD</td>\n",
       "      <td>39.62</td>\n",
       "      <td>50940</td>\n",
       "      <td>4.4</td>\n",
       "    </tr>\n",
       "    <tr>\n",
       "      <th>...</th>\n",
       "      <td>...</td>\n",
       "      <td>...</td>\n",
       "      <td>...</td>\n",
       "      <td>...</td>\n",
       "      <td>...</td>\n",
       "      <td>...</td>\n",
       "      <td>...</td>\n",
       "      <td>...</td>\n",
       "      <td>...</td>\n",
       "      <td>...</td>\n",
       "      <td>...</td>\n",
       "      <td>...</td>\n",
       "      <td>...</td>\n",
       "      <td>...</td>\n",
       "    </tr>\n",
       "    <tr>\n",
       "      <th>695</th>\n",
       "      <td>Lenovo</td>\n",
       "      <td>Lenovo Core i3 10th Gen</td>\n",
       "      <td>64 bit Windows 11 Operating System</td>\n",
       "      <td>AMD Ryzen 7 Octa Core Processor</td>\n",
       "      <td>AMD</td>\n",
       "      <td>Ryzen 7 Octa Core</td>\n",
       "      <td>1 Year Onsite Warranty</td>\n",
       "      <td>8</td>\n",
       "      <td>DDR4</td>\n",
       "      <td>512 GB SSD</td>\n",
       "      <td>SSD</td>\n",
       "      <td>35.56</td>\n",
       "      <td>44340</td>\n",
       "      <td>3.8</td>\n",
       "    </tr>\n",
       "    <tr>\n",
       "      <th>696</th>\n",
       "      <td>DELL</td>\n",
       "      <td>DELL Core i5 11th Gen</td>\n",
       "      <td>64 bit Windows 10 Operating System</td>\n",
       "      <td>AMD Ryzen 5 Hexa Core Processor</td>\n",
       "      <td>AMD</td>\n",
       "      <td>Ryzen 5 Hexa Core</td>\n",
       "      <td>1 Year Onsite Warranty</td>\n",
       "      <td>16</td>\n",
       "      <td>DDR4</td>\n",
       "      <td>1 TB SSD</td>\n",
       "      <td>SSD</td>\n",
       "      <td>35.56</td>\n",
       "      <td>44340</td>\n",
       "      <td>4.0</td>\n",
       "    </tr>\n",
       "    <tr>\n",
       "      <th>697</th>\n",
       "      <td>Lenovo</td>\n",
       "      <td>Lenovo Thinpad E15 G2 Core i5 11th Gen</td>\n",
       "      <td>64 bit Windows 10 Operating System</td>\n",
       "      <td>Intel Core i3 Processor (11th Gen)</td>\n",
       "      <td>Intel</td>\n",
       "      <td>Core i3</td>\n",
       "      <td>1 Year Onsite Warranty</td>\n",
       "      <td>8</td>\n",
       "      <td>DDR4</td>\n",
       "      <td>1 TB HDD</td>\n",
       "      <td>HDD</td>\n",
       "      <td>39.62</td>\n",
       "      <td>234940</td>\n",
       "      <td>4.1</td>\n",
       "    </tr>\n",
       "    <tr>\n",
       "      <th>698</th>\n",
       "      <td>ASUS</td>\n",
       "      <td>ASUS ROG Zephyrus G15 (2021) Ryzen 9 Octa Core...</td>\n",
       "      <td>64 bit Windows 10 Operating System</td>\n",
       "      <td>Intel Core i3 Processor (11th Gen)</td>\n",
       "      <td>Intel</td>\n",
       "      <td>Core i3</td>\n",
       "      <td>1 Year Onsite Warranty</td>\n",
       "      <td>16</td>\n",
       "      <td>DDR4</td>\n",
       "      <td>512 GB SSD</td>\n",
       "      <td>SSD</td>\n",
       "      <td>35.56</td>\n",
       "      <td>44326</td>\n",
       "      <td>4.7</td>\n",
       "    </tr>\n",
       "    <tr>\n",
       "      <th>699</th>\n",
       "      <td>HP</td>\n",
       "      <td>HP Pavilion Ryzen 5 Hexa Core 5500U</td>\n",
       "      <td>64 bit Windows 11 Operating System</td>\n",
       "      <td>AMD Ryzen 9 Octa Core Processor</td>\n",
       "      <td>AMD</td>\n",
       "      <td>Ryzen 9 Octa Core</td>\n",
       "      <td>1 Year Onsite Warranty</td>\n",
       "      <td>8</td>\n",
       "      <td>DDR4</td>\n",
       "      <td>512 GB HDD|512 GB SSD</td>\n",
       "      <td>both</td>\n",
       "      <td>35.56</td>\n",
       "      <td>59940</td>\n",
       "      <td>4.5</td>\n",
       "    </tr>\n",
       "  </tbody>\n",
       "</table>\n",
       "<p>700 rows × 14 columns</p>\n",
       "</div>"
      ],
      "text/plain": [
       "      Brand                                               Name  \\\n",
       "0        HP               HP Pavilion Ryzen 5 Hexa Core 5500U    \n",
       "1        HP                               HP Core i3 11th Gen    \n",
       "2      ASUS          ASUS VivoBook 15 (2021) Core i3 10th Gen    \n",
       "3    Lenovo                 Lenovo IdeaPad 3 Core i3 10th Gen    \n",
       "4      acer                    acer Aspire 7 Core i5 10th Gen    \n",
       "..      ...                                                ...   \n",
       "695  Lenovo                           Lenovo Core i3 10th Gen    \n",
       "696    DELL                             DELL Core i5 11th Gen    \n",
       "697  Lenovo            Lenovo Thinpad E15 G2 Core i5 11th Gen    \n",
       "698    ASUS  ASUS ROG Zephyrus G15 (2021) Ryzen 9 Octa Core...   \n",
       "699      HP               HP Pavilion Ryzen 5 Hexa Core 5500U    \n",
       "\n",
       "                       Operating System                           Processor  \\\n",
       "0    64 bit Windows 10 Operating System     AMD Ryzen 5 Hexa Core Processor   \n",
       "1    64 bit Windows 11 Operating System  Intel Core i3 Processor (11th Gen)   \n",
       "2    64 bit Windows 11 Operating System  Intel Core i3 Processor (10th Gen)   \n",
       "3           Windows 10 Operating System  Intel Core i3 Processor (10th Gen)   \n",
       "4    64 bit Windows 10 Operating System  Intel Core i5 Processor (10th Gen)   \n",
       "..                                  ...                                 ...   \n",
       "695  64 bit Windows 11 Operating System     AMD Ryzen 7 Octa Core Processor   \n",
       "696  64 bit Windows 10 Operating System     AMD Ryzen 5 Hexa Core Processor   \n",
       "697  64 bit Windows 10 Operating System  Intel Core i3 Processor (11th Gen)   \n",
       "698  64 bit Windows 10 Operating System  Intel Core i3 Processor (11th Gen)   \n",
       "699  64 bit Windows 11 Operating System     AMD Ryzen 9 Octa Core Processor   \n",
       "\n",
       "    Processor_brand     Processor_type  \\\n",
       "0               AMD  Ryzen 5 Hexa Core   \n",
       "1             Intel           Core i3    \n",
       "2             Intel           Core i3    \n",
       "3             Intel           Core i3    \n",
       "4             Intel           Core i5    \n",
       "..              ...                ...   \n",
       "695             AMD  Ryzen 7 Octa Core   \n",
       "696             AMD  Ryzen 5 Hexa Core   \n",
       "697           Intel           Core i3    \n",
       "698           Intel           Core i3    \n",
       "699             AMD  Ryzen 9 Octa Core   \n",
       "\n",
       "                                    Warranty  RAM_GB RAM_type  \\\n",
       "0                     1 Year Onsite Warranty       8     DDR4   \n",
       "1                     1 Year Onsite Warranty       8     DDR4   \n",
       "2                     1 Year Onsite Warranty       8     DDR4   \n",
       "3                           2 Years Warranty       8     DDR4   \n",
       "4    1 Year International Travelers Warranty       8     DDR4   \n",
       "..                                       ...     ...      ...   \n",
       "695                   1 Year Onsite Warranty       8     DDR4   \n",
       "696                   1 Year Onsite Warranty      16     DDR4   \n",
       "697                   1 Year Onsite Warranty       8     DDR4   \n",
       "698                   1 Year Onsite Warranty      16     DDR4   \n",
       "699                   1 Year Onsite Warranty       8     DDR4   \n",
       "\n",
       "                       ROM ROM_type  Display_cm   Price  Rating  \n",
       "0               512 GB SSD      SSD       39.62   57949     4.5  \n",
       "1               512 GB SSD      SSD       39.62   41940     4.4  \n",
       "2               512 GB SSD      SSD       39.62   37940     4.3  \n",
       "3               256 GB SSD      SSD       39.62   37940     4.3  \n",
       "4               512 GB SSD      SSD       39.62   50940     4.4  \n",
       "..                     ...      ...         ...     ...     ...  \n",
       "695             512 GB SSD      SSD       35.56   44340     3.8  \n",
       "696               1 TB SSD      SSD       35.56   44340     4.0  \n",
       "697               1 TB HDD      HDD       39.62  234940     4.1  \n",
       "698             512 GB SSD      SSD       35.56   44326     4.7  \n",
       "699  512 GB HDD|512 GB SSD     both       35.56   59940     4.5  \n",
       "\n",
       "[700 rows x 14 columns]"
      ]
     },
     "execution_count": 79,
     "metadata": {},
     "output_type": "execute_result"
    }
   ],
   "source": [
    "df1"
   ]
  },
  {
   "cell_type": "markdown",
   "id": "ba91cb82",
   "metadata": {},
   "source": [
    "### Importing CSV file of cleaned Data"
   ]
  },
  {
   "cell_type": "code",
   "execution_count": 80,
   "id": "c93018d8",
   "metadata": {},
   "outputs": [],
   "source": [
    "import pandas as pd"
   ]
  },
  {
   "cell_type": "code",
   "execution_count": 81,
   "id": "8a6083ca",
   "metadata": {},
   "outputs": [],
   "source": [
    "data = pd.DataFrame(data = df1)"
   ]
  },
  {
   "cell_type": "code",
   "execution_count": 82,
   "id": "aed3bdef",
   "metadata": {},
   "outputs": [],
   "source": [
    "data.to_csv('laptops20.csv')"
   ]
  },
  {
   "cell_type": "code",
   "execution_count": 83,
   "id": "65c333ae",
   "metadata": {},
   "outputs": [],
   "source": [
    "laptops_data = pd.read_csv('laptops20.csv')"
   ]
  },
  {
   "cell_type": "code",
   "execution_count": 84,
   "id": "8a33db95",
   "metadata": {},
   "outputs": [
    {
     "data": {
      "text/html": [
       "<div>\n",
       "<style scoped>\n",
       "    .dataframe tbody tr th:only-of-type {\n",
       "        vertical-align: middle;\n",
       "    }\n",
       "\n",
       "    .dataframe tbody tr th {\n",
       "        vertical-align: top;\n",
       "    }\n",
       "\n",
       "    .dataframe thead th {\n",
       "        text-align: right;\n",
       "    }\n",
       "</style>\n",
       "<table border=\"1\" class=\"dataframe\">\n",
       "  <thead>\n",
       "    <tr style=\"text-align: right;\">\n",
       "      <th></th>\n",
       "      <th>Unnamed: 0</th>\n",
       "      <th>Brand</th>\n",
       "      <th>Name</th>\n",
       "      <th>Operating System</th>\n",
       "      <th>Processor</th>\n",
       "      <th>Processor_brand</th>\n",
       "      <th>Processor_type</th>\n",
       "      <th>Warranty</th>\n",
       "      <th>RAM_GB</th>\n",
       "      <th>RAM_type</th>\n",
       "      <th>ROM</th>\n",
       "      <th>ROM_type</th>\n",
       "      <th>Display_cm</th>\n",
       "      <th>Price</th>\n",
       "      <th>Rating</th>\n",
       "    </tr>\n",
       "  </thead>\n",
       "  <tbody>\n",
       "    <tr>\n",
       "      <th>0</th>\n",
       "      <td>0</td>\n",
       "      <td>HP</td>\n",
       "      <td>HP Pavilion Ryzen 5 Hexa Core 5500U</td>\n",
       "      <td>64 bit Windows 10 Operating System</td>\n",
       "      <td>AMD Ryzen 5 Hexa Core Processor</td>\n",
       "      <td>AMD</td>\n",
       "      <td>Ryzen 5 Hexa Core</td>\n",
       "      <td>1 Year Onsite Warranty</td>\n",
       "      <td>8</td>\n",
       "      <td>DDR4</td>\n",
       "      <td>512 GB SSD</td>\n",
       "      <td>SSD</td>\n",
       "      <td>39.62</td>\n",
       "      <td>57949</td>\n",
       "      <td>4.5</td>\n",
       "    </tr>\n",
       "    <tr>\n",
       "      <th>1</th>\n",
       "      <td>1</td>\n",
       "      <td>HP</td>\n",
       "      <td>HP Core i3 11th Gen</td>\n",
       "      <td>64 bit Windows 11 Operating System</td>\n",
       "      <td>Intel Core i3 Processor (11th Gen)</td>\n",
       "      <td>Intel</td>\n",
       "      <td>Core i3</td>\n",
       "      <td>1 Year Onsite Warranty</td>\n",
       "      <td>8</td>\n",
       "      <td>DDR4</td>\n",
       "      <td>512 GB SSD</td>\n",
       "      <td>SSD</td>\n",
       "      <td>39.62</td>\n",
       "      <td>41940</td>\n",
       "      <td>4.4</td>\n",
       "    </tr>\n",
       "    <tr>\n",
       "      <th>2</th>\n",
       "      <td>2</td>\n",
       "      <td>ASUS</td>\n",
       "      <td>ASUS VivoBook 15 (2021) Core i3 10th Gen</td>\n",
       "      <td>64 bit Windows 11 Operating System</td>\n",
       "      <td>Intel Core i3 Processor (10th Gen)</td>\n",
       "      <td>Intel</td>\n",
       "      <td>Core i3</td>\n",
       "      <td>1 Year Onsite Warranty</td>\n",
       "      <td>8</td>\n",
       "      <td>DDR4</td>\n",
       "      <td>512 GB SSD</td>\n",
       "      <td>SSD</td>\n",
       "      <td>39.62</td>\n",
       "      <td>37940</td>\n",
       "      <td>4.3</td>\n",
       "    </tr>\n",
       "    <tr>\n",
       "      <th>3</th>\n",
       "      <td>3</td>\n",
       "      <td>Lenovo</td>\n",
       "      <td>Lenovo IdeaPad 3 Core i3 10th Gen</td>\n",
       "      <td>Windows 10 Operating System</td>\n",
       "      <td>Intel Core i3 Processor (10th Gen)</td>\n",
       "      <td>Intel</td>\n",
       "      <td>Core i3</td>\n",
       "      <td>2 Years Warranty</td>\n",
       "      <td>8</td>\n",
       "      <td>DDR4</td>\n",
       "      <td>256 GB SSD</td>\n",
       "      <td>SSD</td>\n",
       "      <td>39.62</td>\n",
       "      <td>37940</td>\n",
       "      <td>4.3</td>\n",
       "    </tr>\n",
       "    <tr>\n",
       "      <th>4</th>\n",
       "      <td>4</td>\n",
       "      <td>acer</td>\n",
       "      <td>acer Aspire 7 Core i5 10th Gen</td>\n",
       "      <td>64 bit Windows 10 Operating System</td>\n",
       "      <td>Intel Core i5 Processor (10th Gen)</td>\n",
       "      <td>Intel</td>\n",
       "      <td>Core i5</td>\n",
       "      <td>1 Year International Travelers Warranty</td>\n",
       "      <td>8</td>\n",
       "      <td>DDR4</td>\n",
       "      <td>512 GB SSD</td>\n",
       "      <td>SSD</td>\n",
       "      <td>39.62</td>\n",
       "      <td>50940</td>\n",
       "      <td>4.4</td>\n",
       "    </tr>\n",
       "    <tr>\n",
       "      <th>...</th>\n",
       "      <td>...</td>\n",
       "      <td>...</td>\n",
       "      <td>...</td>\n",
       "      <td>...</td>\n",
       "      <td>...</td>\n",
       "      <td>...</td>\n",
       "      <td>...</td>\n",
       "      <td>...</td>\n",
       "      <td>...</td>\n",
       "      <td>...</td>\n",
       "      <td>...</td>\n",
       "      <td>...</td>\n",
       "      <td>...</td>\n",
       "      <td>...</td>\n",
       "      <td>...</td>\n",
       "    </tr>\n",
       "    <tr>\n",
       "      <th>695</th>\n",
       "      <td>695</td>\n",
       "      <td>Lenovo</td>\n",
       "      <td>Lenovo Core i3 10th Gen</td>\n",
       "      <td>64 bit Windows 11 Operating System</td>\n",
       "      <td>AMD Ryzen 7 Octa Core Processor</td>\n",
       "      <td>AMD</td>\n",
       "      <td>Ryzen 7 Octa Core</td>\n",
       "      <td>1 Year Onsite Warranty</td>\n",
       "      <td>8</td>\n",
       "      <td>DDR4</td>\n",
       "      <td>512 GB SSD</td>\n",
       "      <td>SSD</td>\n",
       "      <td>35.56</td>\n",
       "      <td>44340</td>\n",
       "      <td>3.8</td>\n",
       "    </tr>\n",
       "    <tr>\n",
       "      <th>696</th>\n",
       "      <td>696</td>\n",
       "      <td>DELL</td>\n",
       "      <td>DELL Core i5 11th Gen</td>\n",
       "      <td>64 bit Windows 10 Operating System</td>\n",
       "      <td>AMD Ryzen 5 Hexa Core Processor</td>\n",
       "      <td>AMD</td>\n",
       "      <td>Ryzen 5 Hexa Core</td>\n",
       "      <td>1 Year Onsite Warranty</td>\n",
       "      <td>16</td>\n",
       "      <td>DDR4</td>\n",
       "      <td>1 TB SSD</td>\n",
       "      <td>SSD</td>\n",
       "      <td>35.56</td>\n",
       "      <td>44340</td>\n",
       "      <td>4.0</td>\n",
       "    </tr>\n",
       "    <tr>\n",
       "      <th>697</th>\n",
       "      <td>697</td>\n",
       "      <td>Lenovo</td>\n",
       "      <td>Lenovo Thinpad E15 G2 Core i5 11th Gen</td>\n",
       "      <td>64 bit Windows 10 Operating System</td>\n",
       "      <td>Intel Core i3 Processor (11th Gen)</td>\n",
       "      <td>Intel</td>\n",
       "      <td>Core i3</td>\n",
       "      <td>1 Year Onsite Warranty</td>\n",
       "      <td>8</td>\n",
       "      <td>DDR4</td>\n",
       "      <td>1 TB HDD</td>\n",
       "      <td>HDD</td>\n",
       "      <td>39.62</td>\n",
       "      <td>234940</td>\n",
       "      <td>4.1</td>\n",
       "    </tr>\n",
       "    <tr>\n",
       "      <th>698</th>\n",
       "      <td>698</td>\n",
       "      <td>ASUS</td>\n",
       "      <td>ASUS ROG Zephyrus G15 (2021) Ryzen 9 Octa Core...</td>\n",
       "      <td>64 bit Windows 10 Operating System</td>\n",
       "      <td>Intel Core i3 Processor (11th Gen)</td>\n",
       "      <td>Intel</td>\n",
       "      <td>Core i3</td>\n",
       "      <td>1 Year Onsite Warranty</td>\n",
       "      <td>16</td>\n",
       "      <td>DDR4</td>\n",
       "      <td>512 GB SSD</td>\n",
       "      <td>SSD</td>\n",
       "      <td>35.56</td>\n",
       "      <td>44326</td>\n",
       "      <td>4.7</td>\n",
       "    </tr>\n",
       "    <tr>\n",
       "      <th>699</th>\n",
       "      <td>699</td>\n",
       "      <td>HP</td>\n",
       "      <td>HP Pavilion Ryzen 5 Hexa Core 5500U</td>\n",
       "      <td>64 bit Windows 11 Operating System</td>\n",
       "      <td>AMD Ryzen 9 Octa Core Processor</td>\n",
       "      <td>AMD</td>\n",
       "      <td>Ryzen 9 Octa Core</td>\n",
       "      <td>1 Year Onsite Warranty</td>\n",
       "      <td>8</td>\n",
       "      <td>DDR4</td>\n",
       "      <td>512 GB HDD|512 GB SSD</td>\n",
       "      <td>both</td>\n",
       "      <td>35.56</td>\n",
       "      <td>59940</td>\n",
       "      <td>4.5</td>\n",
       "    </tr>\n",
       "  </tbody>\n",
       "</table>\n",
       "<p>700 rows × 15 columns</p>\n",
       "</div>"
      ],
      "text/plain": [
       "     Unnamed: 0   Brand                                               Name  \\\n",
       "0             0      HP               HP Pavilion Ryzen 5 Hexa Core 5500U    \n",
       "1             1      HP                               HP Core i3 11th Gen    \n",
       "2             2    ASUS          ASUS VivoBook 15 (2021) Core i3 10th Gen    \n",
       "3             3  Lenovo                 Lenovo IdeaPad 3 Core i3 10th Gen    \n",
       "4             4    acer                    acer Aspire 7 Core i5 10th Gen    \n",
       "..          ...     ...                                                ...   \n",
       "695         695  Lenovo                           Lenovo Core i3 10th Gen    \n",
       "696         696    DELL                             DELL Core i5 11th Gen    \n",
       "697         697  Lenovo            Lenovo Thinpad E15 G2 Core i5 11th Gen    \n",
       "698         698    ASUS  ASUS ROG Zephyrus G15 (2021) Ryzen 9 Octa Core...   \n",
       "699         699      HP               HP Pavilion Ryzen 5 Hexa Core 5500U    \n",
       "\n",
       "                       Operating System                           Processor  \\\n",
       "0    64 bit Windows 10 Operating System     AMD Ryzen 5 Hexa Core Processor   \n",
       "1    64 bit Windows 11 Operating System  Intel Core i3 Processor (11th Gen)   \n",
       "2    64 bit Windows 11 Operating System  Intel Core i3 Processor (10th Gen)   \n",
       "3           Windows 10 Operating System  Intel Core i3 Processor (10th Gen)   \n",
       "4    64 bit Windows 10 Operating System  Intel Core i5 Processor (10th Gen)   \n",
       "..                                  ...                                 ...   \n",
       "695  64 bit Windows 11 Operating System     AMD Ryzen 7 Octa Core Processor   \n",
       "696  64 bit Windows 10 Operating System     AMD Ryzen 5 Hexa Core Processor   \n",
       "697  64 bit Windows 10 Operating System  Intel Core i3 Processor (11th Gen)   \n",
       "698  64 bit Windows 10 Operating System  Intel Core i3 Processor (11th Gen)   \n",
       "699  64 bit Windows 11 Operating System     AMD Ryzen 9 Octa Core Processor   \n",
       "\n",
       "    Processor_brand     Processor_type  \\\n",
       "0               AMD  Ryzen 5 Hexa Core   \n",
       "1             Intel           Core i3    \n",
       "2             Intel           Core i3    \n",
       "3             Intel           Core i3    \n",
       "4             Intel           Core i5    \n",
       "..              ...                ...   \n",
       "695             AMD  Ryzen 7 Octa Core   \n",
       "696             AMD  Ryzen 5 Hexa Core   \n",
       "697           Intel           Core i3    \n",
       "698           Intel           Core i3    \n",
       "699             AMD  Ryzen 9 Octa Core   \n",
       "\n",
       "                                    Warranty  RAM_GB RAM_type  \\\n",
       "0                     1 Year Onsite Warranty       8     DDR4   \n",
       "1                     1 Year Onsite Warranty       8     DDR4   \n",
       "2                     1 Year Onsite Warranty       8     DDR4   \n",
       "3                           2 Years Warranty       8     DDR4   \n",
       "4    1 Year International Travelers Warranty       8     DDR4   \n",
       "..                                       ...     ...      ...   \n",
       "695                   1 Year Onsite Warranty       8     DDR4   \n",
       "696                   1 Year Onsite Warranty      16     DDR4   \n",
       "697                   1 Year Onsite Warranty       8     DDR4   \n",
       "698                   1 Year Onsite Warranty      16     DDR4   \n",
       "699                   1 Year Onsite Warranty       8     DDR4   \n",
       "\n",
       "                       ROM ROM_type  Display_cm   Price  Rating  \n",
       "0               512 GB SSD      SSD       39.62   57949     4.5  \n",
       "1               512 GB SSD      SSD       39.62   41940     4.4  \n",
       "2               512 GB SSD      SSD       39.62   37940     4.3  \n",
       "3               256 GB SSD      SSD       39.62   37940     4.3  \n",
       "4               512 GB SSD      SSD       39.62   50940     4.4  \n",
       "..                     ...      ...         ...     ...     ...  \n",
       "695             512 GB SSD      SSD       35.56   44340     3.8  \n",
       "696               1 TB SSD      SSD       35.56   44340     4.0  \n",
       "697               1 TB HDD      HDD       39.62  234940     4.1  \n",
       "698             512 GB SSD      SSD       35.56   44326     4.7  \n",
       "699  512 GB HDD|512 GB SSD     both       35.56   59940     4.5  \n",
       "\n",
       "[700 rows x 15 columns]"
      ]
     },
     "execution_count": 84,
     "metadata": {},
     "output_type": "execute_result"
    }
   ],
   "source": [
    "laptops_data"
   ]
  },
  {
   "cell_type": "code",
   "execution_count": 85,
   "id": "10e198c6",
   "metadata": {},
   "outputs": [],
   "source": [
    "laptops_data.drop('Unnamed: 0', axis = 1, inplace = True)"
   ]
  },
  {
   "cell_type": "code",
   "execution_count": 86,
   "id": "6f2514fd",
   "metadata": {},
   "outputs": [
    {
     "data": {
      "text/html": [
       "<div>\n",
       "<style scoped>\n",
       "    .dataframe tbody tr th:only-of-type {\n",
       "        vertical-align: middle;\n",
       "    }\n",
       "\n",
       "    .dataframe tbody tr th {\n",
       "        vertical-align: top;\n",
       "    }\n",
       "\n",
       "    .dataframe thead th {\n",
       "        text-align: right;\n",
       "    }\n",
       "</style>\n",
       "<table border=\"1\" class=\"dataframe\">\n",
       "  <thead>\n",
       "    <tr style=\"text-align: right;\">\n",
       "      <th></th>\n",
       "      <th>Brand</th>\n",
       "      <th>Name</th>\n",
       "      <th>Operating System</th>\n",
       "      <th>Processor</th>\n",
       "      <th>Processor_brand</th>\n",
       "      <th>Processor_type</th>\n",
       "      <th>Warranty</th>\n",
       "      <th>RAM_GB</th>\n",
       "      <th>RAM_type</th>\n",
       "      <th>ROM</th>\n",
       "      <th>ROM_type</th>\n",
       "      <th>Display_cm</th>\n",
       "      <th>Price</th>\n",
       "      <th>Rating</th>\n",
       "    </tr>\n",
       "  </thead>\n",
       "  <tbody>\n",
       "    <tr>\n",
       "      <th>0</th>\n",
       "      <td>HP</td>\n",
       "      <td>HP Pavilion Ryzen 5 Hexa Core 5500U</td>\n",
       "      <td>64 bit Windows 10 Operating System</td>\n",
       "      <td>AMD Ryzen 5 Hexa Core Processor</td>\n",
       "      <td>AMD</td>\n",
       "      <td>Ryzen 5 Hexa Core</td>\n",
       "      <td>1 Year Onsite Warranty</td>\n",
       "      <td>8</td>\n",
       "      <td>DDR4</td>\n",
       "      <td>512 GB SSD</td>\n",
       "      <td>SSD</td>\n",
       "      <td>39.62</td>\n",
       "      <td>57949</td>\n",
       "      <td>4.5</td>\n",
       "    </tr>\n",
       "    <tr>\n",
       "      <th>1</th>\n",
       "      <td>HP</td>\n",
       "      <td>HP Core i3 11th Gen</td>\n",
       "      <td>64 bit Windows 11 Operating System</td>\n",
       "      <td>Intel Core i3 Processor (11th Gen)</td>\n",
       "      <td>Intel</td>\n",
       "      <td>Core i3</td>\n",
       "      <td>1 Year Onsite Warranty</td>\n",
       "      <td>8</td>\n",
       "      <td>DDR4</td>\n",
       "      <td>512 GB SSD</td>\n",
       "      <td>SSD</td>\n",
       "      <td>39.62</td>\n",
       "      <td>41940</td>\n",
       "      <td>4.4</td>\n",
       "    </tr>\n",
       "    <tr>\n",
       "      <th>2</th>\n",
       "      <td>ASUS</td>\n",
       "      <td>ASUS VivoBook 15 (2021) Core i3 10th Gen</td>\n",
       "      <td>64 bit Windows 11 Operating System</td>\n",
       "      <td>Intel Core i3 Processor (10th Gen)</td>\n",
       "      <td>Intel</td>\n",
       "      <td>Core i3</td>\n",
       "      <td>1 Year Onsite Warranty</td>\n",
       "      <td>8</td>\n",
       "      <td>DDR4</td>\n",
       "      <td>512 GB SSD</td>\n",
       "      <td>SSD</td>\n",
       "      <td>39.62</td>\n",
       "      <td>37940</td>\n",
       "      <td>4.3</td>\n",
       "    </tr>\n",
       "    <tr>\n",
       "      <th>3</th>\n",
       "      <td>Lenovo</td>\n",
       "      <td>Lenovo IdeaPad 3 Core i3 10th Gen</td>\n",
       "      <td>Windows 10 Operating System</td>\n",
       "      <td>Intel Core i3 Processor (10th Gen)</td>\n",
       "      <td>Intel</td>\n",
       "      <td>Core i3</td>\n",
       "      <td>2 Years Warranty</td>\n",
       "      <td>8</td>\n",
       "      <td>DDR4</td>\n",
       "      <td>256 GB SSD</td>\n",
       "      <td>SSD</td>\n",
       "      <td>39.62</td>\n",
       "      <td>37940</td>\n",
       "      <td>4.3</td>\n",
       "    </tr>\n",
       "    <tr>\n",
       "      <th>4</th>\n",
       "      <td>acer</td>\n",
       "      <td>acer Aspire 7 Core i5 10th Gen</td>\n",
       "      <td>64 bit Windows 10 Operating System</td>\n",
       "      <td>Intel Core i5 Processor (10th Gen)</td>\n",
       "      <td>Intel</td>\n",
       "      <td>Core i5</td>\n",
       "      <td>1 Year International Travelers Warranty</td>\n",
       "      <td>8</td>\n",
       "      <td>DDR4</td>\n",
       "      <td>512 GB SSD</td>\n",
       "      <td>SSD</td>\n",
       "      <td>39.62</td>\n",
       "      <td>50940</td>\n",
       "      <td>4.4</td>\n",
       "    </tr>\n",
       "    <tr>\n",
       "      <th>5</th>\n",
       "      <td>ASUS</td>\n",
       "      <td>ASUS VivoBook 15 (2021) Core i3 11th Gen</td>\n",
       "      <td>Windows 10 Operating System</td>\n",
       "      <td>Intel Core i3 Processor (11th Gen)</td>\n",
       "      <td>Intel</td>\n",
       "      <td>Core i3</td>\n",
       "      <td>1 Year Onsite Warranty</td>\n",
       "      <td>4</td>\n",
       "      <td>DDR4</td>\n",
       "      <td>256 GB SSD</td>\n",
       "      <td>SSD</td>\n",
       "      <td>39.62</td>\n",
       "      <td>35740</td>\n",
       "      <td>4.3</td>\n",
       "    </tr>\n",
       "    <tr>\n",
       "      <th>6</th>\n",
       "      <td>Lenovo</td>\n",
       "      <td>Lenovo IdeaPad 3 Ryzen 5 Hexa Core 5500U</td>\n",
       "      <td>64 bit Windows 11 Operating System</td>\n",
       "      <td>AMD Ryzen 5 Hexa Core Processor</td>\n",
       "      <td>AMD</td>\n",
       "      <td>Ryzen 5 Hexa Core</td>\n",
       "      <td>1 Year Carry-In Warranty</td>\n",
       "      <td>8</td>\n",
       "      <td>DDR4</td>\n",
       "      <td>512 GB SSD</td>\n",
       "      <td>SSD</td>\n",
       "      <td>39.62</td>\n",
       "      <td>48940</td>\n",
       "      <td>4.4</td>\n",
       "    </tr>\n",
       "    <tr>\n",
       "      <th>7</th>\n",
       "      <td>HP</td>\n",
       "      <td>HP Core i5 11th Gen</td>\n",
       "      <td>64 bit Windows 11 Operating System</td>\n",
       "      <td>Intel Core i5 Processor (11th Gen)</td>\n",
       "      <td>Intel</td>\n",
       "      <td>Core i5</td>\n",
       "      <td>1 Year Onsite Warranty</td>\n",
       "      <td>8</td>\n",
       "      <td>DDR4</td>\n",
       "      <td>512 GB SSD</td>\n",
       "      <td>SSD</td>\n",
       "      <td>39.62</td>\n",
       "      <td>54600</td>\n",
       "      <td>4.3</td>\n",
       "    </tr>\n",
       "    <tr>\n",
       "      <th>8</th>\n",
       "      <td>ASUS</td>\n",
       "      <td>ASUS Ryzen 3 Dual Core 3250U 3rd Gen</td>\n",
       "      <td>64 bit Windows 10 Operating System</td>\n",
       "      <td>AMD Ryzen 3 Dual Core Processor (3rd Gen)</td>\n",
       "      <td>AMD</td>\n",
       "      <td>Ryzen 3 Dual Core</td>\n",
       "      <td>1 Year Onsite Warranty</td>\n",
       "      <td>8</td>\n",
       "      <td>DDR4</td>\n",
       "      <td>256 GB SSD</td>\n",
       "      <td>SSD</td>\n",
       "      <td>39.62</td>\n",
       "      <td>35940</td>\n",
       "      <td>4.3</td>\n",
       "    </tr>\n",
       "    <tr>\n",
       "      <th>9</th>\n",
       "      <td>DELL</td>\n",
       "      <td>DELL Inspiron Ryzen 3 Dual Core 3250U</td>\n",
       "      <td>64 bit Windows 11 Operating System</td>\n",
       "      <td>AMD Ryzen 3 Dual Core Processor</td>\n",
       "      <td>AMD</td>\n",
       "      <td>Ryzen 3 Dual Core</td>\n",
       "      <td>1 Year Onsite Warranty</td>\n",
       "      <td>8</td>\n",
       "      <td>DDR4</td>\n",
       "      <td>256 GB SSD</td>\n",
       "      <td>SSD</td>\n",
       "      <td>35.56</td>\n",
       "      <td>36940</td>\n",
       "      <td>4.2</td>\n",
       "    </tr>\n",
       "  </tbody>\n",
       "</table>\n",
       "</div>"
      ],
      "text/plain": [
       "    Brand                                       Name  \\\n",
       "0      HP       HP Pavilion Ryzen 5 Hexa Core 5500U    \n",
       "1      HP                       HP Core i3 11th Gen    \n",
       "2    ASUS  ASUS VivoBook 15 (2021) Core i3 10th Gen    \n",
       "3  Lenovo         Lenovo IdeaPad 3 Core i3 10th Gen    \n",
       "4    acer            acer Aspire 7 Core i5 10th Gen    \n",
       "5    ASUS  ASUS VivoBook 15 (2021) Core i3 11th Gen    \n",
       "6  Lenovo  Lenovo IdeaPad 3 Ryzen 5 Hexa Core 5500U    \n",
       "7      HP                       HP Core i5 11th Gen    \n",
       "8    ASUS      ASUS Ryzen 3 Dual Core 3250U 3rd Gen    \n",
       "9    DELL     DELL Inspiron Ryzen 3 Dual Core 3250U    \n",
       "\n",
       "                     Operating System  \\\n",
       "0  64 bit Windows 10 Operating System   \n",
       "1  64 bit Windows 11 Operating System   \n",
       "2  64 bit Windows 11 Operating System   \n",
       "3         Windows 10 Operating System   \n",
       "4  64 bit Windows 10 Operating System   \n",
       "5         Windows 10 Operating System   \n",
       "6  64 bit Windows 11 Operating System   \n",
       "7  64 bit Windows 11 Operating System   \n",
       "8  64 bit Windows 10 Operating System   \n",
       "9  64 bit Windows 11 Operating System   \n",
       "\n",
       "                                   Processor Processor_brand  \\\n",
       "0            AMD Ryzen 5 Hexa Core Processor             AMD   \n",
       "1         Intel Core i3 Processor (11th Gen)           Intel   \n",
       "2         Intel Core i3 Processor (10th Gen)           Intel   \n",
       "3         Intel Core i3 Processor (10th Gen)           Intel   \n",
       "4         Intel Core i5 Processor (10th Gen)           Intel   \n",
       "5         Intel Core i3 Processor (11th Gen)           Intel   \n",
       "6            AMD Ryzen 5 Hexa Core Processor             AMD   \n",
       "7         Intel Core i5 Processor (11th Gen)           Intel   \n",
       "8  AMD Ryzen 3 Dual Core Processor (3rd Gen)             AMD   \n",
       "9            AMD Ryzen 3 Dual Core Processor             AMD   \n",
       "\n",
       "       Processor_type                                 Warranty  RAM_GB  \\\n",
       "0   Ryzen 5 Hexa Core                   1 Year Onsite Warranty       8   \n",
       "1            Core i3                    1 Year Onsite Warranty       8   \n",
       "2            Core i3                    1 Year Onsite Warranty       8   \n",
       "3            Core i3                          2 Years Warranty       8   \n",
       "4            Core i5   1 Year International Travelers Warranty       8   \n",
       "5            Core i3                    1 Year Onsite Warranty       4   \n",
       "6   Ryzen 5 Hexa Core                 1 Year Carry-In Warranty       8   \n",
       "7            Core i5                    1 Year Onsite Warranty       8   \n",
       "8  Ryzen 3 Dual Core                    1 Year Onsite Warranty       8   \n",
       "9   Ryzen 3 Dual Core                   1 Year Onsite Warranty       8   \n",
       "\n",
       "  RAM_type         ROM ROM_type  Display_cm  Price  Rating  \n",
       "0     DDR4  512 GB SSD      SSD       39.62  57949     4.5  \n",
       "1     DDR4  512 GB SSD      SSD       39.62  41940     4.4  \n",
       "2     DDR4  512 GB SSD      SSD       39.62  37940     4.3  \n",
       "3     DDR4  256 GB SSD      SSD       39.62  37940     4.3  \n",
       "4     DDR4  512 GB SSD      SSD       39.62  50940     4.4  \n",
       "5     DDR4  256 GB SSD      SSD       39.62  35740     4.3  \n",
       "6     DDR4  512 GB SSD      SSD       39.62  48940     4.4  \n",
       "7     DDR4  512 GB SSD      SSD       39.62  54600     4.3  \n",
       "8     DDR4  256 GB SSD      SSD       39.62  35940     4.3  \n",
       "9     DDR4  256 GB SSD      SSD       35.56  36940     4.2  "
      ]
     },
     "execution_count": 86,
     "metadata": {},
     "output_type": "execute_result"
    }
   ],
   "source": [
    "laptops_data.head(10)"
   ]
  },
  {
   "cell_type": "code",
   "execution_count": 87,
   "id": "f3909555",
   "metadata": {},
   "outputs": [
    {
     "data": {
      "text/plain": [
       "(700, 14)"
      ]
     },
     "execution_count": 87,
     "metadata": {},
     "output_type": "execute_result"
    }
   ],
   "source": [
    "laptops_data.shape"
   ]
  },
  {
   "cell_type": "markdown",
   "id": "25e17193",
   "metadata": {},
   "source": [
    "# EDA(Exploratory Data Analysis)"
   ]
  },
  {
   "cell_type": "code",
   "execution_count": 88,
   "id": "a17ef320",
   "metadata": {},
   "outputs": [],
   "source": [
    "import pandas as pd\n",
    "import numpy as np\n",
    "import matplotlib.pyplot as plt\n",
    "import seaborn as sns"
   ]
  },
  {
   "cell_type": "code",
   "execution_count": 89,
   "id": "ec8f5ce8",
   "metadata": {},
   "outputs": [],
   "source": [
    "import warnings\n",
    "warnings.filterwarnings('ignore')"
   ]
  },
  {
   "cell_type": "code",
   "execution_count": 90,
   "id": "33b57aee",
   "metadata": {},
   "outputs": [
    {
     "data": {
      "text/html": [
       "<div>\n",
       "<style scoped>\n",
       "    .dataframe tbody tr th:only-of-type {\n",
       "        vertical-align: middle;\n",
       "    }\n",
       "\n",
       "    .dataframe tbody tr th {\n",
       "        vertical-align: top;\n",
       "    }\n",
       "\n",
       "    .dataframe thead th {\n",
       "        text-align: right;\n",
       "    }\n",
       "</style>\n",
       "<table border=\"1\" class=\"dataframe\">\n",
       "  <thead>\n",
       "    <tr style=\"text-align: right;\">\n",
       "      <th></th>\n",
       "      <th>Brand</th>\n",
       "      <th>Name</th>\n",
       "      <th>Operating System</th>\n",
       "      <th>Processor</th>\n",
       "      <th>Processor_brand</th>\n",
       "      <th>Processor_type</th>\n",
       "      <th>Warranty</th>\n",
       "      <th>RAM_GB</th>\n",
       "      <th>RAM_type</th>\n",
       "      <th>ROM</th>\n",
       "      <th>ROM_type</th>\n",
       "      <th>Display_cm</th>\n",
       "      <th>Price</th>\n",
       "      <th>Rating</th>\n",
       "    </tr>\n",
       "  </thead>\n",
       "  <tbody>\n",
       "    <tr>\n",
       "      <th>0</th>\n",
       "      <td>HP</td>\n",
       "      <td>HP Pavilion Ryzen 5 Hexa Core 5500U</td>\n",
       "      <td>64 bit Windows 10 Operating System</td>\n",
       "      <td>AMD Ryzen 5 Hexa Core Processor</td>\n",
       "      <td>AMD</td>\n",
       "      <td>Ryzen 5 Hexa Core</td>\n",
       "      <td>1 Year Onsite Warranty</td>\n",
       "      <td>8</td>\n",
       "      <td>DDR4</td>\n",
       "      <td>512 GB SSD</td>\n",
       "      <td>SSD</td>\n",
       "      <td>39.62</td>\n",
       "      <td>57949</td>\n",
       "      <td>4.5</td>\n",
       "    </tr>\n",
       "    <tr>\n",
       "      <th>1</th>\n",
       "      <td>HP</td>\n",
       "      <td>HP Core i3 11th Gen</td>\n",
       "      <td>64 bit Windows 11 Operating System</td>\n",
       "      <td>Intel Core i3 Processor (11th Gen)</td>\n",
       "      <td>Intel</td>\n",
       "      <td>Core i3</td>\n",
       "      <td>1 Year Onsite Warranty</td>\n",
       "      <td>8</td>\n",
       "      <td>DDR4</td>\n",
       "      <td>512 GB SSD</td>\n",
       "      <td>SSD</td>\n",
       "      <td>39.62</td>\n",
       "      <td>41940</td>\n",
       "      <td>4.4</td>\n",
       "    </tr>\n",
       "    <tr>\n",
       "      <th>2</th>\n",
       "      <td>ASUS</td>\n",
       "      <td>ASUS VivoBook 15 (2021) Core i3 10th Gen</td>\n",
       "      <td>64 bit Windows 11 Operating System</td>\n",
       "      <td>Intel Core i3 Processor (10th Gen)</td>\n",
       "      <td>Intel</td>\n",
       "      <td>Core i3</td>\n",
       "      <td>1 Year Onsite Warranty</td>\n",
       "      <td>8</td>\n",
       "      <td>DDR4</td>\n",
       "      <td>512 GB SSD</td>\n",
       "      <td>SSD</td>\n",
       "      <td>39.62</td>\n",
       "      <td>37940</td>\n",
       "      <td>4.3</td>\n",
       "    </tr>\n",
       "    <tr>\n",
       "      <th>3</th>\n",
       "      <td>Lenovo</td>\n",
       "      <td>Lenovo IdeaPad 3 Core i3 10th Gen</td>\n",
       "      <td>Windows 10 Operating System</td>\n",
       "      <td>Intel Core i3 Processor (10th Gen)</td>\n",
       "      <td>Intel</td>\n",
       "      <td>Core i3</td>\n",
       "      <td>2 Years Warranty</td>\n",
       "      <td>8</td>\n",
       "      <td>DDR4</td>\n",
       "      <td>256 GB SSD</td>\n",
       "      <td>SSD</td>\n",
       "      <td>39.62</td>\n",
       "      <td>37940</td>\n",
       "      <td>4.3</td>\n",
       "    </tr>\n",
       "    <tr>\n",
       "      <th>4</th>\n",
       "      <td>acer</td>\n",
       "      <td>acer Aspire 7 Core i5 10th Gen</td>\n",
       "      <td>64 bit Windows 10 Operating System</td>\n",
       "      <td>Intel Core i5 Processor (10th Gen)</td>\n",
       "      <td>Intel</td>\n",
       "      <td>Core i5</td>\n",
       "      <td>1 Year International Travelers Warranty</td>\n",
       "      <td>8</td>\n",
       "      <td>DDR4</td>\n",
       "      <td>512 GB SSD</td>\n",
       "      <td>SSD</td>\n",
       "      <td>39.62</td>\n",
       "      <td>50940</td>\n",
       "      <td>4.4</td>\n",
       "    </tr>\n",
       "  </tbody>\n",
       "</table>\n",
       "</div>"
      ],
      "text/plain": [
       "    Brand                                       Name  \\\n",
       "0      HP       HP Pavilion Ryzen 5 Hexa Core 5500U    \n",
       "1      HP                       HP Core i3 11th Gen    \n",
       "2    ASUS  ASUS VivoBook 15 (2021) Core i3 10th Gen    \n",
       "3  Lenovo         Lenovo IdeaPad 3 Core i3 10th Gen    \n",
       "4    acer            acer Aspire 7 Core i5 10th Gen    \n",
       "\n",
       "                     Operating System                           Processor  \\\n",
       "0  64 bit Windows 10 Operating System     AMD Ryzen 5 Hexa Core Processor   \n",
       "1  64 bit Windows 11 Operating System  Intel Core i3 Processor (11th Gen)   \n",
       "2  64 bit Windows 11 Operating System  Intel Core i3 Processor (10th Gen)   \n",
       "3         Windows 10 Operating System  Intel Core i3 Processor (10th Gen)   \n",
       "4  64 bit Windows 10 Operating System  Intel Core i5 Processor (10th Gen)   \n",
       "\n",
       "  Processor_brand     Processor_type                                 Warranty  \\\n",
       "0             AMD  Ryzen 5 Hexa Core                   1 Year Onsite Warranty   \n",
       "1           Intel           Core i3                    1 Year Onsite Warranty   \n",
       "2           Intel           Core i3                    1 Year Onsite Warranty   \n",
       "3           Intel           Core i3                          2 Years Warranty   \n",
       "4           Intel           Core i5   1 Year International Travelers Warranty   \n",
       "\n",
       "   RAM_GB RAM_type         ROM ROM_type  Display_cm  Price  Rating  \n",
       "0       8     DDR4  512 GB SSD      SSD       39.62  57949     4.5  \n",
       "1       8     DDR4  512 GB SSD      SSD       39.62  41940     4.4  \n",
       "2       8     DDR4  512 GB SSD      SSD       39.62  37940     4.3  \n",
       "3       8     DDR4  256 GB SSD      SSD       39.62  37940     4.3  \n",
       "4       8     DDR4  512 GB SSD      SSD       39.62  50940     4.4  "
      ]
     },
     "execution_count": 90,
     "metadata": {},
     "output_type": "execute_result"
    }
   ],
   "source": [
    "laptops_data.head()"
   ]
  },
  {
   "cell_type": "code",
   "execution_count": 91,
   "id": "6759956a",
   "metadata": {},
   "outputs": [
    {
     "name": "stdout",
     "output_type": "stream",
     "text": [
      "<class 'pandas.core.frame.DataFrame'>\n",
      "RangeIndex: 700 entries, 0 to 699\n",
      "Data columns (total 14 columns):\n",
      " #   Column            Non-Null Count  Dtype  \n",
      "---  ------            --------------  -----  \n",
      " 0   Brand             700 non-null    object \n",
      " 1   Name              700 non-null    object \n",
      " 2   Operating System  700 non-null    object \n",
      " 3   Processor         700 non-null    object \n",
      " 4   Processor_brand   700 non-null    object \n",
      " 5   Processor_type    700 non-null    object \n",
      " 6   Warranty          700 non-null    object \n",
      " 7   RAM_GB            700 non-null    int64  \n",
      " 8   RAM_type          700 non-null    object \n",
      " 9   ROM               700 non-null    object \n",
      " 10  ROM_type          694 non-null    object \n",
      " 11  Display_cm        700 non-null    float64\n",
      " 12  Price             700 non-null    int64  \n",
      " 13  Rating            700 non-null    float64\n",
      "dtypes: float64(2), int64(2), object(10)\n",
      "memory usage: 76.7+ KB\n"
     ]
    }
   ],
   "source": [
    "laptops_data.info()"
   ]
  },
  {
   "cell_type": "code",
   "execution_count": 92,
   "id": "fdff9a82",
   "metadata": {},
   "outputs": [
    {
     "data": {
      "text/html": [
       "<div>\n",
       "<style scoped>\n",
       "    .dataframe tbody tr th:only-of-type {\n",
       "        vertical-align: middle;\n",
       "    }\n",
       "\n",
       "    .dataframe tbody tr th {\n",
       "        vertical-align: top;\n",
       "    }\n",
       "\n",
       "    .dataframe thead th {\n",
       "        text-align: right;\n",
       "    }\n",
       "</style>\n",
       "<table border=\"1\" class=\"dataframe\">\n",
       "  <thead>\n",
       "    <tr style=\"text-align: right;\">\n",
       "      <th></th>\n",
       "      <th>RAM_GB</th>\n",
       "      <th>Display_cm</th>\n",
       "      <th>Price</th>\n",
       "      <th>Rating</th>\n",
       "    </tr>\n",
       "  </thead>\n",
       "  <tbody>\n",
       "    <tr>\n",
       "      <th>count</th>\n",
       "      <td>700.000000</td>\n",
       "      <td>700.000000</td>\n",
       "      <td>700.000000</td>\n",
       "      <td>700.000000</td>\n",
       "    </tr>\n",
       "    <tr>\n",
       "      <th>mean</th>\n",
       "      <td>10.205714</td>\n",
       "      <td>37.383543</td>\n",
       "      <td>75582.542857</td>\n",
       "      <td>4.330857</td>\n",
       "    </tr>\n",
       "    <tr>\n",
       "      <th>std</th>\n",
       "      <td>4.705091</td>\n",
       "      <td>3.306080</td>\n",
       "      <td>46468.078386</td>\n",
       "      <td>0.669244</td>\n",
       "    </tr>\n",
       "    <tr>\n",
       "      <th>min</th>\n",
       "      <td>4.000000</td>\n",
       "      <td>15.600000</td>\n",
       "      <td>18940.000000</td>\n",
       "      <td>1.000000</td>\n",
       "    </tr>\n",
       "    <tr>\n",
       "      <th>25%</th>\n",
       "      <td>8.000000</td>\n",
       "      <td>35.560000</td>\n",
       "      <td>48917.250000</td>\n",
       "      <td>4.100000</td>\n",
       "    </tr>\n",
       "    <tr>\n",
       "      <th>50%</th>\n",
       "      <td>8.000000</td>\n",
       "      <td>39.620000</td>\n",
       "      <td>59940.000000</td>\n",
       "      <td>4.400000</td>\n",
       "    </tr>\n",
       "    <tr>\n",
       "      <th>75%</th>\n",
       "      <td>16.000000</td>\n",
       "      <td>39.620000</td>\n",
       "      <td>84940.000000</td>\n",
       "      <td>4.700000</td>\n",
       "    </tr>\n",
       "    <tr>\n",
       "      <th>max</th>\n",
       "      <td>32.000000</td>\n",
       "      <td>43.940000</td>\n",
       "      <td>441940.000000</td>\n",
       "      <td>5.000000</td>\n",
       "    </tr>\n",
       "  </tbody>\n",
       "</table>\n",
       "</div>"
      ],
      "text/plain": [
       "           RAM_GB  Display_cm          Price      Rating\n",
       "count  700.000000  700.000000     700.000000  700.000000\n",
       "mean    10.205714   37.383543   75582.542857    4.330857\n",
       "std      4.705091    3.306080   46468.078386    0.669244\n",
       "min      4.000000   15.600000   18940.000000    1.000000\n",
       "25%      8.000000   35.560000   48917.250000    4.100000\n",
       "50%      8.000000   39.620000   59940.000000    4.400000\n",
       "75%     16.000000   39.620000   84940.000000    4.700000\n",
       "max     32.000000   43.940000  441940.000000    5.000000"
      ]
     },
     "execution_count": 92,
     "metadata": {},
     "output_type": "execute_result"
    }
   ],
   "source": [
    "laptops_data.describe()"
   ]
  },
  {
   "cell_type": "markdown",
   "id": "0269234f",
   "metadata": {},
   "source": [
    "## Problem Statement\n",
    "\n",
    "1. Find the count of each brand available in the Data Frame\n",
    "2. Find Laptop rating count\n",
    "3. Price vs Rating\n",
    "4. What is the distribution of laptop sold as per brand\n",
    "5. a) Which laptops have rating equal to 5 and with in budget 50,000\n",
    "   b) Laptops under INR 50,000\n",
    "6. Laptops under INR 50,000\n",
    "7. What is the costliest and cheapest product sold"
   ]
  },
  {
   "cell_type": "code",
   "execution_count": null,
   "id": "9b80fe2c",
   "metadata": {},
   "outputs": [],
   "source": []
  },
  {
   "cell_type": "markdown",
   "id": "db73b362",
   "metadata": {},
   "source": [
    "## Countplot"
   ]
  },
  {
   "cell_type": "markdown",
   "id": "6f2c65af",
   "metadata": {},
   "source": [
    "### Count Brand wise Laptops"
   ]
  },
  {
   "cell_type": "code",
   "execution_count": 93,
   "id": "b914f598",
   "metadata": {},
   "outputs": [
    {
     "data": {
      "image/png": "[encoded data removed]",
      "text/plain": [
       "<Figure size 1440x504 with 1 Axes>"
      ]
     },
     "metadata": {
      "needs_background": "light"
     },
     "output_type": "display_data"
    }
   ],
   "source": [
    "plt.figure(figsize = (20,7))\n",
    "sns.countplot(x=laptops_data['Brand'])\n",
    "plt.title('plot of Brand with Count')\n",
    "plt.show()"
   ]
  },
  {
   "cell_type": "code",
   "execution_count": 94,
   "id": "66e820f4",
   "metadata": {},
   "outputs": [
    {
     "data": {
      "text/plain": [
       "ASUS         181\n",
       "HP           158\n",
       "Lenovo       116\n",
       "DELL         112\n",
       "acer          39\n",
       "MSI           32\n",
       "APPLE         26\n",
       "Infinix        7\n",
       "Avita          4\n",
       "ALIENWARE      4\n",
       "LG             4\n",
       "realme         3\n",
       "RedmiBook      3\n",
       "Nokia          3\n",
       "Mi             2\n",
       "MICROSOFT      2\n",
       "Vaio           2\n",
       "SAMSUNG        1\n",
       "Smartron       1\n",
       "Name: Brand, dtype: int64"
      ]
     },
     "execution_count": 94,
     "metadata": {},
     "output_type": "execute_result"
    }
   ],
   "source": [
    "laptops_data.Brand.value_counts()"
   ]
  },
  {
   "cell_type": "markdown",
   "id": "09ccac59",
   "metadata": {},
   "source": [
    "### observation :\n",
    "1. In this dataframe ASUS brand has high number of laptops\n",
    "2. HP has second highest number of laptops\n",
    "3. Nokia,Mi, Samsung, Avita, Microsoft, Vaio, LG, Smartron seems to have very less number of laptops"
   ]
  },
  {
   "cell_type": "markdown",
   "id": "90c4c65d",
   "metadata": {},
   "source": [
    "### Categorization of laptops according to ratings"
   ]
  },
  {
   "cell_type": "code",
   "execution_count": 95,
   "id": "1b07bd4f",
   "metadata": {},
   "outputs": [
    {
     "data": {
      "image/png": "[encoded data removed]",
      "text/plain": [
       "<Figure size 1440x504 with 1 Axes>"
      ]
     },
     "metadata": {
      "needs_background": "light"
     },
     "output_type": "display_data"
    }
   ],
   "source": [
    "plt.figure(figsize = (20,7))\n",
    "sns.countplot(x = laptops_data['Rating'])\n",
    "plt.title('Laptop Rating count plot')\n",
    "plt.show()"
   ]
  },
  {
   "cell_type": "markdown",
   "id": "e061aaa8",
   "metadata": {},
   "source": [
    "### Obseravtions:\n",
    "1) 5 Rating got high number in this dataframe   \n",
    "2) 1.6,1.7,3.2,3.4, 3.5,3.6 got low number in this dataframe around less than 5"
   ]
  },
  {
   "cell_type": "markdown",
   "id": "5bb67ab1",
   "metadata": {},
   "source": [
    "### checking RAM_type value_counts"
   ]
  },
  {
   "cell_type": "code",
   "execution_count": 96,
   "id": "76bb60ff",
   "metadata": {},
   "outputs": [
    {
     "data": {
      "image/png": "[encoded data removed]",
      "text/plain": [
       "<Figure size 720x360 with 1 Axes>"
      ]
     },
     "metadata": {
      "needs_background": "light"
     },
     "output_type": "display_data"
    }
   ],
   "source": [
    "plt.figure(figsize = (10,5))\n",
    "sns.countplot(x = laptops_data['RAM_type'])\n",
    "plt.show()"
   ]
  },
  {
   "cell_type": "markdown",
   "id": "8d51f320",
   "metadata": {},
   "source": [
    "### Obseravtions:\n",
    "1. DDR4 has more laptops in  Dataframe\n",
    "2. remaining all RAM types have very low laptops in Dataframe less than 100"
   ]
  },
  {
   "cell_type": "markdown",
   "id": "64cb652d",
   "metadata": {},
   "source": [
    "## Barplot"
   ]
  },
  {
   "cell_type": "markdown",
   "id": "337c3f70",
   "metadata": {},
   "source": [
    "### check Ram_GB value counts "
   ]
  },
  {
   "cell_type": "code",
   "execution_count": 97,
   "id": "44f1ccc0",
   "metadata": {},
   "outputs": [
    {
     "data": {
      "image/png": "[encoded data removed]",
      "text/plain": [
       "<Figure size 576x360 with 1 Axes>"
      ]
     },
     "metadata": {
      "needs_background": "light"
     },
     "output_type": "display_data"
    }
   ],
   "source": [
    "plt.figure(figsize=(8,5))\n",
    "laptops_data['RAM_GB'].value_counts().plot.bar(color = ['Green','Yellow','Red','Orange'])\n",
    "plt.xlabel('Ram_Gb')\n",
    "plt.ylabel('count')\n",
    "plt.title('Ram_gb count')\n",
    "plt.show()"
   ]
  },
  {
   "cell_type": "markdown",
   "id": "06f91fd2",
   "metadata": {},
   "source": [
    "### observation:\n",
    "1. 8 gb ram has high number in this Dataframe which is around 260\n",
    "2. 32 gb ram has lowe number in this Dataframe which is around 10"
   ]
  },
  {
   "cell_type": "markdown",
   "id": "cb264b50",
   "metadata": {},
   "source": [
    "### check Display count "
   ]
  },
  {
   "cell_type": "code",
   "execution_count": 98,
   "id": "96a1d97d",
   "metadata": {},
   "outputs": [
    {
     "data": {
      "image/png": "[encoded data removed]",
      "text/plain": [
       "<Figure size 1080x360 with 1 Axes>"
      ]
     },
     "metadata": {
      "needs_background": "light"
     },
     "output_type": "display_data"
    }
   ],
   "source": [
    "plt.figure(figsize=(15,5))\n",
    "laptops_data.Display_cm.value_counts().plot.bar(color = 'Teal')\n",
    "plt.show()"
   ]
  },
  {
   "cell_type": "markdown",
   "id": "8f023065",
   "metadata": {},
   "source": [
    "### observation:\n",
    "1. 39.62cms has high number of laptops listed in dataframe\n",
    "2. 36.83,36.07,38.86,34.04,40.89 got low numbers in the dataframe"
   ]
  },
  {
   "cell_type": "markdown",
   "id": "26e40c21",
   "metadata": {},
   "source": [
    "### check count of processor_brand"
   ]
  },
  {
   "cell_type": "code",
   "execution_count": 99,
   "id": "9221330a",
   "metadata": {},
   "outputs": [
    {
     "data": {
      "image/png": "[encoded data removed]",
      "text/plain": [
       "<Figure size 432x288 with 1 Axes>"
      ]
     },
     "metadata": {
      "needs_background": "light"
     },
     "output_type": "display_data"
    }
   ],
   "source": [
    "laptops_data.Processor_brand.value_counts().plot.bar(color = ['Violet','Pink'])\n",
    "plt.show()"
   ]
  },
  {
   "cell_type": "markdown",
   "id": "babc5d26",
   "metadata": {},
   "source": [
    "### observations : \n",
    "In this dataframe intel has high number around 700+ compared to AMD"
   ]
  },
  {
   "cell_type": "markdown",
   "id": "6e4c3f9a",
   "metadata": {},
   "source": [
    "### check count of Processor_type"
   ]
  },
  {
   "cell_type": "code",
   "execution_count": 100,
   "id": "aef14edb",
   "metadata": {},
   "outputs": [
    {
     "data": {
      "image/png": "[encoded data removed]",
      "text/plain": [
       "<Figure size 1080x360 with 1 Axes>"
      ]
     },
     "metadata": {
      "needs_background": "light"
     },
     "output_type": "display_data"
    }
   ],
   "source": [
    "plt.figure(figsize=(15,5))\n",
    "df1.Processor.value_counts().plot.bar()\n",
    "plt.show()"
   ]
  },
  {
   "cell_type": "markdown",
   "id": "1bc9471c",
   "metadata": {},
   "source": [
    "### check count of Rom_type"
   ]
  },
  {
   "cell_type": "code",
   "execution_count": 101,
   "id": "3f6f3840",
   "metadata": {},
   "outputs": [
    {
     "data": {
      "image/png": "[encoded data removed]",
      "text/plain": [
       "<Figure size 432x288 with 1 Axes>"
      ]
     },
     "metadata": {
      "needs_background": "light"
     },
     "output_type": "display_data"
    }
   ],
   "source": [
    "laptops_data.ROM_type.value_counts().plot.bar(color=['Green'])\n",
    "plt.show()"
   ]
  },
  {
   "cell_type": "markdown",
   "id": "b9368528",
   "metadata": {},
   "source": [
    "### observations : \n",
    "SSD has high number and HDD has low number"
   ]
  },
  {
   "cell_type": "markdown",
   "id": "6f64d46f",
   "metadata": {},
   "source": [
    "### check count of ROM"
   ]
  },
  {
   "cell_type": "code",
   "execution_count": 102,
   "id": "fb48b013",
   "metadata": {},
   "outputs": [
    {
     "data": {
      "image/png": "[encoded data removed]",
      "text/plain": [
       "<Figure size 1800x576 with 1 Axes>"
      ]
     },
     "metadata": {
      "needs_background": "light"
     },
     "output_type": "display_data"
    }
   ],
   "source": [
    "plt.figure(figsize = (25,8))\n",
    "sns.countplot(x=laptops_data['ROM'])\n",
    "plt.show()"
   ]
  },
  {
   "cell_type": "markdown",
   "id": "e2d85504",
   "metadata": {},
   "source": [
    "### observation:\n",
    "1. The majority of laptops comes with 512 SSD storage\n",
    "2. Very low number of laptops has 3TB SDD and 128GB"
   ]
  },
  {
   "cell_type": "markdown",
   "id": "307cf43b",
   "metadata": {},
   "source": [
    "### Laptops range btw 1L to 1.5L"
   ]
  },
  {
   "cell_type": "code",
   "execution_count": 103,
   "id": "3f67e07f",
   "metadata": {},
   "outputs": [],
   "source": [
    "cst = laptops_data[(laptops_data['Price']>=100000) & (laptops_data['Price']<=150000)]"
   ]
  },
  {
   "cell_type": "code",
   "execution_count": 104,
   "id": "1626b5e4",
   "metadata": {},
   "outputs": [
    {
     "data": {
      "image/png": "[encoded data removed]",
      "text/plain": [
       "<Figure size 720x360 with 1 Axes>"
      ]
     },
     "metadata": {
      "needs_background": "light"
     },
     "output_type": "display_data"
    }
   ],
   "source": [
    "plt.figure(figsize = (10,5))\n",
    "sns.barplot(x = cst['Brand'], y =cst['Price'])\n",
    "plt.show()"
   ]
  },
  {
   "cell_type": "markdown",
   "id": "945d6d98",
   "metadata": {},
   "source": [
    "### Observations:\n",
    "1. Asus, Lenovo, Redmibook, Acer, Apple, HP, MSI, Infinix, Dell, Alienware, Realme, Smatron are the brands avalible in the proce range of 1L to 1.5L"
   ]
  },
  {
   "cell_type": "markdown",
   "id": "6e3bf630",
   "metadata": {},
   "source": [
    "## Catplot"
   ]
  },
  {
   "cell_type": "markdown",
   "id": "497ae10b",
   "metadata": {},
   "source": [
    "### Brand v/s price"
   ]
  },
  {
   "cell_type": "code",
   "execution_count": 105,
   "id": "2447c553",
   "metadata": {},
   "outputs": [
    {
     "data": {
      "image/png": "[encoded data removed]",
      "text/plain": [
       "<Figure size 1440x576 with 1 Axes>"
      ]
     },
     "metadata": {
      "needs_background": "light"
     },
     "output_type": "display_data"
    }
   ],
   "source": [
    "sns.catplot('Brand','Price',data = laptops_data,hue = 'Processor_brand',kind = 'box')\n",
    "plt.gcf().set_size_inches(20, 8)\n",
    "plt.xticks(rotation = 90)\n",
    "plt.show()"
   ]
  },
  {
   "cell_type": "markdown",
   "id": "a666d4ad",
   "metadata": {},
   "source": [
    "### observations:\n",
    "1. Infinix has AMD procesor which has high median and price density 150000 to 170000\n",
    "2. The brands like Mi,samsung,Avita,microsoft,,lg,vaio,smartron got low denisty\n",
    "3. HP,Asus ,Lenovo ,acer,DELL,Apple,MSI, infinix has both type of processors \n",
    "4. In max brand the density for AMD is less when compared to Intel \n",
    "5. The upper bound is high in all intel processors"
   ]
  },
  {
   "cell_type": "markdown",
   "id": "cbd7d89d",
   "metadata": {},
   "source": [
    "### Checking price"
   ]
  },
  {
   "cell_type": "code",
   "execution_count": 106,
   "id": "703b3d89",
   "metadata": {},
   "outputs": [
    {
     "data": {
      "image/png": "[encoded data removed]",
      "text/plain": [
       "<Figure size 360x360 with 1 Axes>"
      ]
     },
     "metadata": {
      "needs_background": "light"
     },
     "output_type": "display_data"
    }
   ],
   "source": [
    "sns.catplot(y = 'Price',data = laptops_data,kind = 'box')\n",
    "plt.show()"
   ]
  },
  {
   "cell_type": "markdown",
   "id": "705ccc3b",
   "metadata": {},
   "source": [
    "### observations:\n",
    "1. The price is density is around 40000 to 85000\n",
    "2. The lower bound is around 10000\n",
    "3. The upper bound is 140000"
   ]
  },
  {
   "cell_type": "markdown",
   "id": "0c78bab1",
   "metadata": {},
   "source": [
    "## Relplot"
   ]
  },
  {
   "cell_type": "markdown",
   "id": "0d778e6c",
   "metadata": {},
   "source": [
    "### Price vs Rating"
   ]
  },
  {
   "cell_type": "code",
   "execution_count": 107,
   "id": "742e946e",
   "metadata": {},
   "outputs": [
    {
     "data": {
      "image/png": "[encoded data removed]",
      "text/plain": [
       "<Figure size 1080x432 with 1 Axes>"
      ]
     },
     "metadata": {
      "needs_background": "light"
     },
     "output_type": "display_data"
    }
   ],
   "source": [
    "size = (15, 6)\n",
    "fig, ax = plt.subplots(figsize=size)\n",
    "plt.title('Price vs Rating')\n",
    "sns.scatterplot(x='Price', y = 'Rating', hue= 'Brand', data = laptops_data)\n",
    "plt.show()"
   ]
  },
  {
   "cell_type": "markdown",
   "id": "71714369",
   "metadata": {},
   "source": [
    "### Observations\n",
    "1. Here we can see that most of the laptops price range lies between probably 30,000 to 100,000\n",
    "2. Many of the laptops ratings are between 3.7 to 5 \n",
    "3. Apple, Lenovo, Infinix, Avita, Alienware, Microsoft, Samsung, LG brands seems to have good rating between 3.0 to 5.0\n",
    "4. There is one outlayer of Asus Brand where price is above 4L and with 5 rating.\n",
    "5. When price is high rating is also high\n",
    "6. some of laptops of Asus, Dell, HP, Vaio brands got very less rating(1.0)"
   ]
  },
  {
   "cell_type": "markdown",
   "id": "dd81b955",
   "metadata": {},
   "source": [
    "### check Ram_GB and  Price "
   ]
  },
  {
   "cell_type": "code",
   "execution_count": 108,
   "id": "d15f6216",
   "metadata": {},
   "outputs": [
    {
     "data": {
      "image/png": "[encoded data removed]",
      "text/plain": [
       "<Figure size 443.125x360 with 1 Axes>"
      ]
     },
     "metadata": {
      "needs_background": "light"
     },
     "output_type": "display_data"
    }
   ],
   "source": [
    "sns.relplot(x = 'RAM_GB',y = 'Price',data = df1 ,hue = 'RAM_type')\n",
    "plt.show()"
   ]
  },
  {
   "cell_type": "markdown",
   "id": "e948a29f",
   "metadata": {},
   "source": [
    "### observations:\n",
    "1. When the Ram increases the lower price and upper price point also increase\n",
    "2. There is a point in 4 gb Ram which has DDR4 but price is high may be some other factors influences but in this ram the price is high consider it as a outlier\n",
    "3. In Ram 32 gb it has only DDR4,LPDDR4X,DDR5 ram type"
   ]
  },
  {
   "cell_type": "markdown",
   "id": "4ef1705e",
   "metadata": {},
   "source": [
    "## Pie plot"
   ]
  },
  {
   "cell_type": "markdown",
   "id": "c9a1d2f3",
   "metadata": {},
   "source": [
    "### Distribution of laptops sold as per Brand"
   ]
  },
  {
   "cell_type": "code",
   "execution_count": 134,
   "id": "5c315ff8",
   "metadata": {},
   "outputs": [
    {
     "data": {
      "image/png": "[encoded data removed]",
      "text/plain": [
       "<Figure size 720x720 with 1 Axes>"
      ]
     },
     "metadata": {},
     "output_type": "display_data"
    }
   ],
   "source": [
    "Brand_counts = laptops_data.Brand.value_counts()\n",
    "Brand_counts\n",
    "plt.figure(figsize=(10,10))\n",
    "plt.title('Distribution of Laptops sold as per Brand')\n",
    "plt.pie(Brand_counts, labels=Brand_counts.index, autopct='%1.1f%%',startangle=180);"
   ]
  },
  {
   "cell_type": "markdown",
   "id": "796cdda5",
   "metadata": {},
   "source": [
    "### Obervations:\n",
    "1. The percentage of laptops sold, Asus have the highest market share.\n",
    "2. HP has the second highest market share.\n",
    "3. Asus, HP, Lenovo, Dell, Acer, MSI, Apple have percentage above 3 and remaining all below 1 percent."
   ]
  },
  {
   "cell_type": "markdown",
   "id": "114e0aa4",
   "metadata": {},
   "source": [
    "## DistPlot"
   ]
  },
  {
   "cell_type": "markdown",
   "id": "aefa4700",
   "metadata": {},
   "source": [
    "### check distribution of price"
   ]
  },
  {
   "cell_type": "code",
   "execution_count": 110,
   "id": "7c7f0a9b",
   "metadata": {},
   "outputs": [
    {
     "data": {
      "image/png": "[encoded data removed]",
      "text/plain": [
       "<Figure size 1440x504 with 1 Axes>"
      ]
     },
     "metadata": {
      "needs_background": "light"
     },
     "output_type": "display_data"
    }
   ],
   "source": [
    "plt.figure(figsize = (20,7))\n",
    "sns.distplot(laptops_data['Price'])\n",
    "plt.show()"
   ]
  },
  {
   "cell_type": "markdown",
   "id": "b208782b",
   "metadata": {},
   "source": [
    "### Observation:\n",
    "1. The price is density is around 40000 to 85000\n",
    "2. Right Skewed or Positive Skewed"
   ]
  },
  {
   "cell_type": "markdown",
   "id": "ac09a9cb",
   "metadata": {},
   "source": [
    "## Histogram"
   ]
  },
  {
   "cell_type": "markdown",
   "id": "91dae907",
   "metadata": {},
   "source": [
    "#### kind of Rating  Laptops have"
   ]
  },
  {
   "cell_type": "code",
   "execution_count": 111,
   "id": "b94c5bfc",
   "metadata": {},
   "outputs": [
    {
     "data": {
      "image/png": "[encoded data removed]",
      "text/plain": [
       "<Figure size 432x288 with 1 Axes>"
      ]
     },
     "metadata": {
      "needs_background": "light"
     },
     "output_type": "display_data"
    }
   ],
   "source": [
    "laptops_data.hist('Rating', bins = 5)\n",
    "plt.show()"
   ]
  },
  {
   "cell_type": "markdown",
   "id": "9b3352c0",
   "metadata": {},
   "source": [
    "### Observations:\n",
    "1. Here rating is same for from 4.2 to 5   \n",
    "2. 1.0 to 3.4 has got less number of ratings in this dataframe"
   ]
  },
  {
   "cell_type": "markdown",
   "id": "a41c44b7",
   "metadata": {},
   "source": [
    "## Scatter plot"
   ]
  },
  {
   "cell_type": "code",
   "execution_count": 112,
   "id": "35a3669d",
   "metadata": {},
   "outputs": [
    {
     "data": {
      "image/png": "[encoded data removed]",
      "text/plain": [
       "<Figure size 1440x720 with 1 Axes>"
      ]
     },
     "metadata": {
      "needs_background": "light"
     },
     "output_type": "display_data"
    }
   ],
   "source": [
    "plt.figure(figsize = (20,10))\n",
    "sns.scatterplot(x = 'Brand', y ='Price',data = laptops_data)\n",
    "plt.show()"
   ]
  },
  {
   "cell_type": "markdown",
   "id": "335dfa6f",
   "metadata": {},
   "source": [
    "### Observations:\n",
    "1. Most of the laptops price range lies between 40,000 to 200,000\n",
    "2.  HP, Asus, Lenovo, Dell, Apple, MSI brands have more number of laptops and some of the laptops above 200,000\n",
    "3. Remaining all have less number of laptops and price range below 200,000"
   ]
  },
  {
   "cell_type": "markdown",
   "id": "4039cd19",
   "metadata": {},
   "source": [
    "### Laptops under range of INR 50,000 and with rating 5"
   ]
  },
  {
   "cell_type": "code",
   "execution_count": 104,
   "id": "603af481",
   "metadata": {},
   "outputs": [],
   "source": [
    "cst = laptops_data[(laptops_data['Price']<=50000) & (laptops_data['Rating']==5.0)]"
   ]
  },
  {
   "cell_type": "code",
   "execution_count": 119,
   "id": "5e95e364",
   "metadata": {},
   "outputs": [
    {
     "data": {
      "text/plain": [
       "DELL      9\n",
       "ASUS      8\n",
       "HP        7\n",
       "Lenovo    6\n",
       "acer      2\n",
       "Name: Brand, dtype: int64"
      ]
     },
     "execution_count": 119,
     "metadata": {},
     "output_type": "execute_result"
    }
   ],
   "source": [
    "cst.Brand.value_counts()"
   ]
  },
  {
   "cell_type": "code",
   "execution_count": 193,
   "id": "c7cfb5ed",
   "metadata": {
    "collapsed": true
   },
   "outputs": [
    {
     "data": {
      "text/html": [
       "<div>\n",
       "<style scoped>\n",
       "    .dataframe tbody tr th:only-of-type {\n",
       "        vertical-align: middle;\n",
       "    }\n",
       "\n",
       "    .dataframe tbody tr th {\n",
       "        vertical-align: top;\n",
       "    }\n",
       "\n",
       "    .dataframe thead th {\n",
       "        text-align: right;\n",
       "    }\n",
       "</style>\n",
       "<table border=\"1\" class=\"dataframe\">\n",
       "  <thead>\n",
       "    <tr style=\"text-align: right;\">\n",
       "      <th></th>\n",
       "      <th>Brand</th>\n",
       "      <th>Name</th>\n",
       "      <th>Operating System</th>\n",
       "      <th>Processor</th>\n",
       "      <th>Processor_brand</th>\n",
       "      <th>Processor_type</th>\n",
       "      <th>Warranty</th>\n",
       "      <th>RAM_GB</th>\n",
       "      <th>RAM_type</th>\n",
       "      <th>ROM</th>\n",
       "      <th>ROM_type</th>\n",
       "      <th>Display_cm</th>\n",
       "      <th>Price</th>\n",
       "      <th>Rating</th>\n",
       "    </tr>\n",
       "  </thead>\n",
       "  <tbody>\n",
       "    <tr>\n",
       "      <th>15</th>\n",
       "      <td>DELL</td>\n",
       "      <td>DELL Vostro Core i3 10th Gen</td>\n",
       "      <td>64 bit Windows 11 Operating System</td>\n",
       "      <td>Intel Core i3 Processor (10th Gen)</td>\n",
       "      <td>Intel</td>\n",
       "      <td>Core i3</td>\n",
       "      <td>1 Year Onsite Warranty</td>\n",
       "      <td>8</td>\n",
       "      <td>DDR4</td>\n",
       "      <td>1 TB HDD|256 GB SSD</td>\n",
       "      <td>both</td>\n",
       "      <td>39.62</td>\n",
       "      <td>42240</td>\n",
       "      <td>5.0</td>\n",
       "    </tr>\n",
       "    <tr>\n",
       "      <th>25</th>\n",
       "      <td>HP</td>\n",
       "      <td>HP Core i3 11th Gen</td>\n",
       "      <td>64 bit Windows 11 Operating System</td>\n",
       "      <td>Intel Core i3 Processor (11th Gen)</td>\n",
       "      <td>Intel</td>\n",
       "      <td>Core i3</td>\n",
       "      <td>1 Year Onsite Warranty</td>\n",
       "      <td>8</td>\n",
       "      <td>DDR4</td>\n",
       "      <td>512 GB SSD</td>\n",
       "      <td>SSD</td>\n",
       "      <td>39.62</td>\n",
       "      <td>47940</td>\n",
       "      <td>5.0</td>\n",
       "    </tr>\n",
       "    <tr>\n",
       "      <th>29</th>\n",
       "      <td>ASUS</td>\n",
       "      <td>ASUS VivoBook 15 (2021) Core i3 11th Gen</td>\n",
       "      <td>Windows 10 Operating System</td>\n",
       "      <td>Intel Core i3 Processor (11th Gen)</td>\n",
       "      <td>Intel</td>\n",
       "      <td>Core i3</td>\n",
       "      <td>1 Year Carry-In Warranty</td>\n",
       "      <td>4</td>\n",
       "      <td>DDR4</td>\n",
       "      <td>256 GB SSD</td>\n",
       "      <td>SSD</td>\n",
       "      <td>39.62</td>\n",
       "      <td>47940</td>\n",
       "      <td>5.0</td>\n",
       "    </tr>\n",
       "    <tr>\n",
       "      <th>34</th>\n",
       "      <td>DELL</td>\n",
       "      <td>DELL Inspiron Core i5 11th Gen</td>\n",
       "      <td>64 bit Windows 11 Operating System</td>\n",
       "      <td>Intel Core i5 Processor (11th Gen)</td>\n",
       "      <td>Intel</td>\n",
       "      <td>Core i5</td>\n",
       "      <td>1 Year Onsite Warranty</td>\n",
       "      <td>8</td>\n",
       "      <td>DDR4</td>\n",
       "      <td>1 TB HDD|256 GB SSD</td>\n",
       "      <td>both</td>\n",
       "      <td>35.56</td>\n",
       "      <td>47940</td>\n",
       "      <td>5.0</td>\n",
       "    </tr>\n",
       "    <tr>\n",
       "      <th>65</th>\n",
       "      <td>HP</td>\n",
       "      <td>HP Ryzen 5 Hexa Core 5500U</td>\n",
       "      <td>64 bit Windows 11 Operating System</td>\n",
       "      <td>AMD Ryzen 3 Dual Core Processor</td>\n",
       "      <td>AMD</td>\n",
       "      <td>Ryzen 3 Dual Core</td>\n",
       "      <td>1 Years Carry in Warranty</td>\n",
       "      <td>8</td>\n",
       "      <td>DDR4</td>\n",
       "      <td>512 GB SSD</td>\n",
       "      <td>SSD</td>\n",
       "      <td>39.62</td>\n",
       "      <td>38940</td>\n",
       "      <td>5.0</td>\n",
       "    </tr>\n",
       "    <tr>\n",
       "      <th>67</th>\n",
       "      <td>Lenovo</td>\n",
       "      <td>Lenovo Ideapad Slim 3i (2021) Core i5 11th Gen</td>\n",
       "      <td>64 bit Windows 10 Operating System</td>\n",
       "      <td>Intel Core i3 Processor (10th Gen)</td>\n",
       "      <td>Intel</td>\n",
       "      <td>Core i3</td>\n",
       "      <td>1 Year Onsite Warranty</td>\n",
       "      <td>8</td>\n",
       "      <td>DDR4</td>\n",
       "      <td>512 GB SSD</td>\n",
       "      <td>SSD</td>\n",
       "      <td>39.62</td>\n",
       "      <td>35940</td>\n",
       "      <td>5.0</td>\n",
       "    </tr>\n",
       "    <tr>\n",
       "      <th>73</th>\n",
       "      <td>ASUS</td>\n",
       "      <td>ASUS VivoBook K15 OLED (2021) Ryzen 5 Hexa Cor...</td>\n",
       "      <td>64 bit Windows 11 Operating System</td>\n",
       "      <td>Intel Core i3 Processor (10th Gen)</td>\n",
       "      <td>Intel</td>\n",
       "      <td>Core i3</td>\n",
       "      <td>1 Year Onsite Warranty</td>\n",
       "      <td>8</td>\n",
       "      <td>DDR4</td>\n",
       "      <td>1 TB HDD|256 GB SSD</td>\n",
       "      <td>both</td>\n",
       "      <td>39.62</td>\n",
       "      <td>30940</td>\n",
       "      <td>5.0</td>\n",
       "    </tr>\n",
       "    <tr>\n",
       "      <th>107</th>\n",
       "      <td>ASUS</td>\n",
       "      <td>ASUS ROG Strix Ryzen 7 Octa Core 4800H</td>\n",
       "      <td>64 bit Windows 10 Operating System</td>\n",
       "      <td>Intel Core i5 Processor (11th Gen)</td>\n",
       "      <td>Intel</td>\n",
       "      <td>Core i5</td>\n",
       "      <td>1 Year Onsite Warranty</td>\n",
       "      <td>8</td>\n",
       "      <td>DDR4</td>\n",
       "      <td>512 GB SSD</td>\n",
       "      <td>SSD</td>\n",
       "      <td>38.10</td>\n",
       "      <td>41200</td>\n",
       "      <td>5.0</td>\n",
       "    </tr>\n",
       "    <tr>\n",
       "      <th>113</th>\n",
       "      <td>HP</td>\n",
       "      <td>HP Ryzen 3 Quad Core 5300U</td>\n",
       "      <td>64 bit Windows 11 Operating System</td>\n",
       "      <td>Intel Core i5 Processor (11th Gen)</td>\n",
       "      <td>Intel</td>\n",
       "      <td>Core i5</td>\n",
       "      <td>1 Year Onsite Warranty</td>\n",
       "      <td>8</td>\n",
       "      <td>DDR4</td>\n",
       "      <td>512 GB SSD</td>\n",
       "      <td>SSD</td>\n",
       "      <td>35.56</td>\n",
       "      <td>49240</td>\n",
       "      <td>5.0</td>\n",
       "    </tr>\n",
       "    <tr>\n",
       "      <th>141</th>\n",
       "      <td>HP</td>\n",
       "      <td>HP Ryzen 3 Quad Core 5300U</td>\n",
       "      <td>64 bit Windows 11 Operating System</td>\n",
       "      <td>Intel Core i5 Processor (11th Gen)</td>\n",
       "      <td>Intel</td>\n",
       "      <td>Core i5</td>\n",
       "      <td>1 Year Onsite Warranty</td>\n",
       "      <td>8</td>\n",
       "      <td>DDR4</td>\n",
       "      <td>512 GB SSD</td>\n",
       "      <td>SSD</td>\n",
       "      <td>39.62</td>\n",
       "      <td>40940</td>\n",
       "      <td>5.0</td>\n",
       "    </tr>\n",
       "    <tr>\n",
       "      <th>150</th>\n",
       "      <td>DELL</td>\n",
       "      <td>DELL Inspiron Core i5 11th Gen</td>\n",
       "      <td>64 bit Windows 10 Operating System</td>\n",
       "      <td>Intel Core i3 Processor (10th Gen)</td>\n",
       "      <td>Intel</td>\n",
       "      <td>Core i3</td>\n",
       "      <td>1 Years Carry in Warranty</td>\n",
       "      <td>8</td>\n",
       "      <td>DDR4</td>\n",
       "      <td>512 GB SSD</td>\n",
       "      <td>SSD</td>\n",
       "      <td>39.62</td>\n",
       "      <td>39340</td>\n",
       "      <td>5.0</td>\n",
       "    </tr>\n",
       "    <tr>\n",
       "      <th>164</th>\n",
       "      <td>DELL</td>\n",
       "      <td>DELL Inspiron Ryzen 5 Quad Core 3450U</td>\n",
       "      <td>64 bit Windows 10 Operating System</td>\n",
       "      <td>AMD Ryzen 5 Hexa Core Processor</td>\n",
       "      <td>AMD</td>\n",
       "      <td>Ryzen 5 Hexa Core</td>\n",
       "      <td>1 Year Onsite Warranty</td>\n",
       "      <td>8</td>\n",
       "      <td>DDR4</td>\n",
       "      <td>512 GB SSD</td>\n",
       "      <td>SSD</td>\n",
       "      <td>39.62</td>\n",
       "      <td>48940</td>\n",
       "      <td>5.0</td>\n",
       "    </tr>\n",
       "    <tr>\n",
       "      <th>176</th>\n",
       "      <td>ASUS</td>\n",
       "      <td>ASUS VivoBook 14 Core i3 10th Gen</td>\n",
       "      <td>64 bit Windows 10 Operating System</td>\n",
       "      <td>Intel Core i3 Processor (10th Gen)</td>\n",
       "      <td>Intel</td>\n",
       "      <td>Core i3</td>\n",
       "      <td>1 Year Onsite Warranty</td>\n",
       "      <td>8</td>\n",
       "      <td>DDR4</td>\n",
       "      <td>256 GB SSD</td>\n",
       "      <td>SSD</td>\n",
       "      <td>35.56</td>\n",
       "      <td>49930</td>\n",
       "      <td>5.0</td>\n",
       "    </tr>\n",
       "    <tr>\n",
       "      <th>188</th>\n",
       "      <td>ASUS</td>\n",
       "      <td>ASUS VivoBook Flip 14 Core i3 11th Gen</td>\n",
       "      <td>64 bit Windows 11 Operating System</td>\n",
       "      <td>Intel Core i5 Processor (11th Gen)</td>\n",
       "      <td>Intel</td>\n",
       "      <td>Core i5</td>\n",
       "      <td>1 Year Onsite Warranty</td>\n",
       "      <td>8</td>\n",
       "      <td>LPDDR4X</td>\n",
       "      <td>256 GB SSD</td>\n",
       "      <td>SSD</td>\n",
       "      <td>39.62</td>\n",
       "      <td>36440</td>\n",
       "      <td>5.0</td>\n",
       "    </tr>\n",
       "    <tr>\n",
       "      <th>222</th>\n",
       "      <td>Lenovo</td>\n",
       "      <td>Lenovo Ideapad Flex 5 Core i3 11th Gen</td>\n",
       "      <td>64 bit Windows 11 Operating System</td>\n",
       "      <td>Intel Core i3 Processor (10th Gen)</td>\n",
       "      <td>Intel</td>\n",
       "      <td>Core i3</td>\n",
       "      <td>1 Year Warranty + 1 Year ADP + 1 Year Premium ...</td>\n",
       "      <td>8</td>\n",
       "      <td>DDR4</td>\n",
       "      <td>512 GB SSD</td>\n",
       "      <td>SSD</td>\n",
       "      <td>35.56</td>\n",
       "      <td>43076</td>\n",
       "      <td>5.0</td>\n",
       "    </tr>\n",
       "    <tr>\n",
       "      <th>264</th>\n",
       "      <td>HP</td>\n",
       "      <td>HP Envy 13 x360 Intel EVO Core i7 11th Gen</td>\n",
       "      <td>64 bit Windows 11 Operating System</td>\n",
       "      <td>Intel Core i5 Processor (10th Gen)</td>\n",
       "      <td>Intel</td>\n",
       "      <td>Core i5</td>\n",
       "      <td>1 year Onsite Warranty</td>\n",
       "      <td>16</td>\n",
       "      <td>DDR4</td>\n",
       "      <td>1 TB HDD</td>\n",
       "      <td>HDD</td>\n",
       "      <td>35.56</td>\n",
       "      <td>32940</td>\n",
       "      <td>5.0</td>\n",
       "    </tr>\n",
       "    <tr>\n",
       "      <th>296</th>\n",
       "      <td>ASUS</td>\n",
       "      <td>ASUS Chromebook Flip Celeron Dual Core</td>\n",
       "      <td>Chrome Operating System</td>\n",
       "      <td>Intel Celeron Dual Core Processor</td>\n",
       "      <td>Intel</td>\n",
       "      <td>Celeron Dual Core</td>\n",
       "      <td>1 Year Onsite Warranty</td>\n",
       "      <td>4</td>\n",
       "      <td>LPDDR4</td>\n",
       "      <td>512 GB SSD</td>\n",
       "      <td>SSD</td>\n",
       "      <td>39.62</td>\n",
       "      <td>22940</td>\n",
       "      <td>5.0</td>\n",
       "    </tr>\n",
       "    <tr>\n",
       "      <th>325</th>\n",
       "      <td>ASUS</td>\n",
       "      <td>ASUS Vivobook 14 Pentium Quad Core</td>\n",
       "      <td>64 bit Windows 11 Operating System</td>\n",
       "      <td>AMD Ryzen 5 Hexa Core Processor</td>\n",
       "      <td>AMD</td>\n",
       "      <td>Ryzen 5 Hexa Core</td>\n",
       "      <td>1 year Onsite Warranty</td>\n",
       "      <td>8</td>\n",
       "      <td>DDR4</td>\n",
       "      <td>1 TB HDD</td>\n",
       "      <td>HDD</td>\n",
       "      <td>39.62</td>\n",
       "      <td>44940</td>\n",
       "      <td>5.0</td>\n",
       "    </tr>\n",
       "    <tr>\n",
       "      <th>331</th>\n",
       "      <td>DELL</td>\n",
       "      <td>DELL Inspiron Core i7 11th Gen</td>\n",
       "      <td>64 bit Windows 11 Operating System</td>\n",
       "      <td>Intel Core i3 Processor (11th Gen)</td>\n",
       "      <td>Intel</td>\n",
       "      <td>Core i3</td>\n",
       "      <td>1 Year Onsite Warranty</td>\n",
       "      <td>16</td>\n",
       "      <td>DDR4</td>\n",
       "      <td>512 GB SSD</td>\n",
       "      <td>SSD</td>\n",
       "      <td>39.62</td>\n",
       "      <td>37940</td>\n",
       "      <td>5.0</td>\n",
       "    </tr>\n",
       "    <tr>\n",
       "      <th>332</th>\n",
       "      <td>Lenovo</td>\n",
       "      <td>Lenovo ThinkBook 13s Core i5 11th Gen</td>\n",
       "      <td>64 bit Windows 10 Operating System</td>\n",
       "      <td>Intel Core i5 Processor (10th Gen)</td>\n",
       "      <td>Intel</td>\n",
       "      <td>Core i5</td>\n",
       "      <td>3 Year Warranty Term</td>\n",
       "      <td>16</td>\n",
       "      <td>DDR4</td>\n",
       "      <td>1 TB HDD|256 GB SSD</td>\n",
       "      <td>both</td>\n",
       "      <td>39.62</td>\n",
       "      <td>44850</td>\n",
       "      <td>5.0</td>\n",
       "    </tr>\n",
       "    <tr>\n",
       "      <th>405</th>\n",
       "      <td>DELL</td>\n",
       "      <td>DELL XPS 13 Core i7 8th Gen</td>\n",
       "      <td>64 bit Windows 10 Operating System</td>\n",
       "      <td>AMD Ryzen 5 Hexa Core Processor</td>\n",
       "      <td>AMD</td>\n",
       "      <td>Ryzen 5 Hexa Core</td>\n",
       "      <td>1 Year Onsite Warranty</td>\n",
       "      <td>16</td>\n",
       "      <td>DDR3</td>\n",
       "      <td>512 GB SSD</td>\n",
       "      <td>SSD</td>\n",
       "      <td>15.60</td>\n",
       "      <td>38440</td>\n",
       "      <td>5.0</td>\n",
       "    </tr>\n",
       "    <tr>\n",
       "      <th>426</th>\n",
       "      <td>HP</td>\n",
       "      <td>HP Core i3 11th Gen</td>\n",
       "      <td>Windows 11 Operating System</td>\n",
       "      <td>Intel Core i7 Processor (11th Gen)</td>\n",
       "      <td>Intel</td>\n",
       "      <td>Core i7</td>\n",
       "      <td>1 Year Onsite Warranty</td>\n",
       "      <td>8</td>\n",
       "      <td>DDR4</td>\n",
       "      <td>1 TB HDD</td>\n",
       "      <td>HDD</td>\n",
       "      <td>35.56</td>\n",
       "      <td>35940</td>\n",
       "      <td>5.0</td>\n",
       "    </tr>\n",
       "    <tr>\n",
       "      <th>457</th>\n",
       "      <td>Lenovo</td>\n",
       "      <td>Lenovo IdeaPad 3 Core i3 11th Gen</td>\n",
       "      <td>64 bit Windows 10 Operating System</td>\n",
       "      <td>Intel Core i7 Processor (11th Gen)</td>\n",
       "      <td>Intel</td>\n",
       "      <td>Core i7</td>\n",
       "      <td>1 Year Limited Hardware Warranty, In Home Serv...</td>\n",
       "      <td>8</td>\n",
       "      <td>DDR4</td>\n",
       "      <td>512 GB SSD</td>\n",
       "      <td>SSD</td>\n",
       "      <td>35.56</td>\n",
       "      <td>48940</td>\n",
       "      <td>5.0</td>\n",
       "    </tr>\n",
       "    <tr>\n",
       "      <th>469</th>\n",
       "      <td>acer</td>\n",
       "      <td>acer Aspire 3 Ryzen 5 Quad Core 3500U</td>\n",
       "      <td>Pre-installed Genuine Windows 10 Operating Sys...</td>\n",
       "      <td>Intel Core i5 Processor (11th Gen)</td>\n",
       "      <td>Intel</td>\n",
       "      <td>Core i5</td>\n",
       "      <td>1 Year Onsite Warranty</td>\n",
       "      <td>8</td>\n",
       "      <td>DDR4</td>\n",
       "      <td>1 TB SSD</td>\n",
       "      <td>SSD</td>\n",
       "      <td>35.56</td>\n",
       "      <td>36940</td>\n",
       "      <td>5.0</td>\n",
       "    </tr>\n",
       "    <tr>\n",
       "      <th>521</th>\n",
       "      <td>DELL</td>\n",
       "      <td>DELL Inspiron Core i7 11th Gen</td>\n",
       "      <td>64 bit Windows 10 Operating System</td>\n",
       "      <td>Intel Core i7 Processor (11th Gen)</td>\n",
       "      <td>Intel</td>\n",
       "      <td>Core i7</td>\n",
       "      <td>1 Year Onsite Warranty</td>\n",
       "      <td>16</td>\n",
       "      <td>DDR4</td>\n",
       "      <td>256 GB SSD</td>\n",
       "      <td>SSD</td>\n",
       "      <td>35.56</td>\n",
       "      <td>38949</td>\n",
       "      <td>5.0</td>\n",
       "    </tr>\n",
       "    <tr>\n",
       "      <th>556</th>\n",
       "      <td>Lenovo</td>\n",
       "      <td>Lenovo Ideapad Slim 5 Ryzen 7 Octa Core 5700U</td>\n",
       "      <td>64 bit Windows 10 Operating System</td>\n",
       "      <td>Intel Core i3 Processor (11th Gen)</td>\n",
       "      <td>Intel</td>\n",
       "      <td>Core i3</td>\n",
       "      <td>1 Year Onsite Warranty</td>\n",
       "      <td>8</td>\n",
       "      <td>DDR4</td>\n",
       "      <td>512 GB SSD</td>\n",
       "      <td>SSD</td>\n",
       "      <td>39.62</td>\n",
       "      <td>41740</td>\n",
       "      <td>5.0</td>\n",
       "    </tr>\n",
       "    <tr>\n",
       "      <th>563</th>\n",
       "      <td>DELL</td>\n",
       "      <td>DELL Inspiron Core i5 11th Gen</td>\n",
       "      <td>64 bit Windows 10 Operating System</td>\n",
       "      <td>AMD Ryzen 5 Hexa Core Processor</td>\n",
       "      <td>AMD</td>\n",
       "      <td>Ryzen 5 Hexa Core</td>\n",
       "      <td>1 Year Onsite Warranty</td>\n",
       "      <td>8</td>\n",
       "      <td>DDR4</td>\n",
       "      <td>256 GB SSD</td>\n",
       "      <td>SSD</td>\n",
       "      <td>39.62</td>\n",
       "      <td>21440</td>\n",
       "      <td>5.0</td>\n",
       "    </tr>\n",
       "    <tr>\n",
       "      <th>569</th>\n",
       "      <td>HP</td>\n",
       "      <td>HP Pavilion Gaming Core i7 11th Gen</td>\n",
       "      <td>64 bit Windows 11 Operating System</td>\n",
       "      <td>Intel Core i5 Processor (10th Gen)</td>\n",
       "      <td>Intel</td>\n",
       "      <td>Core i5</td>\n",
       "      <td>3 Year Premier Support Warranty</td>\n",
       "      <td>16</td>\n",
       "      <td>DDR4</td>\n",
       "      <td>512 GB SSD</td>\n",
       "      <td>SSD</td>\n",
       "      <td>35.56</td>\n",
       "      <td>18940</td>\n",
       "      <td>5.0</td>\n",
       "    </tr>\n",
       "    <tr>\n",
       "      <th>589</th>\n",
       "      <td>DELL</td>\n",
       "      <td>DELL Inspiron 7000 Core i5 10th Gen</td>\n",
       "      <td>64 bit Windows 10 Operating System</td>\n",
       "      <td>Intel Core i5 Processor (11th Gen)</td>\n",
       "      <td>Intel</td>\n",
       "      <td>Core i5</td>\n",
       "      <td>1 Year Onsite Warranty</td>\n",
       "      <td>8</td>\n",
       "      <td>DDR4</td>\n",
       "      <td>1 TB HDD</td>\n",
       "      <td>HDD</td>\n",
       "      <td>39.62</td>\n",
       "      <td>46940</td>\n",
       "      <td>5.0</td>\n",
       "    </tr>\n",
       "    <tr>\n",
       "      <th>620</th>\n",
       "      <td>ASUS</td>\n",
       "      <td>ASUS VivoBook 14 Core i5 8th Gen</td>\n",
       "      <td>64 bit Windows 11 Operating System</td>\n",
       "      <td>AMD Ryzen 5 Hexa Core Processor</td>\n",
       "      <td>AMD</td>\n",
       "      <td>Ryzen 5 Hexa Core</td>\n",
       "      <td>1 Year Onsite Warranty</td>\n",
       "      <td>8</td>\n",
       "      <td>DDR4</td>\n",
       "      <td>512 GB SSD</td>\n",
       "      <td>SSD</td>\n",
       "      <td>39.62</td>\n",
       "      <td>43640</td>\n",
       "      <td>5.0</td>\n",
       "    </tr>\n",
       "    <tr>\n",
       "      <th>645</th>\n",
       "      <td>acer</td>\n",
       "      <td>acer Aspire 5 Core i5 11th Gen</td>\n",
       "      <td>64 bit Windows 10 Operating System</td>\n",
       "      <td>Intel Core i7 Processor (6th Gen)</td>\n",
       "      <td>Intel</td>\n",
       "      <td>Core i7</td>\n",
       "      <td>3 Year onsite Warranty ( 1st year Internationa...</td>\n",
       "      <td>8</td>\n",
       "      <td>DDR4</td>\n",
       "      <td>512 GB SSD</td>\n",
       "      <td>SSD</td>\n",
       "      <td>35.56</td>\n",
       "      <td>48940</td>\n",
       "      <td>5.0</td>\n",
       "    </tr>\n",
       "    <tr>\n",
       "      <th>686</th>\n",
       "      <td>Lenovo</td>\n",
       "      <td>Lenovo IdeaPad Gaming 3 Core i5 10th Gen</td>\n",
       "      <td>Windows 11 Operating System</td>\n",
       "      <td>Intel Core i3 Processor (11th Gen)</td>\n",
       "      <td>Intel</td>\n",
       "      <td>Core i3</td>\n",
       "      <td>1 Year Manufacturer Warranty on the Device and...</td>\n",
       "      <td>8</td>\n",
       "      <td>DDR4</td>\n",
       "      <td>1 TB HDD|256 GB SSD</td>\n",
       "      <td>both</td>\n",
       "      <td>35.56</td>\n",
       "      <td>41940</td>\n",
       "      <td>5.0</td>\n",
       "    </tr>\n",
       "  </tbody>\n",
       "</table>\n",
       "</div>"
      ],
      "text/plain": [
       "      Brand                                               Name  \\\n",
       "15     DELL                      DELL Vostro Core i3 10th Gen    \n",
       "25       HP                               HP Core i3 11th Gen    \n",
       "29     ASUS          ASUS VivoBook 15 (2021) Core i3 11th Gen    \n",
       "34     DELL                    DELL Inspiron Core i5 11th Gen    \n",
       "65       HP                        HP Ryzen 5 Hexa Core 5500U    \n",
       "67   Lenovo    Lenovo Ideapad Slim 3i (2021) Core i5 11th Gen    \n",
       "73     ASUS  ASUS VivoBook K15 OLED (2021) Ryzen 5 Hexa Cor...   \n",
       "107    ASUS            ASUS ROG Strix Ryzen 7 Octa Core 4800H    \n",
       "113      HP                        HP Ryzen 3 Quad Core 5300U    \n",
       "141      HP                        HP Ryzen 3 Quad Core 5300U    \n",
       "150    DELL                    DELL Inspiron Core i5 11th Gen    \n",
       "164    DELL             DELL Inspiron Ryzen 5 Quad Core 3450U    \n",
       "176    ASUS                 ASUS VivoBook 14 Core i3 10th Gen    \n",
       "188    ASUS            ASUS VivoBook Flip 14 Core i3 11th Gen    \n",
       "222  Lenovo            Lenovo Ideapad Flex 5 Core i3 11th Gen    \n",
       "264      HP        HP Envy 13 x360 Intel EVO Core i7 11th Gen    \n",
       "296    ASUS            ASUS Chromebook Flip Celeron Dual Core    \n",
       "325    ASUS                ASUS Vivobook 14 Pentium Quad Core    \n",
       "331    DELL                    DELL Inspiron Core i7 11th Gen    \n",
       "332  Lenovo             Lenovo ThinkBook 13s Core i5 11th Gen    \n",
       "405    DELL                       DELL XPS 13 Core i7 8th Gen    \n",
       "426      HP                               HP Core i3 11th Gen    \n",
       "457  Lenovo                 Lenovo IdeaPad 3 Core i3 11th Gen    \n",
       "469    acer             acer Aspire 3 Ryzen 5 Quad Core 3500U    \n",
       "521    DELL                    DELL Inspiron Core i7 11th Gen    \n",
       "556  Lenovo     Lenovo Ideapad Slim 5 Ryzen 7 Octa Core 5700U    \n",
       "563    DELL                    DELL Inspiron Core i5 11th Gen    \n",
       "569      HP               HP Pavilion Gaming Core i7 11th Gen    \n",
       "589    DELL               DELL Inspiron 7000 Core i5 10th Gen    \n",
       "620    ASUS                  ASUS VivoBook 14 Core i5 8th Gen    \n",
       "645    acer                    acer Aspire 5 Core i5 11th Gen    \n",
       "686  Lenovo          Lenovo IdeaPad Gaming 3 Core i5 10th Gen    \n",
       "\n",
       "                                      Operating System  \\\n",
       "15                  64 bit Windows 11 Operating System   \n",
       "25                  64 bit Windows 11 Operating System   \n",
       "29                         Windows 10 Operating System   \n",
       "34                  64 bit Windows 11 Operating System   \n",
       "65                  64 bit Windows 11 Operating System   \n",
       "67                  64 bit Windows 10 Operating System   \n",
       "73                  64 bit Windows 11 Operating System   \n",
       "107                 64 bit Windows 10 Operating System   \n",
       "113                 64 bit Windows 11 Operating System   \n",
       "141                 64 bit Windows 11 Operating System   \n",
       "150                 64 bit Windows 10 Operating System   \n",
       "164                 64 bit Windows 10 Operating System   \n",
       "176                 64 bit Windows 10 Operating System   \n",
       "188                 64 bit Windows 11 Operating System   \n",
       "222                 64 bit Windows 11 Operating System   \n",
       "264                 64 bit Windows 11 Operating System   \n",
       "296                            Chrome Operating System   \n",
       "325                 64 bit Windows 11 Operating System   \n",
       "331                 64 bit Windows 11 Operating System   \n",
       "332                 64 bit Windows 10 Operating System   \n",
       "405                 64 bit Windows 10 Operating System   \n",
       "426                        Windows 11 Operating System   \n",
       "457                 64 bit Windows 10 Operating System   \n",
       "469  Pre-installed Genuine Windows 10 Operating Sys...   \n",
       "521                 64 bit Windows 10 Operating System   \n",
       "556                 64 bit Windows 10 Operating System   \n",
       "563                 64 bit Windows 10 Operating System   \n",
       "569                 64 bit Windows 11 Operating System   \n",
       "589                 64 bit Windows 10 Operating System   \n",
       "620                 64 bit Windows 11 Operating System   \n",
       "645                 64 bit Windows 10 Operating System   \n",
       "686                        Windows 11 Operating System   \n",
       "\n",
       "                              Processor Processor_brand     Processor_type  \\\n",
       "15   Intel Core i3 Processor (10th Gen)           Intel           Core i3    \n",
       "25   Intel Core i3 Processor (11th Gen)           Intel           Core i3    \n",
       "29   Intel Core i3 Processor (11th Gen)           Intel           Core i3    \n",
       "34   Intel Core i5 Processor (11th Gen)           Intel           Core i5    \n",
       "65      AMD Ryzen 3 Dual Core Processor             AMD  Ryzen 3 Dual Core   \n",
       "67   Intel Core i3 Processor (10th Gen)           Intel           Core i3    \n",
       "73   Intel Core i3 Processor (10th Gen)           Intel           Core i3    \n",
       "107  Intel Core i5 Processor (11th Gen)           Intel           Core i5    \n",
       "113  Intel Core i5 Processor (11th Gen)           Intel           Core i5    \n",
       "141  Intel Core i5 Processor (11th Gen)           Intel           Core i5    \n",
       "150  Intel Core i3 Processor (10th Gen)           Intel           Core i3    \n",
       "164     AMD Ryzen 5 Hexa Core Processor             AMD  Ryzen 5 Hexa Core   \n",
       "176  Intel Core i3 Processor (10th Gen)           Intel           Core i3    \n",
       "188  Intel Core i5 Processor (11th Gen)           Intel           Core i5    \n",
       "222  Intel Core i3 Processor (10th Gen)           Intel           Core i3    \n",
       "264  Intel Core i5 Processor (10th Gen)           Intel           Core i5    \n",
       "296   Intel Celeron Dual Core Processor           Intel  Celeron Dual Core   \n",
       "325     AMD Ryzen 5 Hexa Core Processor             AMD  Ryzen 5 Hexa Core   \n",
       "331  Intel Core i3 Processor (11th Gen)           Intel           Core i3    \n",
       "332  Intel Core i5 Processor (10th Gen)           Intel           Core i5    \n",
       "405     AMD Ryzen 5 Hexa Core Processor             AMD  Ryzen 5 Hexa Core   \n",
       "426  Intel Core i7 Processor (11th Gen)           Intel           Core i7    \n",
       "457  Intel Core i7 Processor (11th Gen)           Intel           Core i7    \n",
       "469  Intel Core i5 Processor (11th Gen)           Intel           Core i5    \n",
       "521  Intel Core i7 Processor (11th Gen)           Intel           Core i7    \n",
       "556  Intel Core i3 Processor (11th Gen)           Intel           Core i3    \n",
       "563     AMD Ryzen 5 Hexa Core Processor             AMD  Ryzen 5 Hexa Core   \n",
       "569  Intel Core i5 Processor (10th Gen)           Intel           Core i5    \n",
       "589  Intel Core i5 Processor (11th Gen)           Intel           Core i5    \n",
       "620     AMD Ryzen 5 Hexa Core Processor             AMD  Ryzen 5 Hexa Core   \n",
       "645   Intel Core i7 Processor (6th Gen)           Intel           Core i7    \n",
       "686  Intel Core i3 Processor (11th Gen)           Intel           Core i3    \n",
       "\n",
       "                                              Warranty  RAM_GB RAM_type  \\\n",
       "15                              1 Year Onsite Warranty       8     DDR4   \n",
       "25                              1 Year Onsite Warranty       8     DDR4   \n",
       "29                            1 Year Carry-In Warranty       4     DDR4   \n",
       "34                              1 Year Onsite Warranty       8     DDR4   \n",
       "65                           1 Years Carry in Warranty       8     DDR4   \n",
       "67                              1 Year Onsite Warranty       8     DDR4   \n",
       "73                              1 Year Onsite Warranty       8     DDR4   \n",
       "107                             1 Year Onsite Warranty       8     DDR4   \n",
       "113                             1 Year Onsite Warranty       8     DDR4   \n",
       "141                             1 Year Onsite Warranty       8     DDR4   \n",
       "150                          1 Years Carry in Warranty       8     DDR4   \n",
       "164                             1 Year Onsite Warranty       8     DDR4   \n",
       "176                             1 Year Onsite Warranty       8     DDR4   \n",
       "188                             1 Year Onsite Warranty       8  LPDDR4X   \n",
       "222  1 Year Warranty + 1 Year ADP + 1 Year Premium ...       8     DDR4   \n",
       "264                             1 year Onsite Warranty      16     DDR4   \n",
       "296                             1 Year Onsite Warranty       4   LPDDR4   \n",
       "325                             1 year Onsite Warranty       8     DDR4   \n",
       "331                             1 Year Onsite Warranty      16     DDR4   \n",
       "332                               3 Year Warranty Term      16     DDR4   \n",
       "405                             1 Year Onsite Warranty      16     DDR3   \n",
       "426                             1 Year Onsite Warranty       8     DDR4   \n",
       "457  1 Year Limited Hardware Warranty, In Home Serv...       8     DDR4   \n",
       "469                             1 Year Onsite Warranty       8     DDR4   \n",
       "521                             1 Year Onsite Warranty      16     DDR4   \n",
       "556                             1 Year Onsite Warranty       8     DDR4   \n",
       "563                             1 Year Onsite Warranty       8     DDR4   \n",
       "569                    3 Year Premier Support Warranty      16     DDR4   \n",
       "589                             1 Year Onsite Warranty       8     DDR4   \n",
       "620                             1 Year Onsite Warranty       8     DDR4   \n",
       "645  3 Year onsite Warranty ( 1st year Internationa...       8     DDR4   \n",
       "686  1 Year Manufacturer Warranty on the Device and...       8     DDR4   \n",
       "\n",
       "                     ROM ROM_type  Display_cm  Price  Rating  \n",
       "15   1 TB HDD|256 GB SSD     both       39.62  42240     5.0  \n",
       "25            512 GB SSD      SSD       39.62  47940     5.0  \n",
       "29            256 GB SSD      SSD       39.62  47940     5.0  \n",
       "34   1 TB HDD|256 GB SSD     both       35.56  47940     5.0  \n",
       "65            512 GB SSD      SSD       39.62  38940     5.0  \n",
       "67            512 GB SSD      SSD       39.62  35940     5.0  \n",
       "73   1 TB HDD|256 GB SSD     both       39.62  30940     5.0  \n",
       "107           512 GB SSD      SSD       38.10  41200     5.0  \n",
       "113           512 GB SSD      SSD       35.56  49240     5.0  \n",
       "141           512 GB SSD      SSD       39.62  40940     5.0  \n",
       "150           512 GB SSD      SSD       39.62  39340     5.0  \n",
       "164           512 GB SSD      SSD       39.62  48940     5.0  \n",
       "176           256 GB SSD      SSD       35.56  49930     5.0  \n",
       "188           256 GB SSD      SSD       39.62  36440     5.0  \n",
       "222           512 GB SSD      SSD       35.56  43076     5.0  \n",
       "264             1 TB HDD      HDD       35.56  32940     5.0  \n",
       "296           512 GB SSD      SSD       39.62  22940     5.0  \n",
       "325             1 TB HDD      HDD       39.62  44940     5.0  \n",
       "331           512 GB SSD      SSD       39.62  37940     5.0  \n",
       "332  1 TB HDD|256 GB SSD     both       39.62  44850     5.0  \n",
       "405           512 GB SSD      SSD       15.60  38440     5.0  \n",
       "426             1 TB HDD      HDD       35.56  35940     5.0  \n",
       "457           512 GB SSD      SSD       35.56  48940     5.0  \n",
       "469             1 TB SSD      SSD       35.56  36940     5.0  \n",
       "521           256 GB SSD      SSD       35.56  38949     5.0  \n",
       "556           512 GB SSD      SSD       39.62  41740     5.0  \n",
       "563           256 GB SSD      SSD       39.62  21440     5.0  \n",
       "569           512 GB SSD      SSD       35.56  18940     5.0  \n",
       "589             1 TB HDD      HDD       39.62  46940     5.0  \n",
       "620           512 GB SSD      SSD       39.62  43640     5.0  \n",
       "645           512 GB SSD      SSD       35.56  48940     5.0  \n",
       "686  1 TB HDD|256 GB SSD     both       35.56  41940     5.0  "
      ]
     },
     "execution_count": 193,
     "metadata": {},
     "output_type": "execute_result"
    }
   ],
   "source": [
    "cst"
   ]
  },
  {
   "cell_type": "code",
   "execution_count": 105,
   "id": "6fd26c44",
   "metadata": {},
   "outputs": [
    {
     "data": {
      "image/png": "[encoded data removed]",
      "text/plain": [
       "<Figure size 1080x648 with 1 Axes>"
      ]
     },
     "metadata": {
      "needs_background": "light"
     },
     "output_type": "display_data"
    }
   ],
   "source": [
    "size = (15, 9)\n",
    "fig, ax = plt.subplots(figsize=size)\n",
    "plt.title('Laptops with Price < 50,000 and Rating = 5.0')\n",
    "sns.scatterplot(data=cst,x=cst['Price'], y=cst['Rating'],hue = 'Brand',estimator=np.max)\n",
    "plt.show()"
   ]
  },
  {
   "cell_type": "markdown",
   "id": "e4902390",
   "metadata": {},
   "source": [
    "### Observations:\n",
    "1. Total number of laptops available within the range are 32   \n",
    "2. Dell, Asus, HP, Lenovo and Acer brands fall within this range\n",
    "3. In which Dell has high no. of laptops, i.e, 9 and Acer has less no.of laptops, only 2 \n",
    "4. HP laptop has 1 laptop which is less than 20,000\n",
    "5. DELL and Asus have 2 laptops whose price is between 20,000 to 25,000"
   ]
  },
  {
   "cell_type": "markdown",
   "id": "acea4199",
   "metadata": {},
   "source": [
    "## Line plot"
   ]
  },
  {
   "cell_type": "markdown",
   "id": "eeec9c11",
   "metadata": {},
   "source": [
    "#### Laptops under 50,000"
   ]
  },
  {
   "cell_type": "code",
   "execution_count": 113,
   "id": "25ac9606",
   "metadata": {},
   "outputs": [],
   "source": [
    "cst1 = laptops_data[(laptops_data['Price']>=0) & (laptops_data['Price']<=50000)]"
   ]
  },
  {
   "cell_type": "code",
   "execution_count": 114,
   "id": "1c38cfc3",
   "metadata": {},
   "outputs": [
    {
     "data": {
      "image/png": "[encoded data removed]",
      "text/plain": [
       "<Figure size 1080x504 with 1 Axes>"
      ]
     },
     "metadata": {
      "needs_background": "light"
     },
     "output_type": "display_data"
    }
   ],
   "source": [
    "plt.figure(figsize = (15,7))\n",
    "plt.title('Laptops under INR 50,000')\n",
    "sns.lineplot(x = cst1['Brand'], y =cst1['Price'])\n",
    "plt.show()"
   ]
  },
  {
   "cell_type": "markdown",
   "id": "f18c7464",
   "metadata": {},
   "source": [
    "### Observation:\n",
    "1. Alienware, Mi and Infinix laptops have high price compared to others\n",
    "2. Between the price range of 34,000 to 38,000 there no laptops.\n",
    "3. HP, Asus, Lenovo, Dell, Acer, Apple, MSI, Realme, Infinix, MI, Nokia, Samsung, Alienware, LG, Avita brand fall under this range."
   ]
  },
  {
   "cell_type": "markdown",
   "id": "c8ceff9a",
   "metadata": {},
   "source": [
    "## pairplot"
   ]
  },
  {
   "cell_type": "code",
   "execution_count": 115,
   "id": "6d9f282a",
   "metadata": {},
   "outputs": [
    {
     "data": {
      "image/png": "[encoded data removed]",
      "text/plain": [
       "<Figure size 814.625x720 with 20 Axes>"
      ]
     },
     "metadata": {
      "needs_background": "light"
     },
     "output_type": "display_data"
    }
   ],
   "source": [
    "sns.pairplot(laptops_data, hue = 'Brand')\n",
    "plt.show()"
   ]
  },
  {
   "cell_type": "markdown",
   "id": "7cb9dcfb",
   "metadata": {},
   "source": [
    "## Heat Map"
   ]
  },
  {
   "cell_type": "code",
   "execution_count": 116,
   "id": "83ec564c",
   "metadata": {},
   "outputs": [
    {
     "data": {
      "image/png": "[encoded data removed]",
      "text/plain": [
       "<Figure size 432x288 with 2 Axes>"
      ]
     },
     "metadata": {
      "needs_background": "light"
     },
     "output_type": "display_data"
    }
   ],
   "source": [
    "df_corr = laptops_data.corr()\n",
    "sns.heatmap(df_corr,annot = True)\n",
    "plt.show()"
   ]
  },
  {
   "cell_type": "markdown",
   "id": "c609bb3d",
   "metadata": {},
   "source": [
    "## What is the average selling price of Apple and Dell brands"
   ]
  },
  {
   "cell_type": "code",
   "execution_count": 190,
   "id": "984b4ef8",
   "metadata": {},
   "outputs": [],
   "source": [
    "avg = laptops_data.groupby('Brand')['Price'].mean()"
   ]
  },
  {
   "cell_type": "code",
   "execution_count": 191,
   "id": "5cc4f902",
   "metadata": {},
   "outputs": [
    {
     "data": {
      "text/plain": [
       "Brand\n",
       "ALIENWARE     91091.750000\n",
       "APPLE         99363.384615\n",
       "ASUS          75190.292818\n",
       "Avita         76669.750000\n",
       "DELL          77389.000000\n",
       "HP            66574.227848\n",
       "Infinix      102511.428571\n",
       "LG            58942.500000\n",
       "Lenovo        79805.474138\n",
       "MICROSOFT     78394.500000\n",
       "MSI           77289.375000\n",
       "Mi            54940.000000\n",
       "Nokia         58606.666667\n",
       "RedmiBook     91606.666667\n",
       "SAMSUNG       44040.000000\n",
       "Smartron     114940.000000\n",
       "Vaio          74940.000000\n",
       "acer          74910.358974\n",
       "realme        75276.333333\n",
       "Name: Price, dtype: float64"
      ]
     },
     "execution_count": 191,
     "metadata": {},
     "output_type": "execute_result"
    }
   ],
   "source": [
    "avg"
   ]
  },
  {
   "cell_type": "markdown",
   "id": "470d8cf2",
   "metadata": {},
   "source": [
    "### Observations:\n",
    "1. Avergae selling Price of Apple is 99363.384615\n",
    "2. Average selling Price of Dell is 77389.000000"
   ]
  },
  {
   "cell_type": "markdown",
   "id": "2b8f141c",
   "metadata": {},
   "source": [
    "## Find the top 15 sold model and which is the highest and lowest sold model with its count"
   ]
  },
  {
   "cell_type": "code",
   "execution_count": 240,
   "id": "d54bd5d6",
   "metadata": {},
   "outputs": [
    {
     "data": {
      "text/plain": [
       "HP Pavilion Ryzen 5 Hexa Core 5500U       32\n",
       "HP Pavilion Ryzen 5 Hexa Core 5600H       29\n",
       "DELL Inspiron Core i5 11th Gen            23\n",
       "HP Core i3 11th Gen                       15\n",
       "DELL Inspiron Core i3 11th Gen            11\n",
       "DELL Vostro Core i3 10th Gen               8\n",
       "DELL Vostro Core i5 11th Gen               7\n",
       "DELL Core i5 11th Gen                      7\n",
       "acer Aspire 5 Core i5 11th Gen             7\n",
       "Lenovo Core i3 10th Gen                    7\n",
       "APPLE 2021 Macbook Pro M1 Pro              6\n",
       "DELL Inspiron Ryzen 3 Dual Core 3250U      6\n",
       "Lenovo IdeaPad 3 Core i3 10th Gen          6\n",
       "HP Pavilion Core i5 11th Gen               6\n",
       "DELL Inspiron Core i3 10th Gen             5\n",
       "Name: Name, dtype: int64"
      ]
     },
     "execution_count": 240,
     "metadata": {},
     "output_type": "execute_result"
    }
   ],
   "source": [
    "top_model = laptops_data.Name.value_counts().head(15)\n",
    "top_model"
   ]
  },
  {
   "cell_type": "markdown",
   "id": "088d6014",
   "metadata": {},
   "source": [
    "## Observations:\n",
    "1. The highest sold Model is 'HP Pavilion Ryzen 5 Hexa Core 5500U' : 32\n",
    "2. The lowest sold model is 'DELL Inspiron Core i3 10th Gen'  : 5"
   ]
  },
  {
   "cell_type": "markdown",
   "id": "1b3f9c91",
   "metadata": {},
   "source": [
    "## What is the cheapest and costliest product sold"
   ]
  },
  {
   "cell_type": "code",
   "execution_count": 220,
   "id": "e9079af5",
   "metadata": {},
   "outputs": [
    {
     "data": {
      "text/html": [
       "<div>\n",
       "<style scoped>\n",
       "    .dataframe tbody tr th:only-of-type {\n",
       "        vertical-align: middle;\n",
       "    }\n",
       "\n",
       "    .dataframe tbody tr th {\n",
       "        vertical-align: top;\n",
       "    }\n",
       "\n",
       "    .dataframe thead th {\n",
       "        text-align: right;\n",
       "    }\n",
       "</style>\n",
       "<table border=\"1\" class=\"dataframe\">\n",
       "  <thead>\n",
       "    <tr style=\"text-align: right;\">\n",
       "      <th></th>\n",
       "      <th>Brand</th>\n",
       "      <th>Name</th>\n",
       "      <th>Operating System</th>\n",
       "      <th>Processor</th>\n",
       "      <th>Processor_brand</th>\n",
       "      <th>Processor_type</th>\n",
       "      <th>Warranty</th>\n",
       "      <th>RAM_GB</th>\n",
       "      <th>RAM_type</th>\n",
       "      <th>ROM</th>\n",
       "      <th>ROM_type</th>\n",
       "      <th>Display_cm</th>\n",
       "      <th>Price</th>\n",
       "      <th>Rating</th>\n",
       "    </tr>\n",
       "  </thead>\n",
       "  <tbody>\n",
       "    <tr>\n",
       "      <th>569</th>\n",
       "      <td>HP</td>\n",
       "      <td>HP Pavilion Gaming Core i7 11th Gen</td>\n",
       "      <td>64 bit Windows 11 Operating System</td>\n",
       "      <td>Intel Core i5 Processor (10th Gen)</td>\n",
       "      <td>Intel</td>\n",
       "      <td>Core i5</td>\n",
       "      <td>3 Year Premier Support Warranty</td>\n",
       "      <td>16</td>\n",
       "      <td>DDR4</td>\n",
       "      <td>512 GB SSD</td>\n",
       "      <td>SSD</td>\n",
       "      <td>35.56</td>\n",
       "      <td>18940</td>\n",
       "      <td>5.0</td>\n",
       "    </tr>\n",
       "  </tbody>\n",
       "</table>\n",
       "</div>"
      ],
      "text/plain": [
       "    Brand                                  Name  \\\n",
       "569    HP  HP Pavilion Gaming Core i7 11th Gen    \n",
       "\n",
       "                       Operating System                           Processor  \\\n",
       "569  64 bit Windows 11 Operating System  Intel Core i5 Processor (10th Gen)   \n",
       "\n",
       "    Processor_brand Processor_type                         Warranty  RAM_GB  \\\n",
       "569           Intel       Core i5   3 Year Premier Support Warranty      16   \n",
       "\n",
       "    RAM_type         ROM ROM_type  Display_cm  Price  Rating  \n",
       "569     DDR4  512 GB SSD      SSD       35.56  18940     5.0  "
      ]
     },
     "execution_count": 220,
     "metadata": {},
     "output_type": "execute_result"
    }
   ],
   "source": [
    "laptops_data[laptops_data['Price'] == laptops_data['Price'].min()]"
   ]
  },
  {
   "cell_type": "markdown",
   "id": "ba32c80b",
   "metadata": {},
   "source": [
    "### Observation:\n",
    "'HP Pavilion Gaming Core i7 11th Gen' is the cheapest product sold"
   ]
  },
  {
   "cell_type": "code",
   "execution_count": 222,
   "id": "cf93ebbb",
   "metadata": {},
   "outputs": [
    {
     "data": {
      "text/html": [
       "<div>\n",
       "<style scoped>\n",
       "    .dataframe tbody tr th:only-of-type {\n",
       "        vertical-align: middle;\n",
       "    }\n",
       "\n",
       "    .dataframe tbody tr th {\n",
       "        vertical-align: top;\n",
       "    }\n",
       "\n",
       "    .dataframe thead th {\n",
       "        text-align: right;\n",
       "    }\n",
       "</style>\n",
       "<table border=\"1\" class=\"dataframe\">\n",
       "  <thead>\n",
       "    <tr style=\"text-align: right;\">\n",
       "      <th></th>\n",
       "      <th>Brand</th>\n",
       "      <th>Name</th>\n",
       "      <th>Operating System</th>\n",
       "      <th>Processor</th>\n",
       "      <th>Processor_brand</th>\n",
       "      <th>Processor_type</th>\n",
       "      <th>Warranty</th>\n",
       "      <th>RAM_GB</th>\n",
       "      <th>RAM_type</th>\n",
       "      <th>ROM</th>\n",
       "      <th>ROM_type</th>\n",
       "      <th>Display_cm</th>\n",
       "      <th>Price</th>\n",
       "      <th>Rating</th>\n",
       "    </tr>\n",
       "  </thead>\n",
       "  <tbody>\n",
       "    <tr>\n",
       "      <th>624</th>\n",
       "      <td>ASUS</td>\n",
       "      <td>ASUS Core i3 10th Gen</td>\n",
       "      <td>64 bit Windows 11 Operating System</td>\n",
       "      <td>Intel Core i5 Processor (8th Gen)</td>\n",
       "      <td>Intel</td>\n",
       "      <td>Core i5</td>\n",
       "      <td>1 Year Onsite Warranty</td>\n",
       "      <td>8</td>\n",
       "      <td>DDR4</td>\n",
       "      <td>512 GB SSD</td>\n",
       "      <td>SSD</td>\n",
       "      <td>39.62</td>\n",
       "      <td>441940</td>\n",
       "      <td>5.0</td>\n",
       "    </tr>\n",
       "  </tbody>\n",
       "</table>\n",
       "</div>"
      ],
      "text/plain": [
       "    Brand                    Name                    Operating System  \\\n",
       "624  ASUS  ASUS Core i3 10th Gen   64 bit Windows 11 Operating System   \n",
       "\n",
       "                             Processor Processor_brand Processor_type  \\\n",
       "624  Intel Core i5 Processor (8th Gen)           Intel       Core i5    \n",
       "\n",
       "                   Warranty  RAM_GB RAM_type         ROM ROM_type  Display_cm  \\\n",
       "624  1 Year Onsite Warranty       8     DDR4  512 GB SSD      SSD       39.62   \n",
       "\n",
       "      Price  Rating  \n",
       "624  441940     5.0  "
      ]
     },
     "execution_count": 222,
     "metadata": {},
     "output_type": "execute_result"
    }
   ],
   "source": [
    "laptops_data[laptops_data['Price'] == laptops_data['Price'].max()]"
   ]
  },
  {
   "cell_type": "markdown",
   "id": "76d1294c",
   "metadata": {},
   "source": [
    "### Observation:\n",
    "'ASUS Core i3 10th Gen' is the costliest product sold"
   ]
  },
  {
   "cell_type": "markdown",
   "id": "3818c50e",
   "metadata": {},
   "source": [
    "# Inferences and Conclusion"
   ]
  },
  {
   "cell_type": "markdown",
   "id": "1eda2eff",
   "metadata": {},
   "source": [
    "#### The data used in this analysis was flipkart sales data of all the laptop brands.\n",
    "\n",
    "1. Asus Brand has high number of laptops and highest market share among all.\n",
    "2. Overall we can say that rating of many of laptops are more 3.0 and very less no.of laptops have low rating.\n",
    "3. Mostly the laptops price range lies between probably INR 30,000 to INR 100,000\n",
    "4. Samsung and Smartron brands have only 1 laptop in this data frame\n",
    "5. We can find many good laptops in the price range below INR 50,000 and with good rating.\n",
    "6. 'HP Pavilion Gaming Core i7 11th Gen' is the cheapest product sold.\n",
    "7. 'ASUS Core i3 10th Gen' is the costliest product sold."
   ]
  },
  {
   "cell_type": "code",
   "execution_count": null,
   "id": "0df80bb2",
   "metadata": {},
   "outputs": [],
   "source": []
  },
  {
   "cell_type": "code",
   "execution_count": null,
   "id": "cc9a4d2d",
   "metadata": {},
   "outputs": [],
   "source": []
  }
 ],
 "metadata": {
  "kernelspec": {
   "display_name": "Python 3 (ipykernel)",
   "language": "python",
   "name": "python3"
  },
  "language_info": {
   "codemirror_mode": {
    "name": "ipython",
    "version": 3
   },
   "file_extension": ".py",
   "mimetype": "text/x-python",
   "name": "python",
   "nbconvert_exporter": "python",
   "pygments_lexer": "ipython3",
   "version": "3.9.7"
  }
 },
 "nbformat": 4,
 "nbformat_minor": 5
}
